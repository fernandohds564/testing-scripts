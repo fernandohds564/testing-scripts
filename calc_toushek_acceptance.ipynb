{
 "cells": [
  {
   "cell_type": "code",
   "execution_count": 37,
   "metadata": {
    "ExecuteTime": {
     "end_time": "2021-08-12T14:55:11.421295Z",
     "start_time": "2021-08-12T14:55:11.369218Z"
    }
   },
   "outputs": [],
   "source": [
    "import numpy as _np\n",
    "\n",
    "from pymodels import si\n",
    "from pyaccel.optics import get_curlyh, calc_twiss, OpticsException\n",
    "import pyaccel.tracking as _tracking\n",
    "import pyaccel.lattice as _lattice\n",
    "\n",
    "%matplotlib qt5\n",
    "import matplotlib.pyplot as mplt\n",
    "import matplotlib.gridspec as mgs"
   ]
  },
  {
   "cell_type": "code",
   "execution_count": 131,
   "metadata": {
    "ExecuteTime": {
     "end_time": "2021-08-12T16:19:57.430477Z",
     "start_time": "2021-08-12T16:19:57.173576Z"
    }
   },
   "outputs": [],
   "source": [
    "accelerator = si.create_accelerator()\n",
    "energy_offsets = None\n",
    "track = True\n",
    "kwargs = dict()"
   ]
  },
  {
   "cell_type": "code",
   "execution_count": 166,
   "metadata": {
    "ExecuteTime": {
     "end_time": "2021-08-12T16:42:27.608076Z",
     "start_time": "2021-08-12T16:40:50.004743Z"
    }
   },
   "outputs": [],
   "source": [
    "hmax = _lattice.get_attribute(accelerator, 'hmax')\n",
    "hmin = _lattice.get_attribute(accelerator, 'hmin')\n",
    "\n",
    "vcham_sts = accelerator.vchamber_on\n",
    "rad_sts = accelerator.radiation_on\n",
    "cav_sts = accelerator.cavity_on\n",
    "\n",
    "accelerator.radiation_on = False\n",
    "accelerator.cavity_on = False\n",
    "accelerator.vchamber_on = False\n",
    "\n",
    "twi0, *_ = calc_twiss(accelerator)\n",
    "\n",
    "if energy_offsets is None:\n",
    "    energy_offsets = _np.linspace(1e-6, 6e-2, 60)\n",
    "\n",
    "if _np.any(energy_offsets < 0):\n",
    "    raise ValueError('delta must be a positive vector.')\n",
    "\n",
    "curh_pos = _np.full((energy_offsets.size, len(accelerator)), _np.inf)\n",
    "curh_neg = _np.full((energy_offsets.size, len(accelerator)), _np.inf)\n",
    "\n",
    "# Calculate physical aperture\n",
    "tune_pos = _np.full((2, energy_offsets.size), _np.nan)\n",
    "tune_neg = _np.full((2, energy_offsets.size), _np.nan)\n",
    "ap_phys_pos = _np.zeros(energy_offsets.size)\n",
    "ap_phys_neg = _np.zeros(energy_offsets.size)\n",
    "twiss_pos = [None] * energy_offsets.size\n",
    "twiss_neg = [None] * energy_offsets.size\n",
    "# positive energies\n",
    "try:\n",
    "    for idx, delta in enumerate(energy_offsets):\n",
    "        twi, *_ = calc_twiss(accelerator, energy_offset=delta)\n",
    "        if _np.any(_np.isnan(twi[0].betax)):\n",
    "            raise OpticsException('error')\n",
    "        tune_pos[0, idx] = twi.mux[-1] / 2 / _np.pi\n",
    "        tune_pos[1, idx] = twi.muy[-1] / 2 / _np.pi\n",
    "        twiss_pos[idx] = twi\n",
    "        dcox = twi.rx - twi0.rx\n",
    "        dcoxp = twi.px - twi0.px\n",
    "        curh_pos[idx] = get_curlyh(twi.betax, twi.alphax, dcox, dcoxp)\n",
    "\n",
    "        apper_loc = _np.minimum(\n",
    "            (hmax - twi.rx)**2, (hmin + twi.rx)**2)\n",
    "        ap_phys_pos[idx] = _np.min(apper_loc / twi.betax)\n",
    "except (OpticsException, _tracking.TrackingException):\n",
    "    pass\n",
    "\n",
    "# negative energies\n",
    "try:\n",
    "    for idx, delta in enumerate(energy_offsets):\n",
    "        twi, *_ = calc_twiss(accelerator, energy_offset=-delta)\n",
    "        if _np.any(_np.isnan(twi[0].betax)):\n",
    "            raise OpticsException('error')\n",
    "        tune_neg[0, idx] = twi.mux[-1] / 2 / _np.pi\n",
    "        tune_neg[1, idx] = twi.muy[-1] / 2 / _np.pi\n",
    "        twiss_neg[idx] = twi\n",
    "        dcox = twi.rx - twi0.rx\n",
    "        dcoxp = twi.px - twi0.px\n",
    "        curh_neg[idx] = get_curlyh(twi.betax, twi.alphax, dcox, dcoxp)\n",
    "\n",
    "        apper_loc = _np.minimum(\n",
    "            (hmax - twi.rx)**2, (hmin + twi.rx)**2)\n",
    "        ap_phys_neg[idx] = _np.min(apper_loc / twi.betax)\n",
    "except (OpticsException, _tracking.TrackingException):\n",
    "    pass\n",
    "\n",
    "# Considering synchrotron oscillations, negative energy deviations will\n",
    "# turn into positive ones and vice-versa, so the apperture must be\n",
    "# symmetric:\n",
    "ap_phys = _np.minimum(ap_phys_pos, ap_phys_neg)\n",
    "\n",
    "# Calculate Dynamic Aperture\n",
    "ap_dyn_pos = _np.full(energy_offsets.shape, _np.inf)\n",
    "ap_dyn_neg = _np.full(energy_offsets.shape, _np.inf)\n",
    "if track:\n",
    "    nturns = kwargs.get('nturns_track', 131)\n",
    "    curh_track = kwargs.get(\n",
    "        'curh_track', _np.linspace(0, 4e-6, 30))\n",
    "    ener_pos = kwargs.get(\n",
    "        'delta_track_pos', _np.linspace(0.02, energy_offsets.max(), 20))\n",
    "    ener_neg = kwargs.get('delta_track_neg', -ener_pos)\n",
    "\n",
    "    # Find de 4D orbit to track around it:\n",
    "    rin_pos = _np.full((6, ener_pos.size, curh_track.size), _np.nan)\n",
    "    try:\n",
    "        for idx, en in enumerate(ener_pos):\n",
    "            rin_pos[:4, idx, :] = _tracking.find_orbit4(\n",
    "                accelerator, energy_offset=en).ravel()[:, None]\n",
    "    except _tracking.TrackingException:\n",
    "        pass\n",
    "    rin_pos = rin_pos.reshape(6, -1)\n",
    "\n",
    "    rin_neg = _np.full((6, ener_neg.size, curh_track.size), _np.nan)\n",
    "    try:\n",
    "        for idx, en in enumerate(ener_neg):\n",
    "            rin_neg[:4, idx, :] = _tracking.find_orbit4(\n",
    "                accelerator, energy_offset=en).ravel()[:, None]\n",
    "    except _tracking.TrackingException:\n",
    "        pass\n",
    "    rin_neg = rin_neg.reshape(6, -1)\n",
    "\n",
    "    # Get beta at tracking energies to define initial tracking angle:\n",
    "    beta_pos = _np.ones(energy_offsets.size)\n",
    "    beta_neg = beta_pos.copy()\n",
    "    for idx, (twip, twin) in enumerate(zip(twiss_pos, twiss_neg)):\n",
    "        if twip is not None:\n",
    "            beta_pos[idx] = twip[0].betax\n",
    "        if twin is not None:\n",
    "            beta_neg[idx] = twin[0].betax\n",
    "    beta_pos = _np.interp(ener_pos, energy_offsets, beta_pos)\n",
    "    beta_neg = _np.interp(-ener_neg, energy_offsets, beta_neg)\n",
    "\n",
    "    accelerator.cavity_on = True\n",
    "    accelerator.radiation_on = True\n",
    "    accelerator.vchamber_on = True\n",
    "    orb6d = _tracking.find_orbit6(accelerator)\n",
    "\n",
    "    # Track positive energies\n",
    "    curh0, ener = _np.meshgrid(curh_track, ener_pos)\n",
    "    xl = _np.sqrt(curh0/beta_pos[:, None])\n",
    "\n",
    "    rin_pos[1, :] += xl.ravel()\n",
    "    rin_pos[2, :] += 1e-6\n",
    "    rin_pos[4, :] = orb6d[4] + ener.ravel()\n",
    "    rin_pos[5, :] = orb6d[5]\n",
    "\n",
    "    _, _, lostturn_pos, *_ = _tracking.ring_pass(\n",
    "        accelerator, rin_pos, nturns, turn_by_turn=False)\n",
    "    lostturn_pos = _np.reshape(lostturn_pos, curh0.shape)\n",
    "    lost_pos = lostturn_pos != nturns\n",
    "\n",
    "    ind_dyn = _np.argmax(lost_pos, axis=1)\n",
    "    ap_dyn_pos = curh_track[ind_dyn]\n",
    "    ap_dyn_pos = _np.interp(energy_offsets, ener_pos, ap_dyn_pos)\n",
    "\n",
    "    # Track negative energies:\n",
    "    curh0, ener = _np.meshgrid(curh_track, ener_neg)\n",
    "    xl = _np.sqrt(curh0/beta_neg[:, None])\n",
    "\n",
    "    rin_neg[1, :] += xl.ravel()\n",
    "    rin_neg[2, :] += 1e-6\n",
    "    rin_neg[4, :] = orb6d[4] + ener.ravel()\n",
    "    rin_neg[5, :] = orb6d[5]\n",
    "\n",
    "    _, _, lostturn_neg, *_ = _tracking.ring_pass(\n",
    "        accelerator, rin_neg, nturns, turn_by_turn=False)\n",
    "    lostturn_neg = _np.reshape(lostturn_neg, curh0.shape)\n",
    "    lost_neg = lostturn_neg != nturns\n",
    "\n",
    "    ind_dyn = _np.argmax(lost_neg, axis=1)\n",
    "    ap_dyn_neg = curh_track[ind_dyn]\n",
    "    ap_dyn_neg = _np.interp(energy_offsets, -ener_neg, ap_dyn_neg)\n",
    "\n",
    "# Calculate Aperture and Acceptance\n",
    "ap_dyn_pos = _np.minimum(ap_dyn_pos, ap_phys)\n",
    "for idx in _np.arange(1, ap_dyn_pos.size):\n",
    "    ap_dyn_pos[idx] = _np.minimum(ap_dyn_pos[idx], ap_dyn_pos[idx-1])\n",
    "\n",
    "ap_dyn_neg = _np.minimum(ap_dyn_neg, ap_phys)\n",
    "for idx in _np.arange(1, ap_dyn_neg.size):\n",
    "    ap_dyn_neg[idx] = _np.minimum(ap_dyn_neg[idx], ap_dyn_neg[idx-1])\n",
    "\n",
    "# return curh_pos, curh_neg\n",
    "comp = curh_pos[:, :] >= ap_dyn_pos[:, None]\n",
    "idcs = _np.argmax(comp, axis=0)\n",
    "boo = _np.take_along_axis(comp, _np.expand_dims(idcs, axis=0), axis=0)\n",
    "idcs[~boo.ravel()] = ap_dyn_pos.size-1\n",
    "accep_pos = energy_offsets[idcs]\n",
    "\n",
    "comp = curh_neg[:, :] >= ap_dyn_neg[:, None]\n",
    "idcs = _np.argmax(comp, axis=0)\n",
    "boo = _np.take_along_axis(comp, _np.expand_dims(idcs, axis=0), axis=0)\n",
    "idcs[~boo.ravel()] = ap_dyn_pos.size-1\n",
    "accep_neg = -energy_offsets[idcs]\n",
    "\n",
    "accelerator.vchamber_on = vcham_sts\n",
    "accelerator.radiation_on = rad_sts\n",
    "accelerator.cavity_on = cav_sts\n",
    "\n",
    "# return accep_pos, accep_neg"
   ]
  },
  {
   "cell_type": "code",
   "execution_count": 168,
   "metadata": {
    "ExecuteTime": {
     "end_time": "2021-08-12T16:42:35.144955Z",
     "start_time": "2021-08-12T16:42:35.091355Z"
    }
   },
   "outputs": [
    {
     "data": {
      "text/plain": [
       "[<matplotlib.lines.Line2D at 0x7f2bcd0416d8>]"
      ]
     },
     "execution_count": 168,
     "metadata": {},
     "output_type": "execute_result"
    }
   ],
   "source": [
    "mplt.plot(twi0.spos % (518.4/5), accep_neg)\n",
    "mplt.plot(twi0.spos % (518.4/5), accep_pos)"
   ]
  },
  {
   "cell_type": "code",
   "execution_count": null,
   "metadata": {},
   "outputs": [],
   "source": []
  }
 ],
 "metadata": {
  "hide_input": false,
  "kernelspec": {
   "display_name": "Python 3.6.9 64-bit",
   "language": "python",
   "name": "python3"
  },
  "language_info": {
   "codemirror_mode": {
    "name": "ipython",
    "version": 3
   },
   "file_extension": ".py",
   "mimetype": "text/x-python",
   "name": "python",
   "nbconvert_exporter": "python",
   "pygments_lexer": "ipython3",
   "version": "3.6.9"
  },
  "vscode": {
   "interpreter": {
    "hash": "31f2aee4e71d21fbe5cf8b01ff0e069b9275f58929596ceb00d14d90e3e16cd6"
   }
  }
 },
 "nbformat": 4,
 "nbformat_minor": 2
}
