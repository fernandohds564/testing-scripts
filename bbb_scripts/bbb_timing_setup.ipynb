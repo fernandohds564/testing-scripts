{
 "cells": [
  {
   "cell_type": "code",
   "execution_count": 4,
   "metadata": {
    "ExecuteTime": {
     "end_time": "2020-10-02T21:51:03.461116Z",
     "start_time": "2020-10-02T21:51:03.368290Z"
    },
    "init_cell": true
   },
   "outputs": [],
   "source": [
    "import time\n",
    "\n",
    "import numpy as np\n",
    "import epics\n",
    "\n",
    "%gui qt5\n",
    "%matplotlib qt5\n",
    "\n",
    "import matplotlib.pyplot as plt\n",
    "import matplotlib.gridspec as mpl_gs\n",
    "import matplotlib.cm as cmap\n",
    "from matplotlib import rcParams\n",
    "rcParams.update(\n",
    "    {'font.size': 14,'lines.linewidth': 2, 'axes.grid': True})\n",
    "\n",
    "from siriuspy.devices import BunchbyBunch"
   ]
  },
  {
   "cell_type": "code",
   "execution_count": 5,
   "metadata": {
    "ExecuteTime": {
     "end_time": "2020-10-02T21:51:03.552311Z",
     "start_time": "2020-10-02T21:51:03.462113Z"
    },
    "init_cell": true
   },
   "outputs": [],
   "source": [
    "def plot_sweep_results(ctrl_values, mon_values, ctrl_label=None, mon_label=None):\n",
    "    f = plt.figure(figsize=(9,5))\n",
    "    gs = mpl_gs.GridSpec(1, 1)\n",
    "    gs.update(\n",
    "        left=0.15, right=0.98, bottom=0.12, top=0.90,\n",
    "        hspace=0.01, wspace=0.1)\n",
    "    ax = plt.subplot(gs[0, 0])\n",
    "    ax.plot(ctrl_values, mon_values)\n",
    "    if ctrl_pvname:\n",
    "        ax.set_xlabel(ctrl_pvname)\n",
    "    if mon_pvname:\n",
    "        ax.set_ylabel(mon_pvname)\n",
    "    f.show()\n",
    "    return f, ax"
   ]
  },
  {
   "cell_type": "code",
   "execution_count": 6,
   "metadata": {
    "ExecuteTime": {
     "end_time": "2020-10-02T21:51:03.662446Z",
     "start_time": "2020-10-02T21:51:03.553499Z"
    },
    "init_cell": true
   },
   "outputs": [],
   "source": [
    "bbb = BunchbyBunch('L')"
   ]
  },
  {
   "cell_type": "code",
   "execution_count": null,
   "metadata": {
    "ExecuteTime": {
     "end_time": "2020-10-02T21:36:32.654865Z",
     "start_time": "2020-10-02T21:36:32.651565Z"
    }
   },
   "outputs": [],
   "source": [
    "bbb.connected"
   ]
  },
  {
   "cell_type": "markdown",
   "metadata": {
    "ExecuteTime": {
     "end_time": "2020-08-25T19:50:19.206843Z",
     "start_time": "2020-08-25T19:50:19.200370Z"
    },
    "heading_collapsed": true
   },
   "source": [
    "# Longitudinal Feedback Timing Setup"
   ]
  },
  {
   "cell_type": "markdown",
   "metadata": {
    "ExecuteTime": {
     "end_time": "2020-08-25T19:50:19.206843Z",
     "start_time": "2020-08-25T19:50:19.200370Z"
    },
    "hidden": true
   },
   "source": [
    "The process of adjusting longitudinal feedback settings for optimal front-end beam signal detection and best back-end performance is historically called “feedback timing”.\n",
    "In this application note I will present a step-by-step procedure for timing the longitudinal feedback system based on an iGp baseband processor and FBE longitudinal front/back unit.\n",
    "\n",
    "In this process we are trying to achieve several goals:\n",
    "\n",
    " - Adjust ADC sampling clock relative to the beam signal;\n",
    " - Adjust front-end carrier phase to achieve phase detection;\n",
    " - Adjust DAC clock to optimize kick signal for the right bunch;\n",
    " - Adjust back-end carrier phase to maximize the kick voltage.\n",
    "\n",
    "Note that there is certain symmetry in this procedure - we are adjusting one clock and one carrier phase in both front and back-ends.\n",
    "\n",
    "Some of the steps below are only needed during initial installation or after hardware reconfiguration, e.g. cable/attenuator/amplifier replacement or software/firmware/gateware upgrade."
   ]
  },
  {
   "cell_type": "markdown",
   "metadata": {
    "ExecuteTime": {
     "end_time": "2020-08-25T19:50:19.206843Z",
     "start_time": "2020-08-25T19:50:19.200370Z"
    },
    "heading_collapsed": true,
    "hidden": true
   },
   "source": [
    "## Step 1: Rough front-end timing"
   ]
  },
  {
   "cell_type": "markdown",
   "metadata": {
    "ExecuteTime": {
     "end_time": "2020-08-25T19:50:19.206843Z",
     "start_time": "2020-08-25T19:50:19.200370Z"
    },
    "hidden": true
   },
   "source": [
    "At this point the setting of the front-end phase shifter is arbitrary, so the mixer can be anywhere from amplitude to phase detection.\n",
    "We would like to adjust the phase shifter for amplitude detection and then roughly time the ADC.\n",
    "This is necessarily an iterative process where we alternate between adjusting the ADC delay and the phase shifter setting.\n",
    "Typically one can see the effect of the phase shifter adjustment pretty much at any ADC delay - so we start from phase shifter adjustment.\n",
    "\n",
    "Move the phase shifter in steps of 100 (each step of the phase shifter DAC is ~0.25 degrees) until the single-bunch spike amplitude is maximized\n",
    "(sign is unimportant) on the mean plot in the waveform window. This step can be automated by the sweep script as shown here.\n",
    "Roughly time the front-end by moving the ADC delay in steps of 500 ps and observing the response in the waveform window.\n",
    "We are looking for maximum mean amplitude of the single-bunch spike. This step can also be automated."
   ]
  },
  {
   "cell_type": "markdown",
   "metadata": {
    "ExecuteTime": {
     "end_time": "2020-08-27T04:39:45.579293Z",
     "start_time": "2020-08-27T04:39:45.576058Z"
    },
    "hidden": true
   },
   "source": [
    "1- Move the phase shifter in steps of 50 (each step of the phase shifter DAC is ~0.25 degrees) until the single-bunch spike amplitude is maximized (sign is unimportant) on the mean plot in the waveform window."
   ]
  },
  {
   "cell_type": "code",
   "execution_count": null,
   "metadata": {
    "ExecuteTime": {
     "start_time": "2020-08-27T05:48:46.620Z"
    },
    "hidden": true
   },
   "outputs": [],
   "source": [
    "phases = np.arange(0, 2000, 50)\n",
    "mean_values = bbb.sweep_phase_shifter(phases, delay=2)"
   ]
  },
  {
   "cell_type": "code",
   "execution_count": null,
   "metadata": {
    "hidden": true
   },
   "outputs": [],
   "source": [
    "bunch_number = 1\n",
    "vals = mean_values[:, bunch_number - 1]\n",
    "plot_sweep_results(phases, vals, ctrl_label='Servo Phase', mon_label='SRAM Mean')"
   ]
  },
  {
   "cell_type": "markdown",
   "metadata": {
    "ExecuteTime": {
     "end_time": "2020-08-25T19:50:26.721056Z",
     "start_time": "2020-08-25T19:50:26.409541Z"
    },
    "hidden": true
   },
   "source": [
    "set the maximum value:"
   ]
  },
  {
   "cell_type": "code",
   "execution_count": null,
   "metadata": {
    "ExecuteTime": {
     "end_time": "2020-08-25T19:50:26.721056Z",
     "start_time": "2020-08-25T19:50:26.409541Z"
    },
    "hidden": true
   },
   "outputs": [],
   "source": [
    "bbb.fbe.z_phase = phases[np.argmax(vals)]"
   ]
  },
  {
   "cell_type": "markdown",
   "metadata": {
    "ExecuteTime": {
     "end_time": "2020-08-25T19:50:26.721056Z",
     "start_time": "2020-08-25T19:50:26.409541Z"
    },
    "hidden": true
   },
   "source": [
    "2- Roughly time the front-end by moving the ADC delay in steps of 500 ps and observing the response in the waveform window. We are looking for maximum mean amplitude of the single-bunch spike."
   ]
  },
  {
   "cell_type": "code",
   "execution_count": null,
   "metadata": {
    "ExecuteTime": {
     "end_time": "2020-08-25T19:50:26.721056Z",
     "start_time": "2020-08-25T19:50:26.409541Z"
    },
    "hidden": true
   },
   "outputs": [],
   "source": [
    "adc_delays = np.arange(0, 1500, 100)\n",
    "mean_values = bbb.sweep_adc_delay(adc_delays, delay=2)"
   ]
  },
  {
   "cell_type": "code",
   "execution_count": null,
   "metadata": {
    "ExecuteTime": {
     "end_time": "2020-08-27T05:56:47.742254Z",
     "start_time": "2020-08-27T05:56:47.728086Z"
    },
    "hidden": true
   },
   "outputs": [],
   "source": [
    "bunch_number = 1\n",
    "vals = mean_values[:, bunch_number - 1]\n",
    "plot_sweep_results(adc_delays, vals, ctrl_label='ADC Delay', mon_label='SRAM Mean')"
   ]
  },
  {
   "cell_type": "markdown",
   "metadata": {
    "ExecuteTime": {
     "end_time": "2020-08-25T19:50:26.721056Z",
     "start_time": "2020-08-25T19:50:26.409541Z"
    },
    "hidden": true
   },
   "source": [
    "set the maximum value:"
   ]
  },
  {
   "cell_type": "code",
   "execution_count": null,
   "metadata": {
    "ExecuteTime": {
     "end_time": "2020-08-25T19:50:26.721056Z",
     "start_time": "2020-08-25T19:50:26.409541Z"
    },
    "hidden": true
   },
   "outputs": [],
   "source": [
    "bbb.timing.adc_delay = adc_delays[np.argmax(vals)]"
   ]
  },
  {
   "cell_type": "markdown",
   "metadata": {
    "ExecuteTime": {
     "end_time": "2020-08-27T04:41:08.349008Z",
     "start_time": "2020-08-27T04:41:08.341260Z"
    },
    "hidden": true
   },
   "source": [
    "3- Repeat the two steps above after the first pass."
   ]
  },
  {
   "cell_type": "markdown",
   "metadata": {
    "heading_collapsed": true,
    "hidden": true
   },
   "source": [
    "## Step 2: Adjusting fiducial delay"
   ]
  },
  {
   "cell_type": "markdown",
   "metadata": {
    "ExecuteTime": {
     "end_time": "2020-08-27T05:00:20.772007Z",
     "start_time": "2020-08-27T05:00:20.761358Z"
    },
    "hidden": true
   },
   "source": [
    "***only needed during initial installation or after hardware reconfiguration***\n",
    "\n",
    "At this point we need to adjust FIDUCIAL DELAY in the timing panel. To do so, determine which bucket is seen as filled on the waveform plots (Nwfm).\n",
    "Let's suppose the actual filled bucket number is Nact. Then FIDUCIAL DELAY must be increased by (Nwfm-Nact)/2.\n",
    "The resultant value for FIDUCIAL DELAY should be less than h/2 where h is the harmonic number. If the value is larger than or equal to h/2, subtract h/2 from it.\n",
    "This adjustment has granularity of two buckets. If the result is one bucket off, increase FIDUCIAL SIGNAL OFFSET by one RF period."
   ]
  },
  {
   "cell_type": "markdown",
   "metadata": {
    "heading_collapsed": true,
    "hidden": true
   },
   "source": [
    "## Step 3: Setting front-end for phase detection"
   ]
  },
  {
   "cell_type": "markdown",
   "metadata": {
    "hidden": true
   },
   "source": [
    "Now we need to set up the front-end for phase detection. Adjust the front-end phase shifter so that the mean of the filled bunch is the same as that of the empty buckets.\n",
    "\n",
    "Here we are sweeping the front-end phase shifter from 0 to 2000 with steps of 50 and recording the mean value of bunch 1.\n",
    "\n",
    "From this sweep one can determine phase shifter setting that produces phase-detection (no offset in the filled bucket relative to the empty buckets).\n"
   ]
  },
  {
   "cell_type": "code",
   "execution_count": null,
   "metadata": {
    "ExecuteTime": {
     "end_time": "2020-08-27T06:16:38.282370Z",
     "start_time": "2020-08-27T06:15:56.234643Z"
    },
    "hidden": true
   },
   "outputs": [],
   "source": [
    "phases = np.linspace(1500, 1650, 21)\n",
    "mean_values = bbb.sweep_phase_shifter(phases, wait=2)"
   ]
  },
  {
   "cell_type": "code",
   "execution_count": null,
   "metadata": {
    "ExecuteTime": {
     "end_time": "2020-08-27T06:16:43.985980Z",
     "start_time": "2020-08-27T06:16:43.275885Z"
    },
    "hidden": true
   },
   "outputs": [],
   "source": [
    "bunch_number = 1\n",
    "plot_sweep_results(phases, mean_values, ctrl_label='Servo Phase', mon_label='SRAM Mean')"
   ]
  },
  {
   "cell_type": "code",
   "execution_count": null,
   "metadata": {
    "ExecuteTime": {
     "end_time": "2020-08-27T06:16:55.225899Z",
     "start_time": "2020-08-27T06:16:55.219200Z"
    },
    "hidden": true
   },
   "outputs": [],
   "source": [
    "slc = slice(bunch_number-1 +10, bunch_number-1 -10)\n",
    "values = mean_values - mean_values[:, slc].mean(axis=1)[:, None]\n",
    "norm_values = np.abs(values)\n",
    "\n",
    "norms = norm_values[:, bunch_number-1]\n",
    "min_val = phases[np.argmin(norms)]\n",
    "print(min_val)"
   ]
  },
  {
   "cell_type": "code",
   "execution_count": null,
   "metadata": {
    "ExecuteTime": {
     "end_time": "2020-08-27T06:17:28.558904Z",
     "start_time": "2020-08-27T06:17:28.554801Z"
    },
    "hidden": true
   },
   "outputs": [],
   "source": [
    "bbb.fbe.z_phase = min_val"
   ]
  },
  {
   "cell_type": "markdown",
   "metadata": {
    "heading_collapsed": true,
    "hidden": true
   },
   "source": [
    "## Step 4: Determining the synchrotron frequency"
   ]
  },
  {
   "cell_type": "markdown",
   "metadata": {
    "hidden": true
   },
   "source": [
    "As a starting point one should use the nominal value known from previous measurement and/or machine parameters.\n",
    "\n",
    "After steps 1 and 2 it might be possible to see the synchrotron peak in the averaged spectrum plot.\n",
    "\n",
    "Use RECORD LENGTH and REC. DOWNSAMPLE settings to extend data acquisition time span and, therefore, achieve finer frequency resolution."
   ]
  },
  {
   "cell_type": "markdown",
   "metadata": {
    "heading_collapsed": true,
    "hidden": true
   },
   "source": [
    "## Step 5: Turn on the drive"
   ]
  },
  {
   "cell_type": "markdown",
   "metadata": {
    "hidden": true
   },
   "source": [
    "Drive panelNow we need to drive the beam at the synchrotron frequency. Open the drive panel and set it up as follows:\n",
    "\n",
    " - Set DRIVE ENABLE to “DRIVE”\n",
    " - Set DRIVE MODE to “Turn-by-turn”\n",
    " - Type synchrotron requency determined in step 3 in the FREQUENCY field\n",
    " - Set WAVEFORM SELECTION to “Sine”\n",
    " - Set AMPLITUDE to 1\n",
    " - Set DRIVE PATTERN to all bunches. For example, if harmonic number is 232, type “1:232”"
   ]
  },
  {
   "cell_type": "markdown",
   "metadata": {
    "heading_collapsed": true,
    "hidden": true
   },
   "source": [
    "## Step 6: Optimizing back-end carrier phase"
   ]
  },
  {
   "cell_type": "markdown",
   "metadata": {
    "hidden": true
   },
   "source": [
    "At this point in the procedure you should observe some beam motion in the filled bucket, driven by the excitation we have applied.\n",
    "\n",
    "It might be useful to fine-tune the drive frequency a bit to improve the response.\n",
    "\n",
    "We are looking at the RMS plot on the waveform panel - the RMS of the filled bunch should be visibly above that of the empty buckets.\n",
    "\n",
    "Adjust back-end phase shifter to maximize that RMS value."
   ]
  },
  {
   "cell_type": "code",
   "execution_count": null,
   "metadata": {
    "ExecuteTime": {
     "end_time": "2020-08-27T09:11:46.118766Z",
     "start_time": "2020-08-27T09:07:35.918175Z"
    },
    "hidden": true
   },
   "outputs": [],
   "source": [
    "be_phases = np.linspace(200, 750, 50)\n",
    "rms_values = bbb.sweep_backend_phase(be_phases, wait=5)"
   ]
  },
  {
   "cell_type": "code",
   "execution_count": null,
   "metadata": {
    "ExecuteTime": {
     "end_time": "2020-08-27T09:15:50.493963Z",
     "start_time": "2020-08-27T09:15:50.440362Z"
    },
    "hidden": true
   },
   "outputs": [],
   "source": [
    "plot_sweep_results(\n",
    "    be_phases, rms_values,\n",
    "    ctrl_label='Backend Phase', mon_label='SRAM Peak Amplitude')"
   ]
  },
  {
   "cell_type": "markdown",
   "metadata": {
    "ExecuteTime": {
     "end_time": "2020-08-25T19:50:26.721056Z",
     "start_time": "2020-08-25T19:50:26.409541Z"
    },
    "hidden": true
   },
   "source": [
    "set the maximum value:"
   ]
  },
  {
   "cell_type": "code",
   "execution_count": null,
   "metadata": {
    "hidden": true
   },
   "outputs": [],
   "source": [
    "bbb.fbe.be_phase = delays[np.argmax(rms_values)]"
   ]
  },
  {
   "cell_type": "markdown",
   "metadata": {
    "heading_collapsed": true,
    "hidden": true
   },
   "source": [
    "## Step 7: Determining back-end bucket offset"
   ]
  },
  {
   "cell_type": "markdown",
   "metadata": {
    "hidden": true
   },
   "source": [
    "***only needed during initial installation or after hardware reconfiguration***\n",
    "\n",
    "At this point in the process the system should be exciting the beam strongly at the synchrotron frequency.\n",
    "The difference between the excited and the normal states can be checked by flipping DRIVE ENABLE back to “FEEDBACK” for a few seconds.\n",
    "\n",
    "Now we need to determine which channel in the back-end is actually kicking the beam. To do that we perform a binary search.\n",
    "Initially we are driving all buckets, say 1:232. Now we will change the DRIVE PATTERN to only drive one half of the previous range, that is 1:116.\n",
    "If the beam is still driven, then continue dividing the current range, otherwise switch to the other half, i.e. 117:232.\n",
    "Using this method after a few steps (8 for 232) you will identify a single bucket Nm which, when enabled in the DRIVE PATTERN, excites the beam.\n",
    "Now, adjust OUTPUT DELAY on the timing panel by Nm-Nact, where Nact is the actual filled bucket number. If the delta is negative, add harmonic number.\n",
    "After this adjustment, setting the DRIVE PATTERN to Nact should drive the beam."
   ]
  },
  {
   "cell_type": "markdown",
   "metadata": {
    "heading_collapsed": true,
    "hidden": true
   },
   "source": [
    "## Step 8: DAC clock timing"
   ]
  },
  {
   "cell_type": "markdown",
   "metadata": {
    "hidden": true
   },
   "source": [
    "Next step is to time the DAC output relative to the beam. We will start from maximizing the excitation response while adjusting the DAC DELAY on the timing panel.\n",
    "\n",
    "The sweep script is very useful during this step - see an example. Reasonable step size during this adjustment is 100 ps.\n",
    "\n",
    "During this adjustment it might be necessary to lower the drive amplitude if the front-end is being saturated - typically manifested by extended flat-top response.\n",
    "The drive amplitude should be lowered until the RMS at the top of the sweep starts to drop.\n",
    "\n",
    "Note that maximizing the response might require changes to the OUTPUT DELAY value.\n",
    "If in your sweep the RMS continues to increase at the endpoint (0 or TRF), you need to extend the sweep further.\n",
    "Back-end timing adjustment has two controls“ DAC DELAY with the range of one RF period and 10 ps step and OUTPUT DELAY with the range of one turn and one RF period step.\n",
    "Take a system with 2 ns RF period as an example. Then setting of OUTPUT DELAY of N and DAC DELAY of 1990 ps is 10 ps away from OUTPUT DELAY of N+1 and DAC DELAY of 0 ps.\n",
    "\n",
    "Once the RMS response is maximized, we can fine-tune the timing. This method has been proposed by Alessandro Drago of LNF-INFN.\n",
    "The idea is to equalize the parasitic excitation of the neighboring buckets. Set the AMPLITUDE on the drive panel to 1.\n",
    "Then set the DRIVE PATTERN to two values: first to Nact-1 and then to Nact+1. Note the RMS levels at each of these settings.\n",
    "If the reading at Nact-1 is larger, increase DAC DELAY in small (10 ps) steps. Otherwise, reduce DAC DELAY.\n",
    "The goal is to equalize the coupling to the two buckets adjacent to the driven one."
   ]
  },
  {
   "cell_type": "code",
   "execution_count": null,
   "metadata": {
    "ExecuteTime": {
     "end_time": "2020-08-28T02:59:10.117473Z",
     "start_time": "2020-08-28T02:55:49.950055Z"
    },
    "hidden": true
   },
   "outputs": [],
   "source": [
    "dac_delays = np.linspace(1500, 1950, 20)\n",
    "rms_values864 = bbb.sweep_dac_delay(dac_delays, wait=10)"
   ]
  },
  {
   "cell_type": "code",
   "execution_count": null,
   "metadata": {
    "ExecuteTime": {
     "end_time": "2020-08-28T03:09:28.480859Z",
     "start_time": "2020-08-28T03:06:08.324409Z"
    },
    "hidden": true
   },
   "outputs": [],
   "source": [
    "rms_values002 = bbb.sweep_dac_delay(dac_delays, wait=10)"
   ]
  },
  {
   "cell_type": "code",
   "execution_count": null,
   "metadata": {
    "ExecuteTime": {
     "end_time": "2020-08-28T03:09:36.987090Z",
     "start_time": "2020-08-28T03:09:36.928625Z"
    },
    "hidden": true
   },
   "outputs": [],
   "source": [
    "rms_values = np.array([rms_values864, rms_values002]).T\n",
    "plot_sweep_results(\n",
    "    dac_delays, rms_values, ctrl_label='DAC Delay', mon_label='SRAM Peak Amplitude')"
   ]
  },
  {
   "cell_type": "markdown",
   "metadata": {
    "ExecuteTime": {
     "end_time": "2020-08-25T19:50:26.721056Z",
     "start_time": "2020-08-25T19:50:26.409541Z"
    },
    "hidden": true
   },
   "source": [
    "set the maximum value:"
   ]
  },
  {
   "cell_type": "code",
   "execution_count": null,
   "metadata": {
    "ExecuteTime": {
     "end_time": "2020-08-28T03:30:49.952104Z",
     "start_time": "2020-08-28T03:30:49.948926Z"
    },
    "hidden": true
   },
   "outputs": [],
   "source": [
    "bbb.timing.dac_delay = 1650"
   ]
  },
  {
   "cell_type": "markdown",
   "metadata": {
    "heading_collapsed": true,
    "hidden": true
   },
   "source": [
    "## Step 9: Final front-end timing    "
   ]
  },
  {
   "cell_type": "markdown",
   "metadata": {
    "hidden": true
   },
   "source": [
    "Finally we will optimize the front-end timing. This is done by adjusting the ADC DELAY setting on the timing panel to maximize the RMS motion of the filled bunch.\n",
    "Prior to the adjustment the drive amplitude needs to be reduced until the RMS signal starts to drop, thus avoiding saturation.\n",
    "\n",
    "Front-end design is typically quite wideband, so there might be a significant flat-top portion in the ADC response vs. clock timing.\n",
    "Optimal timing in this case is midway between the points where the response starts to drop off."
   ]
  },
  {
   "cell_type": "code",
   "execution_count": null,
   "metadata": {
    "ExecuteTime": {
     "end_time": "2020-08-28T03:24:18.637046Z",
     "start_time": "2020-08-28T03:21:18.489022Z"
    },
    "hidden": true
   },
   "outputs": [],
   "source": [
    "adc_delays = np.arange(0, 700, 40)\n",
    "rms_values = bbb.sweep_adc_delay(adc_delays, wait=10, mon_type='peak')"
   ]
  },
  {
   "cell_type": "markdown",
   "metadata": {
    "ExecuteTime": {
     "end_time": "2020-08-25T19:50:26.721056Z",
     "start_time": "2020-08-25T19:50:26.409541Z"
    },
    "hidden": true
   },
   "source": [
    "set the maximum value:"
   ]
  },
  {
   "cell_type": "code",
   "execution_count": null,
   "metadata": {
    "ExecuteTime": {
     "end_time": "2020-08-28T03:29:58.465125Z",
     "start_time": "2020-08-28T03:29:58.417810Z"
    },
    "hidden": true
   },
   "outputs": [],
   "source": [
    "plot_sweep_results(\n",
    "    adc_delays, rms_values, ctrl_label='ADC Delay', mon_label='SRAM Peak Amplitude')"
   ]
  },
  {
   "cell_type": "code",
   "execution_count": null,
   "metadata": {
    "ExecuteTime": {
     "end_time": "2020-08-28T03:30:54.274551Z",
     "start_time": "2020-08-28T03:30:54.270171Z"
    },
    "hidden": true
   },
   "outputs": [],
   "source": [
    "bbb.timing.adc_delay = 500"
   ]
  },
  {
   "cell_type": "markdown",
   "metadata": {
    "heading_collapsed": true
   },
   "source": [
    "# Configure Feedback Loop"
   ]
  },
  {
   "cell_type": "markdown",
   "metadata": {
    "hidden": true
   },
   "source": [
    "## Step 1: find the correct phase"
   ]
  },
  {
   "cell_type": "code",
   "execution_count": null,
   "metadata": {
    "ExecuteTime": {
     "end_time": "2020-08-28T08:01:31.283331Z",
     "start_time": "2020-08-28T07:59:51.054096Z"
    },
    "hidden": true
   },
   "outputs": [],
   "source": [
    "fb_phases = np.linspace(-180, 180, 20)\n",
    "rms_values = bbb.sweep_feedback_phase(fb_phases, wait=5)"
   ]
  },
  {
   "cell_type": "code",
   "execution_count": null,
   "metadata": {
    "ExecuteTime": {
     "end_time": "2020-08-28T08:03:27.876566Z",
     "start_time": "2020-08-28T08:03:27.836469Z"
    },
    "hidden": true
   },
   "outputs": [],
   "source": [
    "plot_sweep_results(\n",
    "    fb_phases, rms_values, ctrl_label='Coeff. Phase', mon_label='SRAM Peak Amplitude')"
   ]
  },
  {
   "cell_type": "code",
   "execution_count": null,
   "metadata": {
    "ExecuteTime": {
     "end_time": "2020-08-28T08:04:04.411117Z",
     "start_time": "2020-08-28T08:04:04.406349Z"
    },
    "hidden": true
   },
   "outputs": [],
   "source": [
    "bbb.feedback.edit_phase = 25 - 180\n",
    "bbb.feedback.cm_edit_apply()"
   ]
  },
  {
   "cell_type": "code",
   "execution_count": null,
   "metadata": {
    "hidden": true
   },
   "outputs": [],
   "source": []
  }
 ],
 "metadata": {
  "celltoolbar": "Initialization Cell",
  "hide_input": false,
  "kernelspec": {
   "display_name": "Python 3",
   "language": "python",
   "name": "python3"
  },
  "language_info": {
   "codemirror_mode": {
    "name": "ipython",
    "version": 3
   },
   "file_extension": ".py",
   "mimetype": "text/x-python",
   "name": "python",
   "nbconvert_exporter": "python",
   "pygments_lexer": "ipython3",
   "version": "3.6.9"
  }
 },
 "nbformat": 4,
 "nbformat_minor": 4
}
