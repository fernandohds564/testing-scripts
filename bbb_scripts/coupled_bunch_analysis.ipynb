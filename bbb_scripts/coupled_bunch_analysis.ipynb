{
 "cells": [
  {
   "cell_type": "code",
   "execution_count": 2,
   "metadata": {
    "ExecuteTime": {
     "end_time": "2020-10-02T18:04:51.010454Z",
     "start_time": "2020-10-02T18:04:42.312628Z"
    }
   },
   "outputs": [],
   "source": [
    "%gui qt5\n",
    "%matplotlib qt5\n",
    "from functools import partial as _partial\n",
    "import numpy as np\n",
    "from scipy.io import loadmat\n",
    "import scipy.signal as scy_sig\n",
    "\n",
    "import matplotlib.pyplot as plt\n",
    "import matplotlib.gridspec as mpl_gs\n",
    "import matplotlib.cm as cmap\n",
    "from matplotlib import rcParams\n",
    "from mpl_toolkits.mplot3d import Axes3D\n",
    "from matplotlib.collections import PolyCollection, LineCollection\n",
    "from matplotlib import colors as mcolors\n",
    "rcParams.update(\n",
    "    {'font.size': 16,'lines.linewidth': 2, 'axes.grid': True})\n",
    "\n",
    "from siriuspy.devices import BunchbyBunch\n",
    "from mathphys.functions import load_pickle"
   ]
  },
  {
   "cell_type": "code",
   "execution_count": 21,
   "metadata": {
    "ExecuteTime": {
     "end_time": "2020-10-02T18:21:13.241696Z",
     "start_time": "2020-10-02T18:21:13.233278Z"
    }
   },
   "outputs": [],
   "source": [
    "def process_data(data, center_freq, sigma_freq, T_rev, downsample=1):\n",
    "    \"\"\".\"\"\"\n",
    "    # remove DC component from bunches\n",
    "    data = data - data.mean(axis=0)[None, :]\n",
    "    \n",
    "    # get the analytic data vector, via discrete hilbert transform\n",
    "    data_anal = scy_sig.hilbert(data, axis=0)\n",
    "\n",
    "    # calculate DFT:\n",
    "    data_dft = np.fft.fft(data_anal, axis=0)\n",
    "    freq = np.fft.fftfreq(data_anal.shape[0], d=T_rev*downsample)\n",
    "    \n",
    "    # Apply Gaussian filter to get only the synchrotron frequency\n",
    "    H = np.exp(-(freq - center_freq)**2/2/sigma_freq**2)\n",
    "    H += np.exp(-(freq + center_freq)**2/2/sigma_freq**2)\n",
    "    H /= H.max()\n",
    "    data_dft *= H[:, None]\n",
    "\n",
    "    # compensate the different time samplings of each bunch:\n",
    "    dts = np.arange(data_anal.shape[1])/data_anal.shape[1] * T_rev\n",
    "    comp = np.exp(-1j*2*np.pi * freq[:, None]*dts[None, :])\n",
    "    data_dft *= comp\n",
    "    \n",
    "    # get the processed data by inverse DFT\n",
    "    data_anal = np.fft.ifft(data_dft, axis=0)\n",
    "    \n",
    "    # decompose data into even fill eigenvectors:\n",
    "    data_modes = np.fft.fft(data_anal, axis=1) / data_anal.shape[1]\n",
    "    return data_anal, data_dft/data_anal.shape[0], data_modes\n",
    "\n",
    "def waterfall_plot(axis, xs, zs, data):\n",
    "    vertcs, colors = [], []\n",
    "    cors = ['b', 'r', 'g', 'y', 'm', 'c']\n",
    "    for i, y in enumerate(zs):\n",
    "        ys = data[:, i].copy()\n",
    "        ys[0], ys[-1] = 0, 0\n",
    "        vertcs.append(list(zip(xs, ys)))\n",
    "        colors.append(cors[i%len(cors)])\n",
    "    poly = PolyCollection(\n",
    "        vertcs, closed=False, edgecolors='k',\n",
    "        linewidths=1, facecolors=colors)\n",
    "    \n",
    "    poly.set_alpha(0.7)\n",
    "    axis.add_collection3d(poly, zs=zs, zdir='x')\n",
    "\n",
    "def fit_exponential(times, data, t_ini=None, t_fin=None):\n",
    "    t_ini = t_ini or times.min()\n",
    "    t_fin = t_fin or times.max()\n",
    "    idx = (times >= t_ini) & (times <= t_fin)\n",
    "    tim = times[idx]\n",
    "    dt = data[idx]\n",
    "    dt = np.log(dt)\n",
    "    coef = np.polynomial.polynomial.polyfit(tim, dt, deg=1, rcond=None)\n",
    "    return tim, coef"
   ]
  },
  {
   "cell_type": "markdown",
   "metadata": {
    "heading_collapsed": true
   },
   "source": [
    "# Load data from matlab"
   ]
  },
  {
   "cell_type": "code",
   "execution_count": 77,
   "metadata": {
    "ExecuteTime": {
     "end_time": "2020-10-02T16:46:08.647223Z",
     "start_time": "2020-10-02T16:46:08.287976Z"
    },
    "hidden": true
   },
   "outputs": [],
   "source": [
    "a = loadmat('prm.mat')"
   ]
  },
  {
   "cell_type": "code",
   "execution_count": 78,
   "metadata": {
    "ExecuteTime": {
     "end_time": "2020-10-02T16:46:10.394318Z",
     "start_time": "2020-10-02T16:46:10.390614Z"
    },
    "hidden": true
   },
   "outputs": [
    {
     "data": {
      "text/plain": [
       "(('ds', '|O'), array([[1]], dtype=uint8))"
      ]
     },
     "execution_count": 78,
     "metadata": {},
     "output_type": "execute_result"
    }
   ],
   "source": [
    "# idx = -2  # data\n",
    "# idx = 17  # proc_ds\n",
    "idx = 16  # ds\n",
    "a['prm'][0].dtype.descr[idx], a['prm'][0][0][idx]"
   ]
  },
  {
   "cell_type": "code",
   "execution_count": 79,
   "metadata": {
    "ExecuteTime": {
     "end_time": "2020-10-02T16:46:10.905375Z",
     "start_time": "2020-10-02T16:46:10.901249Z"
    },
    "hidden": true
   },
   "outputs": [
    {
     "data": {
      "text/plain": [
       "array([[-34,   5,  13, ...,  41,  -3,  20],\n",
       "       [-33,   6,  11, ...,  37,  -1,  18],\n",
       "       [-35,   6,  10, ...,  39,  -2,  17],\n",
       "       ...,\n",
       "       [-58, -21, -15, ...,   7, -28, -11],\n",
       "       [-60, -25, -18, ...,  11, -31,  -9],\n",
       "       [-63, -26, -15, ...,   0,   0,   0]], dtype=int16)"
      ]
     },
     "execution_count": 79,
     "metadata": {},
     "output_type": "execute_result"
    }
   ],
   "source": [
    "data = a['prm'][0][0][-2].reshape((-1, 148))\n",
    "data"
   ]
  },
  {
   "cell_type": "code",
   "execution_count": 80,
   "metadata": {
    "ExecuteTime": {
     "end_time": "2020-10-02T16:46:12.739891Z",
     "start_time": "2020-10-02T16:46:12.734702Z"
    },
    "hidden": true
   },
   "outputs": [],
   "source": [
    "frf = 476000000\n",
    "Trf = 1/frf\n",
    "harm_num = 148\n",
    "T0 = harm_num * Trf\n",
    "f0 = 1/T0\n",
    "downsample = a['prm'][0][0][idx][0][0]"
   ]
  },
  {
   "cell_type": "markdown",
   "metadata": {
    "heading_collapsed": true
   },
   "source": [
    "# Read data PVs"
   ]
  },
  {
   "cell_type": "code",
   "execution_count": 3,
   "metadata": {
    "ExecuteTime": {
     "end_time": "2020-10-02T14:18:25.019009Z",
     "start_time": "2020-10-02T14:18:24.933733Z"
    },
    "hidden": true
   },
   "outputs": [],
   "source": [
    "bbb = BunchbyBunch('L')"
   ]
  },
  {
   "cell_type": "code",
   "execution_count": 9,
   "metadata": {
    "ExecuteTime": {
     "end_time": "2020-10-02T14:21:28.559889Z",
     "start_time": "2020-10-02T14:21:23.540440Z"
    },
    "hidden": true
   },
   "outputs": [
    {
     "ename": "TypeError",
     "evalue": "'NoneType' object is not subscriptable",
     "output_type": "error",
     "traceback": [
      "\u001b[0;31m---------------------------------------------------------------------------\u001b[0m",
      "\u001b[0;31mTypeError\u001b[0m                                 Traceback (most recent call last)",
      "\u001b[0;32m<ipython-input-9-bfaefe94da62>\u001b[0m in \u001b[0;36m<module>\u001b[0;34m\u001b[0m\n\u001b[1;32m      5\u001b[0m \u001b[0mf0\u001b[0m \u001b[0;34m=\u001b[0m \u001b[0;36m1\u001b[0m\u001b[0;34m/\u001b[0m\u001b[0mT0\u001b[0m\u001b[0;34m\u001b[0m\u001b[0;34m\u001b[0m\u001b[0m\n\u001b[1;32m      6\u001b[0m \u001b[0mdownsample\u001b[0m \u001b[0;34m=\u001b[0m \u001b[0mbbb\u001b[0m\u001b[0;34m.\u001b[0m\u001b[0msram\u001b[0m\u001b[0;34m.\u001b[0m\u001b[0mdownsample\u001b[0m\u001b[0;34m\u001b[0m\u001b[0;34m\u001b[0m\u001b[0m\n\u001b[0;32m----> 7\u001b[0;31m \u001b[0mdata\u001b[0m \u001b[0;34m=\u001b[0m \u001b[0mbbb\u001b[0m\u001b[0;34m.\u001b[0m\u001b[0msram\u001b[0m\u001b[0;34m.\u001b[0m\u001b[0mdata_raw\u001b[0m\u001b[0;34m\u001b[0m\u001b[0;34m\u001b[0m\u001b[0m\n\u001b[0m",
      "\u001b[0;32m/home/sirius/repos/dev-packages/siriuspy/siriuspy/devices/bbb.py\u001b[0m in \u001b[0;36mdata_raw\u001b[0;34m(self)\u001b[0m\n\u001b[1;32m    706\u001b[0m         \u001b[0msize\u001b[0m \u001b[0;34m=\u001b[0m \u001b[0mself\u001b[0m\u001b[0;34m.\u001b[0m\u001b[0mdata_size\u001b[0m\u001b[0;34m\u001b[0m\u001b[0;34m\u001b[0m\u001b[0m\n\u001b[1;32m    707\u001b[0m         \u001b[0;32mif\u001b[0m \u001b[0msize\u001b[0m \u001b[0;32mis\u001b[0m \u001b[0;32mnot\u001b[0m \u001b[0;32mNone\u001b[0m\u001b[0;34m:\u001b[0m\u001b[0;34m\u001b[0m\u001b[0;34m\u001b[0m\u001b[0m\n\u001b[0;32m--> 708\u001b[0;31m             \u001b[0mdata\u001b[0m \u001b[0;34m=\u001b[0m \u001b[0mdata\u001b[0m\u001b[0;34m[\u001b[0m\u001b[0;34m:\u001b[0m\u001b[0msize\u001b[0m\u001b[0;34m]\u001b[0m\u001b[0;34m\u001b[0m\u001b[0;34m\u001b[0m\u001b[0m\n\u001b[0m\u001b[1;32m    709\u001b[0m         \u001b[0;32mreturn\u001b[0m \u001b[0mdata\u001b[0m\u001b[0;34m\u001b[0m\u001b[0;34m\u001b[0m\u001b[0m\n\u001b[1;32m    710\u001b[0m \u001b[0;34m\u001b[0m\u001b[0m\n",
      "\u001b[0;31mTypeError\u001b[0m: 'NoneType' object is not subscriptable"
     ]
    }
   ],
   "source": [
    "frf = bbb.info.rf_freq_nom * 1e6\n",
    "Trf = 1/frf\n",
    "harm_num = bbb.info.harmonic_number\n",
    "T0 = harm_num * Trf\n",
    "f0 = 1/T0\n",
    "downsample = bbb.sram.downsample\n",
    "data = bbb.sram.data_raw"
   ]
  },
  {
   "cell_type": "markdown",
   "metadata": {
    "ExecuteTime": {
     "end_time": "2020-10-02T14:20:38.352682Z",
     "start_time": "2020-10-02T14:20:38.350150Z"
    }
   },
   "source": [
    "# Read saved data"
   ]
  },
  {
   "cell_type": "code",
   "execution_count": 7,
   "metadata": {
    "ExecuteTime": {
     "end_time": "2020-10-02T17:38:46.918839Z",
     "start_time": "2020-10-02T17:38:46.803227Z"
    }
   },
   "outputs": [
    {
     "name": "stdout",
     "output_type": "stream",
     "text": [
      "-rw-r--r-- 1 fernando facs 433K out  2 12:45 data_001.pickle\r\n",
      "-rw-r--r-- 1 fernando facs 433K out  2 12:45 data_002.pickle\r\n",
      "-rw-r--r-- 1 fernando facs 433K out  2 12:45 data_003.pickle\r\n",
      "-rw-r--r-- 1 fernando facs 757K out  2 12:45 data_004.pickle\r\n",
      "-rw-r--r-- 1 fernando facs 865K out  2 12:45 data_005.pickle\r\n",
      "-rw-r--r-- 1 fernando facs 1.2M out  2 12:45 data_006.pickle\r\n",
      "-rw-r--r-- 1 fernando facs 1.2M out  2 12:45 data_007.pickle\r\n",
      "-rw-r--r-- 1 fernando facs 595K out  2 14:13 data_008.pickle\r\n",
      "-rw-r--r-- 1 fernando facs  12M out  2 14:20 data_009.pickle\r\n"
     ]
    }
   ],
   "source": [
    "%ls -lh data*"
   ]
  },
  {
   "cell_type": "code",
   "execution_count": 22,
   "metadata": {
    "ExecuteTime": {
     "end_time": "2020-10-02T18:21:18.202168Z",
     "start_time": "2020-10-02T18:21:18.192128Z"
    }
   },
   "outputs": [],
   "source": [
    "data_dict = load_pickle('data_009.pickle')"
   ]
  },
  {
   "cell_type": "code",
   "execution_count": 23,
   "metadata": {
    "ExecuteTime": {
     "end_time": "2020-10-02T18:21:18.958005Z",
     "start_time": "2020-10-02T18:21:18.952618Z"
    }
   },
   "outputs": [],
   "source": [
    "frf = data_dict['frf']\n",
    "Trf = 1/frf\n",
    "harm_num = data_dict['harm_num']\n",
    "T0 = harm_num * Trf\n",
    "f0 = 1/T0\n",
    "downsample = data_dict['downsample']\n",
    "data = data_dict['data'].reshape((-1, harm_num))"
   ]
  },
  {
   "cell_type": "markdown",
   "metadata": {},
   "source": [
    "# Process Data"
   ]
  },
  {
   "cell_type": "code",
   "execution_count": 24,
   "metadata": {
    "ExecuteTime": {
     "end_time": "2020-10-02T18:21:24.295221Z",
     "start_time": "2020-10-02T18:21:24.078798Z"
    }
   },
   "outputs": [],
   "source": [
    "data2 = data - data.mean(axis=1)[:, None]\n",
    "data2 -= data2.mean(axis=0)[None, :]\n",
    "data2_dft = np.fft.rfft(data2, axis=0)\n",
    "rfreq = np.fft.rfftfreq(data2.shape[0], d=T0*downsample)\n",
    "\n",
    "avg_data2 = np.abs(data2_dft).mean(axis=1)\n",
    "\n",
    "f  = plt.figure(figsize=(7, 4))\n",
    "gs = mpl_gs.GridSpec(1, 1)\n",
    "gs.update(left=0.15, right=0.95, top=0.97, bottom=0.18, wspace=0.35, hspace=0.2)\n",
    "aty = plt.subplot(gs[0, 0])\n",
    "\n",
    "aty.plot(rfreq[1:], avg_data2[1:])\n",
    "aty.set_yscale('log')\n",
    "f.show()"
   ]
  },
  {
   "cell_type": "code",
   "execution_count": 33,
   "metadata": {
    "ExecuteTime": {
     "end_time": "2020-10-02T18:29:47.054053Z",
     "start_time": "2020-10-02T18:29:44.940010Z"
    }
   },
   "outputs": [],
   "source": [
    "data_anal, data_dft, data_modes = process_data(\n",
    "    data, center_freq=2100, sigma_freq=200,\n",
    "    T_rev=T0, downsample=downsample)"
   ]
  },
  {
   "cell_type": "code",
   "execution_count": 34,
   "metadata": {
    "ExecuteTime": {
     "end_time": "2020-10-02T18:29:49.063015Z",
     "start_time": "2020-10-02T18:29:48.205106Z"
    }
   },
   "outputs": [],
   "source": [
    "f  = plt.figure(figsize=(12, 9))\n",
    "gs = mpl_gs.GridSpec(2, 2)\n",
    "gs.update(left=0.10, right=0.95, top=0.97, bottom=0.10, wspace=0.35, hspace=0.2)\n",
    "# aty = plt.subplot(gs[0, :7], projection='3d')\n",
    "# afy = plt.subplot(gs[1, :7], projection='3d')\n",
    "aty = plt.subplot(gs[0, 0])\n",
    "afy = plt.subplot(gs[1, 0])\n",
    "atx = plt.subplot(gs[0, 1])\n",
    "afx = plt.subplot(gs[1, 1])\n",
    "\n",
    "t = np.arange(data_anal.shape[0]) * T0 * downsample * 1e3\n",
    "modes = np.arange(data_anal.shape[1])\n",
    "bunch_nums = modes + 1\n",
    "\n",
    "abs_modes = np.abs(data_modes)\n",
    "abs_dataf = np.abs(data_anal)\n",
    "\n",
    "afx.plot(modes, abs_modes.std(axis=0))\n",
    "afx.set_xlabel('mode number')\n",
    "afx.set_ylabel('rms amplitude [a.u.]')\n",
    "\n",
    "# waterfall_plot(afy, t, modes, abs_modes)\n",
    "# afy.view_init(elev=35.5, azim=-135)\n",
    "# afy.set_ylim3d(t.min(), t.max())\n",
    "# afy.set_xlim3d(modes.min(), modes.max())\n",
    "# afy.set_zlim3d(0, abs_modes.max())\n",
    "# afy.set_ylabel('\\ntime [ms]')\n",
    "# afy.set_xlabel('\\nmode number')\n",
    "# afy.set_zlabel('amplitude')\n",
    "M, T = np.meshgrid(modes, t)\n",
    "cf = afy.pcolormesh(\n",
    "    T, M, abs_modes, cmap='jet',\n",
    "    vmin=abs_modes.min(), vmax=abs_modes.max())\n",
    "afy.set_xlabel('Time [ms]')\n",
    "afy.set_ylabel('Mode Number')\n",
    "cb = f.colorbar(cf, ax=afy, pad=0.01)\n",
    "cb.set_label('Amplitude [a.u.]')\n",
    "\n",
    "atx.plot(bunch_nums, abs_dataf.std(axis=0))\n",
    "atx.set_xlabel('Bunch Number')\n",
    "atx.set_ylabel('RMS Amplitude [a.u.]')\n",
    "\n",
    "# waterfall_plot(aty, t, bunch_nums, abs_dataf)\n",
    "# aty.view_init(elev=35.5, azim=-135)\n",
    "# aty.set_ylim3d(t.min(), t.max())\n",
    "# aty.set_xlim3d(bunch_nums.min(), bunch_nums.max())\n",
    "# aty.set_zlim3d(0, abs_dataf.max())\n",
    "# aty.set_ylabel('\\ntime [ms]')\n",
    "# aty.set_xlabel('\\nbunch number')\n",
    "# aty.set_zlabel('amplitude')\n",
    "M, T = np.meshgrid(bunch_nums, t)\n",
    "cf = aty.pcolormesh(\n",
    "    T, M, abs_dataf, cmap='jet',\n",
    "    vmin=abs_dataf.min(), vmax=abs_dataf.max())\n",
    "aty.set_xlabel('Time [ms]')\n",
    "aty.set_ylabel('Bunch Number')\n",
    "cb = f.colorbar(cf, ax=aty, pad=0.01)\n",
    "cb.set_label('Amplitude [a.u.]')\n",
    "\n",
    "f.show()"
   ]
  },
  {
   "cell_type": "code",
   "execution_count": 32,
   "metadata": {
    "ExecuteTime": {
     "end_time": "2020-10-02T18:29:33.171123Z",
     "start_time": "2020-10-02T18:29:33.129402Z"
    }
   },
   "outputs": [],
   "source": [
    "mode_num = 674\n",
    "data_mode = data_modes[:, mode_num]\n",
    "abs_mode = np.abs(data_mode)\n",
    "timg, coefg = fit_exponential(t, abs_mode, t_ini=0.05, t_fin=0.70)\n",
    "timd, coefd = fit_exponential(t, abs_mode, t_ini=1.15, t_fin=1.65)\n",
    "\n",
    "f  = plt.figure(figsize=(7, 8))\n",
    "gs = mpl_gs.GridSpec(2, 1)\n",
    "gs.update(left=0.15, right=0.95, top=0.96, bottom=0.1, hspace=0.2)\n",
    "aty = plt.subplot(gs[0, 0])\n",
    "atx = plt.subplot(gs[1, 0])\n",
    "\n",
    "fitg = np.exp(coefg[0] + timg*coefg[1])\n",
    "fitd = np.exp(coefd[0] + timd*coefd[1])\n",
    "szg = fitg.size\n",
    "szd = fitd.size\n",
    "\n",
    "aty.plot(t, abs_mode, label='Data')\n",
    "aty.plot(timg, fitg, label='Grow Fit')\n",
    "aty.plot(timd, fitd, label='Damp Fit')\n",
    "\n",
    "aty.legend(loc='best', fontsize='small')\n",
    "\n",
    "aty.annotate(\n",
    "    f'rate = {coefg[1]:.2f} kHz', fontsize='x-small',\n",
    "    xy=(timg[szg//2], fitg[szg//2]),\n",
    "    textcoords='offset points', xytext=(-100, 10), \n",
    "    arrowprops=dict(arrowstyle='->'),\n",
    "    bbox=dict(boxstyle=\"round\", fc=\"0.8\"))\n",
    "\n",
    "aty.annotate(\n",
    "    f'rate = {coefd[1]:.2f} kHz', fontsize='x-small',\n",
    "    xy=(timd[szd//2], fitd[szd//2]),\n",
    "    textcoords='offset points', xytext=(10, 10),\n",
    "    arrowprops=dict(arrowstyle='->'),\n",
    "    bbox=dict(boxstyle=\"round\", fc=\"0.8\"))\n",
    "\n",
    "aty.set_title(f'Evolution of mode {mode_num:d}')\n",
    "aty.set_xlabel('time [ms]')\n",
    "aty.set_ylabel('Amplitude [a.u.]')\n",
    "\n",
    "inst_freq = np.diff(np.unwrap(np.angle(data_mode)))/2/np.pi\n",
    "atx.plot(t[:-1], inst_freq/T0/downsample/1e3)\n",
    "atx.set_xlabel('time [ms]')\n",
    "atx.set_ylabel('Instantaneous Frequency [kHz]')\n",
    "\n",
    "f.show()"
   ]
  },
  {
   "cell_type": "markdown",
   "metadata": {},
   "source": [
    "## Simulated Data"
   ]
  },
  {
   "cell_type": "code",
   "execution_count": 6,
   "metadata": {
    "ExecuteTime": {
     "end_time": "2020-09-15T14:07:29.861924Z",
     "start_time": "2020-09-15T14:07:29.610537Z"
    }
   },
   "outputs": [],
   "source": [
    "freq_tune = 0.005\n",
    "growth_time = 5e-3\n",
    "mode = 134\n",
    "t = np.arange(data.size * downsample ) * Trf\n",
    "T = t.reshape((-1, harm_num))[::downsample, :]\n",
    "t = T.ravel()\n",
    "y = np.exp((1/growth_time + 1j*2*np.pi*f0*(mode + freq_tune))*t).real\n",
    "y += np.exp((0/1 + 1j*2*np.pi*f0*(0 + freq_tune))*t).real\n",
    "Y = y.reshape((-1, harm_num))"
   ]
  },
  {
   "cell_type": "code",
   "execution_count": 16,
   "metadata": {
    "ExecuteTime": {
     "end_time": "2020-09-14T17:44:31.035439Z",
     "start_time": "2020-09-14T17:44:31.022198Z"
    }
   },
   "outputs": [
    {
     "data": {
      "text/plain": [
       "1.6"
      ]
     },
     "execution_count": 16,
     "metadata": {},
     "output_type": "execute_result"
    }
   ],
   "source": []
  },
  {
   "cell_type": "code",
   "execution_count": null,
   "metadata": {},
   "outputs": [],
   "source": []
  }
 ],
 "metadata": {
  "hide_input": false,
  "kernelspec": {
   "display_name": "Python 3",
   "language": "python",
   "name": "python3"
  },
  "language_info": {
   "codemirror_mode": {
    "name": "ipython",
    "version": 3
   },
   "file_extension": ".py",
   "mimetype": "text/x-python",
   "name": "python",
   "nbconvert_exporter": "python",
   "pygments_lexer": "ipython3",
   "version": "3.6.9"
  }
 },
 "nbformat": 4,
 "nbformat_minor": 2
}
