{
 "cells": [
  {
   "cell_type": "code",
   "execution_count": 1,
   "metadata": {},
   "outputs": [],
   "source": [
    "%gui qt5\n",
    "%matplotlib qt5\n",
    "from functools import partial as _partial\n",
    "import numpy as np\n",
    "from scipy import optimize\n",
    "\n",
    "import matplotlib.pyplot as plt\n",
    "import matplotlib.gridspec as mpl_gs\n",
    "import matplotlib.cm as cmap\n",
    "from matplotlib import rcParams\n",
    "rcParams.update(\n",
    "    {'font.size': 16,'lines.linewidth': 2, 'axes.grid': True})\n",
    "\n",
    "import pyaccel\n",
    "import mathphys\n",
    "from pymodels import si"
   ]
  },
  {
   "cell_type": "code",
   "execution_count": 2,
   "metadata": {},
   "outputs": [],
   "source": [
    "ring = si.create_accelerator()\n",
    "ring.vchamber_on = True\n",
    "famdata = si.get_family_data(ring)\n",
    "bpms = np.array(famdata['BPM']['index']).flatten()\n",
    "twi, *_ = pyaccel.optics.calc_twiss(ring)"
   ]
  },
  {
   "cell_type": "code",
   "execution_count": 3,
   "metadata": {},
   "outputs": [
    {
     "output_type": "stream",
     "name": "stdout",
     "text": "x:  65.51513074233567 65.62235210088345\ny:  2.9982066969365446 3.00940347026083\nz:  2.4998102046231705 2.4998316970769907\n"
    }
   ],
   "source": [
    "bun1 = pyaccel.tracking.generate_bunch(250e-12, 2.5e-12, 8e-4, 2.5e-3, twi[0], 100000, cutoff=1)\n",
    "bun2 = pyaccel.tracking.generate_bunch(250e-12, 2.5e-12, 8e-4, 2.5e-3, twi[0], 100000, cutoff=6)\n",
    "print('x: ', bun1[0, :].max()*1e6, bun2[0, :].std()*1e6)\n",
    "print('y: ', bun1[2, :].max()*1e6, bun2[2, :].std()*1e6)\n",
    "print('z: ', bun1[5, :].max()*1e3, bun2[5, :].std()*1e3)\n",
    "f  = plt.figure(figsize=(9, 7))\n",
    "gs = mpl_gs.GridSpec(2, 2)\n",
    "gs.update(left=0.12, right=0.98, top=0.97, bottom=0.10, hspace=0.15)\n",
    "ax = plt.subplot(gs[0, 0])\n",
    "ay = plt.subplot(gs[1, 0])\n",
    "az = plt.subplot(gs[0, 1])\n",
    "\n",
    "ax.hist(bun2[0, :]*1e6, bins=100)\n",
    "ax.hist(bun1[0, :]*1e6, bins=100)\n",
    "ay.hist(bun2[2, :]*1e6, bins=100)\n",
    "ay.hist(bun1[2, :]*1e6, bins=100)\n",
    "az.hist(bun2[5, :]*1e3, bins=100)\n",
    "az.hist(bun1[5, :]*1e3, bins=100)\n",
    "f.show()"
   ]
  },
  {
   "cell_type": "code",
   "execution_count": 4,
   "metadata": {},
   "outputs": [],
   "source": [
    "f  = plt.figure(figsize=(9, 7))\n",
    "gs = mpl_gs.GridSpec(2, 2)\n",
    "gs.update(left=0.12, right=0.98, top=0.97, bottom=0.10, hspace=0.15)\n",
    "ax = plt.subplot(gs[0, 0])\n",
    "ay = plt.subplot(gs[1, 0])\n",
    "az = plt.subplot(gs[0, 1])\n",
    "\n",
    "ax.plot(bun2[0, :]*1e6, bun2[1, :]*1e6, 'r.')\n",
    "ax.plot(bun1[0, :]*1e6, bun1[1, :]*1e6, 'b.')\n",
    "ay.plot(bun2[2, :]*1e6, bun2[3, :]*1e6, 'r.')\n",
    "ay.plot(bun1[2, :]*1e6, bun1[3, :]*1e6, 'b.')\n",
    "az.plot(bun2[5, :]*1e3, bun2[4, :]*1e2, 'r.')\n",
    "az.plot(bun1[5, :]*1e3, bun1[4, :]*1e2, 'b.')\n",
    "f.show()"
   ]
  },
  {
   "cell_type": "code",
   "execution_count": 5,
   "metadata": {},
   "outputs": [],
   "source": [
    "idx = 0\n",
    "ring2 = pyaccel.lattice.shift(ring, 0)\n",
    "bun = pyaccel.tracking.generate_bunch(250e-12, 2.5e-12, 8e-4, 2.5e-3, twi[idx], 1000, cutoff=1)\n",
    "out, *args = pyaccel.tracking.ring_pass(ring2, bun, nr_turns=100)"
   ]
  },
  {
   "cell_type": "code",
   "execution_count": 6,
   "metadata": {},
   "outputs": [],
   "source": [
    "f  = plt.figure(figsize=(9, 7))\n",
    "gs = mpl_gs.GridSpec(2, 2)\n",
    "gs.update(left=0.12, right=0.98, top=0.97, bottom=0.10, hspace=0.15)\n",
    "ax = plt.subplot(gs[0, 0])\n",
    "ay = plt.subplot(gs[1, 0])\n",
    "az = plt.subplot(gs[0, 1])\n",
    "\n",
    "ax.plot(bun[0, :]*1e6, bun[1, :]*1e6, 'b.')\n",
    "ax.plot(out[0, :]*1e6, out[1, :]*1e6, 'r.')\n",
    "ay.plot(bun[2, :]*1e6, bun[3, :]*1e6, 'b.')\n",
    "ay.plot(out[2, :]*1e6, out[3, :]*1e6, 'r.')\n",
    "az.plot(bun[5, :]*1e3, bun[4, :]*1e2, 'b.')\n",
    "az.plot(out[5, :]*1e3, out[4, :]*1e2, 'r.')\n",
    "f.show()"
   ]
  },
  {
   "cell_type": "code",
   "execution_count": null,
   "metadata": {},
   "outputs": [],
   "source": []
  }
 ],
 "metadata": {
  "hide_input": false,
  "kernelspec": {
   "display_name": "Python 3",
   "language": "python",
   "name": "python3"
  },
  "language_info": {
   "codemirror_mode": {
    "name": "ipython",
    "version": 3
   },
   "file_extension": ".py",
   "mimetype": "text/x-python",
   "name": "python",
   "nbconvert_exporter": "python",
   "pygments_lexer": "ipython3",
   "version": "3.6.9-final"
  }
 },
 "nbformat": 4,
 "nbformat_minor": 2
}