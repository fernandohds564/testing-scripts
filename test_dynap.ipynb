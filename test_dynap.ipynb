{
 "cells": [
  {
   "cell_type": "code",
   "execution_count": 1,
   "metadata": {
    "ExecuteTime": {
     "end_time": "2020-05-29T22:01:11.296925Z",
     "start_time": "2020-05-29T22:01:11.294713Z"
    },
    "init_cell": true
   },
   "outputs": [],
   "source": [
    "import os\n",
    "os.environ['SIRIUS_URL_CONSTS'] = 'http://127.0.0.1'"
   ]
  },
  {
   "cell_type": "code",
   "execution_count": 2,
   "metadata": {
    "ExecuteTime": {
     "end_time": "2020-05-29T22:01:13.641100Z",
     "start_time": "2020-05-29T22:01:11.298630Z"
    },
    "init_cell": true
   },
   "outputs": [],
   "source": [
    "%gui qt5\n",
    "%matplotlib qt5\n",
    "\n",
    "from functools import partial as _partial\n",
    "import numpy as np\n",
    "from scipy import optimize\n",
    "\n",
    "import matplotlib.pyplot as plt\n",
    "import matplotlib.gridspec as mpl_gs\n",
    "import matplotlib.cm as cmap\n",
    "import matplotlib.colors as mpl_colors\n",
    "from matplotlib import rcParams\n",
    "rcParams.update(\n",
    "    {'font.size': 16,'lines.linewidth': 2, 'axes.grid': True})\n",
    "\n",
    "import pyaccel\n",
    "import mathphys\n",
    "from pymodels import si\n",
    "from apsuite.dynap import DynapXY\n",
    "from apsuite.optics_analysis import TuneCorr"
   ]
  },
  {
   "cell_type": "code",
   "execution_count": 3,
   "metadata": {
    "ExecuteTime": {
     "end_time": "2020-05-29T22:01:13.883706Z",
     "start_time": "2020-05-29T22:01:13.644334Z"
    },
    "init_cell": true
   },
   "outputs": [],
   "source": [
    "model = si.create_accelerator()\n",
    "model.cavity_on = True\n",
    "model.radiation_on = False\n",
    "dynap = DynapXY(model)"
   ]
  },
  {
   "cell_type": "code",
   "execution_count": 18,
   "metadata": {
    "ExecuteTime": {
     "end_time": "2020-05-26T19:55:14.787048Z",
     "start_time": "2020-05-26T19:55:14.261257Z"
    }
   },
   "outputs": [],
   "source": [
    "tunecorr = TuneCorr(model, 'SI')"
   ]
  },
  {
   "cell_type": "code",
   "execution_count": 19,
   "metadata": {
    "ExecuteTime": {
     "end_time": "2020-05-26T19:55:27.664346Z",
     "start_time": "2020-05-26T19:55:26.837495Z"
    }
   },
   "outputs": [
    {
     "data": {
      "text/plain": [
       "1"
      ]
     },
     "execution_count": 19,
     "metadata": {},
     "output_type": "execute_result"
    }
   ],
   "source": [
    "tunecorr.correct_parameters([49.186188, 14.2300])"
   ]
  },
  {
   "cell_type": "code",
   "execution_count": 20,
   "metadata": {
    "ExecuteTime": {
     "end_time": "2020-05-26T19:55:30.746593Z",
     "start_time": "2020-05-26T19:55:30.667391Z"
    }
   },
   "outputs": [
    {
     "data": {
      "text/plain": [
       "(49.18574477838651, 14.230530180928666)"
      ]
     },
     "execution_count": 20,
     "metadata": {},
     "output_type": "execute_result"
    }
   ],
   "source": [
    "twi, _ = pyaccel.optics.calc_twiss(dynap._acc)\n",
    "twi.mux[-1]/2/np.pi, twi.muy[-1]/2/np.pi"
   ]
  },
  {
   "cell_type": "code",
   "execution_count": 4,
   "metadata": {
    "ExecuteTime": {
     "end_time": "2020-05-29T22:01:13.887604Z",
     "start_time": "2020-05-29T22:01:13.884734Z"
    },
    "init_cell": true
   },
   "outputs": [
    {
     "name": "stdout",
     "output_type": "stream",
     "text": [
      "nrturns      : 512\n",
      "turn_by_turn : True\n",
      "x_nrpts      : 70\n",
      "y_nrpts      : 30\n",
      "x_min [m]    : -0.012\n",
      "x_max [m]    : 0\n",
      "y_min [m]    : 0\n",
      "y_max [m]    : 0.004\n",
      "de_offset    : 0\n",
      "xl_off [rad] : 1e-05\n",
      "yl_off [rad] : 1e-05\n",
      "intnux       : 49.00 (for graphs)\n",
      "intnuy       : 14.00 (for graphs)\n",
      "\n"
     ]
    }
   ],
   "source": [
    "dynap.params.turn_by_turn = True\n",
    "dynap.params.x_nrpts = 70\n",
    "dynap.params.y_nrpts = 30\n",
    "dynap.params.x_min = -0.012\n",
    "dynap.params.x_max = 0.00\n",
    "dynap.params.y_min = 0\n",
    "dynap.params.y_max = 0.004\n",
    "print(dynap)"
   ]
  },
  {
   "cell_type": "code",
   "execution_count": 17,
   "metadata": {
    "ExecuteTime": {
     "end_time": "2020-05-26T22:16:44.123697Z",
     "start_time": "2020-05-26T22:16:31.754680Z"
    }
   },
   "outputs": [],
   "source": [
    "dynap.do_tracking()"
   ]
  },
  {
   "cell_type": "code",
   "execution_count": 18,
   "metadata": {
    "ExecuteTime": {
     "end_time": "2020-05-26T22:16:45.365225Z",
     "start_time": "2020-05-26T22:16:45.354689Z"
    }
   },
   "outputs": [],
   "source": [
    "dynap.process_data()"
   ]
  },
  {
   "cell_type": "code",
   "execution_count": 24,
   "metadata": {
    "ExecuteTime": {
     "end_time": "2020-05-26T20:41:56.278990Z",
     "start_time": "2020-05-26T20:41:55.557171Z"
    }
   },
   "outputs": [],
   "source": [
    "# dynap.save_data('/home/fernando/delta_tune2.pickle')\n",
    "dynap.load_and_apply('/home/fernando/delta_tune2.pickle')\n",
    "dynap.process_data()"
   ]
  },
  {
   "cell_type": "code",
   "execution_count": 5,
   "metadata": {
    "ExecuteTime": {
     "end_time": "2020-05-29T22:01:27.503997Z",
     "start_time": "2020-05-29T22:01:25.270666Z"
    }
   },
   "outputs": [],
   "source": [
    "dynap.load_and_apply('/home/fernando/nominal.pickle')\n",
    "dynap.process_data()"
   ]
  },
  {
   "cell_type": "markdown",
   "metadata": {},
   "source": [
    "# Diffusion Plot"
   ]
  },
  {
   "cell_type": "code",
   "execution_count": 14,
   "metadata": {
    "ExecuteTime": {
     "end_time": "2020-05-29T22:02:52.841817Z",
     "start_time": "2020-05-29T22:02:52.828143Z"
    },
    "scrolled": false
   },
   "outputs": [],
   "source": [
    "bounds = [\n",
    "    dynap.params.intnux, dynap.params.intnux + 0.5,\n",
    "    dynap.params.intnuy, dynap.params.intnuy + 0.5]\n",
    "orders = 6\n",
    "symmetry = 1\n",
    "resons = dynap.calc_resonances_for_bounds(bounds, orders=orders, symmetry=symmetry)"
   ]
  },
  {
   "cell_type": "code",
   "execution_count": 35,
   "metadata": {
    "ExecuteTime": {
     "end_time": "2020-05-29T22:08:25.082535Z",
     "start_time": "2020-05-29T22:08:25.073411Z"
    }
   },
   "outputs": [
    {
     "name": "stdout",
     "output_type": "stream",
     "text": [
      "15: (4, 2, 225)   20\n",
      "19: (2, 4, 155)   17\n",
      "38: (0, 4, 57)   22\n",
      "41: (0, 6, 85)   47\n",
      "52: (-4, 1, -182)   60\n",
      "63: (3, 3, 190)   17\n",
      "70: (-2, 1, -84)   35\n",
      "90: (1, 2, 78)   27\n",
      "\n",
      "(4, 2, 225)\n",
      "(2, 4, 155)\n",
      "(0, 4, 57)\n",
      "(0, 6, 85)\n",
      "(-4, 1, -182)\n",
      "(3, 3, 190)\n",
      "(1, 2, 78)\n"
     ]
    }
   ],
   "source": [
    "map2xy = dynap.map_resons2real_plane(resons, maxdist=2e-3, min_diffusion=1e-5)\n",
    "numb = [x.size for x in map2xy]\n",
    "filter_resons = []\n",
    "for i, (res, nu) in enumerate(zip(resons, numb)):\n",
    "    if nu > 15:\n",
    "        print(f'{i:2}: {res}  {nu:3}')\n",
    "        filter_resons.append(res)\n",
    "\n",
    "to_remove = [-2]\n",
    "for idx in sorted(to_remove, reverse=True):\n",
    "    del filter_resons[idx]\n",
    "\n",
    "print()\n",
    "for i, reson in enumerate(filter_resons):\n",
    "    print(f'{reson}')"
   ]
  },
  {
   "cell_type": "code",
   "execution_count": 36,
   "metadata": {
    "ExecuteTime": {
     "end_time": "2020-05-29T22:08:26.240848Z",
     "start_time": "2020-05-29T22:08:26.175730Z"
    }
   },
   "outputs": [],
   "source": [
    "f, ax, ay = dynap.make_figure_diffusion(contour=True, resons=filter_resons, maxdist=5e-3, min_diffusion=1e-5)\n",
    "# f, ax, ay = dynap.make_figure_diffusion(contour=True, resons=filter_resons, maxdist=1e-3)\n",
    "f.show()\n",
    "# f = dynap.make_figure_diffusion(contour=False)"
   ]
  },
  {
   "cell_type": "markdown",
   "metadata": {
    "ExecuteTime": {
     "end_time": "2020-05-23T20:39:31.643975Z",
     "start_time": "2020-05-23T20:39:31.642094Z"
    }
   },
   "source": [
    "# X and Y map to tune plot"
   ]
  },
  {
   "cell_type": "code",
   "execution_count": 29,
   "metadata": {
    "ExecuteTime": {
     "end_time": "2020-05-26T20:44:09.212928Z",
     "start_time": "2020-05-26T20:44:09.108492Z"
    }
   },
   "outputs": [],
   "source": [
    "f = dynap.make_figure_xandy_map_in_tune_plot(resons)"
   ]
  },
  {
   "cell_type": "code",
   "execution_count": null,
   "metadata": {},
   "outputs": [],
   "source": []
  }
 ],
 "metadata": {
  "celltoolbar": "Initialization Cell",
  "hide_input": false,
  "kernelspec": {
   "display_name": "Python 3",
   "language": "python",
   "name": "python3"
  },
  "language_info": {
   "codemirror_mode": {
    "name": "ipython",
    "version": 3
   },
   "file_extension": ".py",
   "mimetype": "text/x-python",
   "name": "python",
   "nbconvert_exporter": "python",
   "pygments_lexer": "ipython3",
   "version": "3.6.9"
  }
 },
 "nbformat": 4,
 "nbformat_minor": 2
}
