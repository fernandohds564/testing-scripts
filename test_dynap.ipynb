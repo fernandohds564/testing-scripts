{
 "cells": [
  {
   "cell_type": "code",
   "execution_count": 5,
   "metadata": {
    "ExecuteTime": {
     "end_time": "2020-05-26T22:15:35.113231Z",
     "start_time": "2020-05-26T22:15:35.016080Z"
    },
    "init_cell": true
   },
   "outputs": [],
   "source": [
    "import os\n",
    "os.environ['SIRIUS_URL_CONSTS'] = 'http://127.0.0.1'"
   ]
  },
  {
   "cell_type": "code",
   "execution_count": 6,
   "metadata": {
    "ExecuteTime": {
     "end_time": "2020-05-26T22:15:35.206835Z",
     "start_time": "2020-05-26T22:15:35.114387Z"
    },
    "init_cell": true
   },
   "outputs": [],
   "source": [
    "%gui qt5\n",
    "%matplotlib qt5\n",
    "\n",
    "from functools import partial as _partial\n",
    "import numpy as np\n",
    "from scipy import optimize\n",
    "\n",
    "import matplotlib.pyplot as plt\n",
    "import matplotlib.gridspec as mpl_gs\n",
    "import matplotlib.cm as cmap\n",
    "import matplotlib.colors as mpl_colors\n",
    "from matplotlib import rcParams\n",
    "rcParams.update(\n",
    "    {'font.size': 16,'lines.linewidth': 2, 'axes.grid': True})\n",
    "\n",
    "import pyaccel\n",
    "import mathphys\n",
    "from pymodels import si\n",
    "from apsuite.dynap import DynapXY\n",
    "from apsuite.optics_analysis import TuneCorr"
   ]
  },
  {
   "cell_type": "code",
   "execution_count": 15,
   "metadata": {
    "ExecuteTime": {
     "end_time": "2020-05-26T22:16:27.902149Z",
     "start_time": "2020-05-26T22:16:27.681064Z"
    },
    "init_cell": true
   },
   "outputs": [],
   "source": [
    "model = si.create_accelerator()\n",
    "model.cavity_on = True\n",
    "model.radiation_on = False\n",
    "dynap = DynapXY(model)"
   ]
  },
  {
   "cell_type": "code",
   "execution_count": 18,
   "metadata": {
    "ExecuteTime": {
     "end_time": "2020-05-26T19:55:14.787048Z",
     "start_time": "2020-05-26T19:55:14.261257Z"
    }
   },
   "outputs": [],
   "source": [
    "tunecorr = TuneCorr(model, 'SI')"
   ]
  },
  {
   "cell_type": "code",
   "execution_count": 19,
   "metadata": {
    "ExecuteTime": {
     "end_time": "2020-05-26T19:55:27.664346Z",
     "start_time": "2020-05-26T19:55:26.837495Z"
    }
   },
   "outputs": [
    {
     "data": {
      "text/plain": [
       "1"
      ]
     },
     "execution_count": 19,
     "metadata": {},
     "output_type": "execute_result"
    }
   ],
   "source": [
    "tunecorr.correct_parameters([49.186188, 14.2300])"
   ]
  },
  {
   "cell_type": "code",
   "execution_count": 20,
   "metadata": {
    "ExecuteTime": {
     "end_time": "2020-05-26T19:55:30.746593Z",
     "start_time": "2020-05-26T19:55:30.667391Z"
    }
   },
   "outputs": [
    {
     "data": {
      "text/plain": [
       "(49.18574477838651, 14.230530180928666)"
      ]
     },
     "execution_count": 20,
     "metadata": {},
     "output_type": "execute_result"
    }
   ],
   "source": [
    "twi, _ = pyaccel.optics.calc_twiss(dynap._acc)\n",
    "twi.mux[-1]/2/np.pi, twi.muy[-1]/2/np.pi"
   ]
  },
  {
   "cell_type": "code",
   "execution_count": 16,
   "metadata": {
    "ExecuteTime": {
     "end_time": "2020-05-26T22:16:29.598718Z",
     "start_time": "2020-05-26T22:16:29.595763Z"
    },
    "init_cell": true
   },
   "outputs": [
    {
     "name": "stdout",
     "output_type": "stream",
     "text": [
      "nrturns      : 512\n",
      "turn_by_turn : True\n",
      "x_nrpts      : 5\n",
      "y_nrpts      : 5\n",
      "x_min [m]    : -0.012\n",
      "x_max [m]    : 0\n",
      "y_min [m]    : 0\n",
      "y_max [m]    : 0.004\n",
      "de_offset    : 0\n",
      "intnux       : 49.00 (for graphs)\n",
      "intnuy       : 14.00 (for graphs)\n",
      "\n"
     ]
    }
   ],
   "source": [
    "dynap.params.turn_by_turn = True\n",
    "dynap.params.x_nrpts = 70\n",
    "dynap.params.y_nrpts = 30\n",
    "dynap.params.x_min = -0.012\n",
    "dynap.params.x_max = 0.00\n",
    "dynap.params.y_min = 0\n",
    "dynap.params.y_max = 0.004\n",
    "print(dynap)"
   ]
  },
  {
   "cell_type": "code",
   "execution_count": 17,
   "metadata": {
    "ExecuteTime": {
     "end_time": "2020-05-26T22:16:44.123697Z",
     "start_time": "2020-05-26T22:16:31.754680Z"
    }
   },
   "outputs": [],
   "source": [
    "dynap.do_tracking()"
   ]
  },
  {
   "cell_type": "code",
   "execution_count": 18,
   "metadata": {
    "ExecuteTime": {
     "end_time": "2020-05-26T22:16:45.365225Z",
     "start_time": "2020-05-26T22:16:45.354689Z"
    }
   },
   "outputs": [],
   "source": [
    "dynap.process_data()"
   ]
  },
  {
   "cell_type": "code",
   "execution_count": 24,
   "metadata": {
    "ExecuteTime": {
     "end_time": "2020-05-26T20:41:56.278990Z",
     "start_time": "2020-05-26T20:41:55.557171Z"
    }
   },
   "outputs": [],
   "source": [
    "# dynap.save_data('/home/fernando/delta_tune2.pickle')\n",
    "dynap.load_and_apply('/home/fernando/delta_tune2.pickle')\n",
    "dynap.process_data()"
   ]
  },
  {
   "cell_type": "code",
   "execution_count": 22,
   "metadata": {
    "ExecuteTime": {
     "end_time": "2020-05-26T18:26:23.361839Z",
     "start_time": "2020-05-26T18:26:22.036497Z"
    }
   },
   "outputs": [],
   "source": [
    "dynap.load_and_apply('/home/fernando/nominal.pickle')\n",
    "dynap.process_data()"
   ]
  },
  {
   "cell_type": "markdown",
   "metadata": {},
   "source": [
    "# Diffusion Plot"
   ]
  },
  {
   "cell_type": "code",
   "execution_count": 19,
   "metadata": {
    "ExecuteTime": {
     "end_time": "2020-05-26T22:16:49.581735Z",
     "start_time": "2020-05-26T22:16:49.579073Z"
    },
    "scrolled": false
   },
   "outputs": [],
   "source": [
    "bounds = [\n",
    "    dynap.params.intnux, dynap.params.intnux + 0.5,\n",
    "    dynap.params.intnuy, dynap.params.intnuy + 0.5]\n",
    "orders = [6, ]\n",
    "symmetry = 1\n",
    "resons = dynap.calc_resonances_for_bounds(bounds, orders=orders, symmetry=symmetry)"
   ]
  },
  {
   "cell_type": "code",
   "execution_count": 20,
   "metadata": {
    "ExecuteTime": {
     "end_time": "2020-05-26T22:16:50.448548Z",
     "start_time": "2020-05-26T22:16:50.443234Z"
    }
   },
   "outputs": [
    {
     "name": "stdout",
     "output_type": "stream",
     "text": [
      " 0: (-2, 4, -43)    0\n",
      " 1: (-1, 1, -35)    0\n",
      " 2: (-3, 3, -106)    0\n",
      " 3: (-4, 2, -167)    0\n",
      " 4: (1, 5, 121)    0\n",
      " 5: (-3, 0, -148)    0\n",
      " 6: (-2, 4, -41)    0\n",
      " 7: (5, 1, 261)    0\n",
      " 8: (-5, 1, -231)    0\n",
      " 9: (1, 5, 120)    0\n",
      "10: (-2, 0, -99)    0\n",
      "11: (5, 1, 260)    0\n",
      "12: (-5, 1, -232)    0\n",
      "13: (3, 0, 148)    0\n",
      "14: (1, 1, 64)    0\n",
      "15: (1, 5, 122)    0\n",
      "16: (3, 3, 191)    0\n",
      "17: (2, 0, 99)    0\n",
      "18: (5, 1, 262)    0\n",
      "19: (3, 3, 190)    0\n",
      "20: (-2, 1, -85)    0\n",
      "21: (-5, 1, -233)    0\n",
      "22: (-1, 2, -20)    0\n",
      "23: (-4, 2, -169)    0\n",
      "24: (1, 5, 119)    0\n",
      "25: (5, 1, 259)    0\n",
      "26: (-1, 2, -21)    2\n",
      "27: (-6, 0, -295)    0\n",
      "28: (-3, 3, -104)    0\n",
      "29: (0, 6, 85)    1\n",
      "30: (4, 2, 225)    0\n",
      "31: (-1, 0, -49)    0\n",
      "32: (-2, 1, -84)    0\n",
      "33: (6, 0, 295)    0\n",
      "34: (1, 1, 63)    0\n",
      "35: (4, 2, 227)    0\n",
      "36: (1, 0, 49)    0\n",
      "37: (2, 4, 155)    1\n",
      "38: (-1, 5, 22)    0\n",
      "39: (1, 2, 77)    0\n",
      "40: (-1, 5, 23)    0\n",
      "41: (0, 3, 43)    0\n",
      "42: (0, 1, 14)    0\n",
      "43: (1, 2, 78)    2\n",
      "44: (0, 2, 29)    0\n",
      "45: (2, 4, 157)    0\n",
      "46: (2, 1, 112)    0\n",
      "47: (-1, 5, 21)    0\n",
      "48: (2, 1, 113)    0\n"
     ]
    }
   ],
   "source": [
    "map2xy = dynap.map_resons_to_xyplane(resons, maxdist=1e-3)\n",
    "numb = [x.size for x, _ in map2xy]\n",
    "for i, (res, nu) in enumerate(zip(resons, numb)):\n",
    "    print(f'{i:2}: {res}  {nu:3}')\n",
    "filter_resons = [reson for reson, n in zip(resons, numb) if n > 10]"
   ]
  },
  {
   "cell_type": "code",
   "execution_count": 21,
   "metadata": {
    "ExecuteTime": {
     "end_time": "2020-05-26T22:16:51.615720Z",
     "start_time": "2020-05-26T22:16:51.467436Z"
    }
   },
   "outputs": [],
   "source": [
    "f, ax, ay = dynap.make_figure_diffusion(contour=True, resons=resons, maxdist=1e-3)\n",
    "# f, ax, ay = dynap.make_figure_diffusion(contour=True, resons=filter_resons, maxdist=1e-3)\n",
    "f.show()\n",
    "# f = dynap.make_figure_diffusion(contour=False)"
   ]
  },
  {
   "cell_type": "markdown",
   "metadata": {
    "ExecuteTime": {
     "end_time": "2020-05-23T20:39:31.643975Z",
     "start_time": "2020-05-23T20:39:31.642094Z"
    }
   },
   "source": [
    "# X and Y map to tune plot"
   ]
  },
  {
   "cell_type": "code",
   "execution_count": 29,
   "metadata": {
    "ExecuteTime": {
     "end_time": "2020-05-26T20:44:09.212928Z",
     "start_time": "2020-05-26T20:44:09.108492Z"
    }
   },
   "outputs": [],
   "source": [
    "f = dynap.make_figure_xandy_map_in_tune_plot(resons)"
   ]
  },
  {
   "cell_type": "code",
   "execution_count": null,
   "metadata": {},
   "outputs": [],
   "source": []
  }
 ],
 "metadata": {
  "celltoolbar": "Initialization Cell",
  "hide_input": false,
  "kernelspec": {
   "display_name": "Python 3",
   "language": "python",
   "name": "python3"
  },
  "language_info": {
   "codemirror_mode": {
    "name": "ipython",
    "version": 3
   },
   "file_extension": ".py",
   "mimetype": "text/x-python",
   "name": "python",
   "nbconvert_exporter": "python",
   "pygments_lexer": "ipython3",
   "version": "3.6.9"
  }
 },
 "nbformat": 4,
 "nbformat_minor": 2
}
