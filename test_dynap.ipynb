{
 "cells": [
  {
   "cell_type": "code",
   "execution_count": 5,
   "metadata": {
    "ExecuteTime": {
     "end_time": "2020-05-25T17:47:37.817145Z",
     "start_time": "2020-05-25T17:47:37.749825Z"
    },
    "init_cell": true
   },
   "outputs": [],
   "source": [
    "import os\n",
    "os.environ['SIRIUS_URL_CONSTS'] = 'http://127.0.0.1'"
   ]
  },
  {
   "cell_type": "code",
   "execution_count": 6,
   "metadata": {
    "ExecuteTime": {
     "end_time": "2020-05-25T17:47:37.889264Z",
     "start_time": "2020-05-25T17:47:37.818709Z"
    },
    "init_cell": true
   },
   "outputs": [],
   "source": [
    "%gui qt5\n",
    "%matplotlib qt5\n",
    "\n",
    "from functools import partial as _partial\n",
    "import numpy as np\n",
    "from scipy import optimize\n",
    "\n",
    "import matplotlib.pyplot as plt\n",
    "import matplotlib.gridspec as mpl_gs\n",
    "import matplotlib.cm as cmap\n",
    "import matplotlib.colors as mpl_colors\n",
    "from matplotlib import rcParams\n",
    "rcParams.update(\n",
    "    {'font.size': 16,'lines.linewidth': 2, 'axes.grid': True})\n",
    "\n",
    "import pyaccel\n",
    "import mathphys\n",
    "from pymodels import si\n",
    "from apsuite.dynap import DynapXY"
   ]
  },
  {
   "cell_type": "code",
   "execution_count": 7,
   "metadata": {
    "ExecuteTime": {
     "end_time": "2020-05-25T17:47:38.204612Z",
     "start_time": "2020-05-25T17:47:37.893761Z"
    },
    "init_cell": true
   },
   "outputs": [],
   "source": [
    "model = si.create_accelerator()\n",
    "model.cavity_on = True\n",
    "model.radiation_on = False\n",
    "dynap = DynapXY(model)"
   ]
  },
  {
   "cell_type": "code",
   "execution_count": 8,
   "metadata": {
    "ExecuteTime": {
     "end_time": "2020-05-25T17:47:38.208370Z",
     "start_time": "2020-05-25T17:47:38.205673Z"
    },
    "init_cell": true
   },
   "outputs": [
    {
     "name": "stdout",
     "output_type": "stream",
     "text": [
      "nrturns      : 512\n",
      "turn_by_turn : True\n",
      "x_nrpts      : 20\n",
      "y_nrpts      : 5\n",
      "x_min [m]    : -0.01\n",
      "x_max [m]    : -0.006\n",
      "y_min [m]    : 0\n",
      "y_max [m]    : 0.001\n",
      "de_offset    : 0\n",
      "\n"
     ]
    }
   ],
   "source": [
    "dynap.params.turn_by_turn = True\n",
    "dynap.params.x_nrpts = 20\n",
    "dynap.params.y_nrpts = 5\n",
    "dynap.params.x_min = -0.010\n",
    "dynap.params.x_max = -0.006\n",
    "dynap.params.y_min = 0\n",
    "dynap.params.y_max = 0.001\n",
    "print(dynap)"
   ]
  },
  {
   "cell_type": "code",
   "execution_count": 9,
   "metadata": {
    "ExecuteTime": {
     "end_time": "2020-05-23T21:02:07.840737Z",
     "start_time": "2020-05-23T21:00:50.788739Z"
    }
   },
   "outputs": [],
   "source": [
    "# dynap.do_tracking()"
   ]
  },
  {
   "cell_type": "code",
   "execution_count": 10,
   "metadata": {
    "ExecuteTime": {
     "end_time": "2020-05-23T21:02:10.342084Z",
     "start_time": "2020-05-23T21:02:10.292561Z"
    }
   },
   "outputs": [],
   "source": [
    "# dynap.process_data()"
   ]
  },
  {
   "cell_type": "code",
   "execution_count": 5,
   "metadata": {
    "ExecuteTime": {
     "end_time": "2020-05-23T21:06:13.954562Z",
     "start_time": "2020-05-23T21:06:13.864359Z"
    }
   },
   "outputs": [],
   "source": [
    "# # dynap.save_data('test.pickle')\n",
    "# dynap.load_and_apply('test.pickle')\n",
    "# dynap.process_data()"
   ]
  },
  {
   "cell_type": "code",
   "execution_count": 9,
   "metadata": {
    "ExecuteTime": {
     "end_time": "2020-05-25T17:47:41.020224Z",
     "start_time": "2020-05-25T17:47:39.718848Z"
    }
   },
   "outputs": [],
   "source": [
    "dynap.load_and_apply('/home/fernando/nominal.pickle')\n",
    "dynap.process_data()"
   ]
  },
  {
   "cell_type": "markdown",
   "metadata": {},
   "source": [
    "# Diffusion Plot"
   ]
  },
  {
   "cell_type": "code",
   "execution_count": 10,
   "metadata": {
    "ExecuteTime": {
     "end_time": "2020-05-25T17:47:41.911667Z",
     "start_time": "2020-05-25T17:47:41.788273Z"
    }
   },
   "outputs": [],
   "source": [
    "f = dynap.make_figure_diffusion(contour=True, orders=[1, 2, 3, ], symmetry=1, intnux=49, intnuy=14)\n",
    "# f = dynap.make_figure_diffusion(contour=False)"
   ]
  },
  {
   "cell_type": "markdown",
   "metadata": {
    "ExecuteTime": {
     "end_time": "2020-05-23T20:39:31.643975Z",
     "start_time": "2020-05-23T20:39:31.642094Z"
    }
   },
   "source": [
    "# X and Y map to tune plot"
   ]
  },
  {
   "cell_type": "code",
   "execution_count": 11,
   "metadata": {
    "ExecuteTime": {
     "end_time": "2020-05-25T17:47:47.046271Z",
     "start_time": "2020-05-25T17:47:46.982067Z"
    }
   },
   "outputs": [],
   "source": [
    "f = dynap.make_figure_xandy_map_in_tune_plot(orders=[1, 2, 3, ], symmetry=1, intnux=49, intnuy=14)"
   ]
  },
  {
   "cell_type": "code",
   "execution_count": null,
   "metadata": {},
   "outputs": [],
   "source": []
  }
 ],
 "metadata": {
  "celltoolbar": "Initialization Cell",
  "hide_input": false,
  "kernelspec": {
   "display_name": "Python 3",
   "language": "python",
   "name": "python3"
  },
  "language_info": {
   "codemirror_mode": {
    "name": "ipython",
    "version": 3
   },
   "file_extension": ".py",
   "mimetype": "text/x-python",
   "name": "python",
   "nbconvert_exporter": "python",
   "pygments_lexer": "ipython3",
   "version": "3.6.9"
  }
 },
 "nbformat": 4,
 "nbformat_minor": 2
}
