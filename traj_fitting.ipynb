{
 "cells": [
  {
   "cell_type": "code",
   "execution_count": 1,
   "metadata": {
    "ExecuteTime": {
     "end_time": "2020-04-09T19:53:48.104920Z",
     "start_time": "2020-04-09T19:53:47.707450Z"
    },
    "init_cell": true
   },
   "outputs": [],
   "source": [
    "%gui qt5\n",
    "%matplotlib qt5\n",
    "from functools import partial as _partial\n",
    "import numpy as np\n",
    "from scipy import optimize\n",
    "\n",
    "import matplotlib.pyplot as plt\n",
    "import matplotlib.gridspec as mpl_gs\n",
    "import matplotlib.cm as cmap\n",
    "from matplotlib import rcParams\n",
    "rcParams.update(\n",
    "    {'font.size': 16,'lines.linewidth': 2, 'axes.grid': True})\n",
    "\n",
    "import pyaccel\n",
    "import mathphys\n",
    "from pymodels import si"
   ]
  },
  {
   "cell_type": "code",
   "execution_count": 2,
   "metadata": {
    "ExecuteTime": {
     "end_time": "2020-04-09T19:53:51.060489Z",
     "start_time": "2020-04-09T19:53:50.110632Z"
    }
   },
   "outputs": [],
   "source": [
    "ring = si.create_accelerator()\n",
    "ring.vchamber_on = True\n",
    "famdata = si.get_family_data(ring)\n",
    "bpms = np.array(famdata['BPM']['index']).flatten()\n",
    "twi, *_ = pyaccel.optics.calc_twiss(ring)\n",
    "bpmpos = twi.spos[bpms]\n",
    "betx = twi.betax[bpms]\n",
    "bety = twi.betay[bpms]\n",
    "etax = twi.etax[bpms]\n",
    "etax_ave = np.mean(etax)  # average of dispersion function at bpms\n",
    "etay = twi.etay[bpms]\n",
    "mux = twi.mux[bpms]/2/np.pi\n",
    "muy = twi.muy[bpms]/2/np.pi"
   ]
  },
  {
   "cell_type": "code",
   "execution_count": 119,
   "metadata": {
    "ExecuteTime": {
     "end_time": "2020-04-09T22:14:57.944386Z",
     "start_time": "2020-04-09T22:14:57.903147Z"
    }
   },
   "outputs": [],
   "source": [
    "def _apply_linearxy(x_uncal, y_uncal):\n",
    "    \"\"\".\"\"\"\n",
    "    K = 12e-3/np.sqrt(2)/np.sin(1/2)*1/2\n",
    "    x_cal = x_uncal * K\n",
    "    y_cal = y_uncal * K\n",
    "    return x_cal, y_cal\n",
    "\n",
    "\n",
    "def _apply_polyxy(x_uncal, y_uncal):\n",
    "    \"\"\".\"\"\"\n",
    "    x_cal = _calc_poly(x_uncal, y_uncal)\n",
    "    y_cal = _calc_poly(y_uncal, x_uncal)\n",
    "    return x_cal, y_cal\n",
    "\n",
    "def _calc_poly(th1, ot1):\n",
    "    \"\"\".\"\"\"\n",
    "    ot2 = ot1*ot1\n",
    "    ot4 = ot2*ot2\n",
    "    ot6 = ot4*ot2\n",
    "    ot8 = ot4*ot4\n",
    "    th2 = th1*th1\n",
    "    th3 = th2*th1\n",
    "    th5 = th3*th2\n",
    "    th7 = th5*th2\n",
    "    th9 = th7*th2\n",
    "    pol = 1e-9 * np.array([\n",
    "        8.57433100e+06,  4.72784700e+06,  4.03599000e+06,  2.81406000e+06,\n",
    "        9.67341100e+06,  4.01543800e+06,  1.05648850e+07,  9.85821200e+06,\n",
    "        8.68409560e+07,  3.94657800e+06,  5.27686400e+06,  2.28461777e+08,\n",
    "       -1.13979600e+06,  9.54919660e+07,  2.43619500e+07])\n",
    "\n",
    "    return (\n",
    "        th1*(pol[0] + ot2*pol[1] + ot4*pol[2] + ot6*pol[3] + ot8*pol[4]) +\n",
    "        th3*(pol[5] + ot2*pol[6] + ot4*pol[7] + ot6*pol[8]) +\n",
    "        th5*(pol[9] + ot2*pol[10] + ot4*pol[11]) +\n",
    "        th7*(pol[12] + ot2*pol[13]) +\n",
    "        th9*pol[14])\n",
    "\n",
    "def calc_bpm_pos(x, y):\n",
    "    R0 = 12e-3\n",
    "    angant = 6e-3/R0\n",
    "    phi = np.array([1, 3, 5, 7])*np.pi/4\n",
    "    phi = np.expand_dims(phi, axis=tuple([i+1 for i in range(x.ndim)]))\n",
    "    \n",
    "    d = np.sqrt(x*x + y*y)[None, ...] / R0\n",
    "    theta = np.arctan2(y, x)[None, ...]\n",
    "    \n",
    "    d2 = d*d\n",
    "    \n",
    "    sup_esq, sup_dir, inf_dir, inf_esq = np.arctan2(\n",
    "        (1-d2)*np.sin(angant/2),\n",
    "        (1+d2)*np.cos(angant/2) - 2*d*np.cos(theta - phi))\n",
    "    \n",
    "    sum1 = sup_esq + inf_dir\n",
    "    sum2 = inf_esq + sup_dir\n",
    "    dif1 = sup_esq - inf_dir\n",
    "    dif2 = inf_esq - sup_dir\n",
    "    \n",
    "    x_uncal = (dif1/sum1 + dif2/sum2)/2 # /np.sqrt(2)/np.sin(nplenant)*nplenant\n",
    "    y_uncal = (dif1/sum1 - dif2/sum2)/2 # /np.sqrt(2)/np.sin(nplenant)*nplenant\n",
    "    \n",
    "#     x_est, y_est = _apply_linearxy(x_uncal, y_uncal)\n",
    "    x_est, y_est = _apply_polyxy(x_uncal, y_uncal)\n",
    "    return x_est, y_est\n",
    "\n",
    "def simulate_sofb(x0, xl0, y0=0, yl0=0, delta=0, errx=1e-3, erry=1e-3):\n",
    "    npart = 1000\n",
    "    bun = pyaccel.tracking.generate_bunch(3.5e-9, 35e-12, 1e-3, 5e-3, twi[0], npart, cutoff=6)\n",
    "    bun += np.array([x0, xl0, y0, yl0, delta, 0])[:, None]\n",
    "    rout, *_ = pyaccel.tracking.linepass(ring, bun, indices=bpms)\n",
    "   \n",
    "    trajx, trajy = rout[0], rout[2]\n",
    "    trajx, trajy = calc_bpm_pos(trajx, trajy)\n",
    "\n",
    "    nanx = np.isnan(trajx)\n",
    "    snan = np.sum(~nanx, axis=0)\n",
    "    indcs = snan > npart/3\n",
    "    trajx = np.nanmean(trajx[:, indcs], axis=0)\n",
    "    trajy = np.nanmean(trajy[:, indcs], axis=0)\n",
    "    \n",
    "    trajx += errx*(np.random.rand(trajx.size)-0.5)*2\n",
    "    trajy += erry*(np.random.rand(trajy.size)-0.5)*2\n",
    "    return trajx, trajy, snan\n",
    "\n",
    "\n",
    "def calc_traj(x0, xl0, y0=0, yl0=0, delta=0, size=160):\n",
    "    rin = np.array([x0, xl0, y0, yl0, delta, 0])\n",
    "    rout, *_ = pyaccel.tracking.linepass(ring, rin, bpms[:size])\n",
    "    return rout[0, :], rout[2, :]\n",
    "\n",
    "def calc_residue(vec, tx_meas, ty_meas):\n",
    "    tx_mod, ty_mod = calc_traj(*vec, size=tx_meas.size)\n",
    "    nanidcs = np.logical_or(np.isnan(tx_mod), np.isnan(tx_mod))\n",
    "    tx_mod[nanidcs] = 10.0\n",
    "    ty_mod[nanidcs] = 10.0\n",
    "    return np.hstack([tx_mod-tx_meas, ty_mod-ty_meas])\n",
    "\n",
    "def calc_chisqr(residue):\n",
    "    return np.sum(residue*residue)/residue.size\n",
    "\n",
    "def calc_jacobian(vec, size=160):\n",
    "    mat = np.zeros((2*size, 5))\n",
    "    zer = np.zeros(size)\n",
    "    dx = 1e-5\n",
    "    for i in range(vec.size):\n",
    "        dvec = np.array(vec)\n",
    "        dvec[i] += dx/2\n",
    "        res_pos = calc_residue(dvec, zer, zer)\n",
    "        dvec[i] -= dx\n",
    "        res_neg = calc_residue(dvec, zer, zer)\n",
    "        mat[:, i] = (res_pos - res_neg)/dx\n",
    "    return mat\n",
    "\n",
    "def calc_init_vals(trajx, trajy):\n",
    "    x0 = 0\n",
    "    y0 = 0\n",
    "    xl0 = 0\n",
    "    yl0 = 0\n",
    "    delta = np.mean(trajx) / etax_ave\n",
    "    return np.array([x0, xl0, y0, yl0, delta])\n",
    "\n",
    "def do_fitting(vec0, trajx, trajy, max_iter=10, tol=1e-6):\n",
    "    trax = np.array(trajx)\n",
    "    tray = np.array(trajy)\n",
    "    res0 = calc_residue(vec0, trajx, trajy)\n",
    "    chi0 = calc_chisqr(res0)\n",
    "\n",
    "    mat = calc_jacobian(vec0, size=trajx.size)\n",
    "    u, s, vh = np.linalg.svd(mat, full_matrices=False)\n",
    "    imat = vh.T @ np.diag(1/s) @ u.T\n",
    "    \n",
    "    vec, res = vec0.copy(), res0.copy()\n",
    "    factor = 1\n",
    "    for _ in range(max_iter):\n",
    "        dpos = imat @ res\n",
    "        vec -= dpos * factor\n",
    "        res = calc_residue(vec, trajx, trajy)\n",
    "        chi = calc_chisqr(res)\n",
    "        if chi >= chi0:\n",
    "            vec = vec0.copy()\n",
    "            res = res0.copy()\n",
    "            factor = max(factor/2, 1e-2)\n",
    "        else:\n",
    "            vec0 = vec.copy()\n",
    "            res0 = res.copy()\n",
    "            chi0 = chi\n",
    "            factor = min(factor*2, 1)\n",
    "        if chi0 < tol:\n",
    "            break\n",
    "    return vec0\n",
    "   "
   ]
  },
  {
   "cell_type": "code",
   "execution_count": 131,
   "metadata": {
    "ExecuteTime": {
     "end_time": "2020-04-09T22:21:20.587896Z",
     "start_time": "2020-04-09T22:21:20.191565Z"
    }
   },
   "outputs": [
    {
     "name": "stdout",
     "output_type": "stream",
     "text": [
      "31\n",
      "[ 0.          0.          0.          0.         -0.00333179]\n",
      "[-8.89151985e-03  3.41621211e-04  1.92749040e-04  3.43121261e-05\n",
      "  8.83531240e-03]\n",
      "[-9.00816349e-03  3.41569037e-04  2.39221742e-04  3.00517604e-05\n",
      "  8.97690502e-03]\n",
      "[-9.01142099e-03  3.41570716e-04  2.39911264e-04  3.01097917e-05\n",
      "  8.98779599e-03]\n",
      "[-9.01144492e-03  3.41571743e-04  2.39926271e-04  3.01082361e-05\n",
      "  8.98755401e-03]\n",
      "[-9.01144492e-03  3.41571743e-04  2.39926271e-04  3.01082361e-05\n",
      "  8.98755401e-03]\n"
     ]
    }
   ],
   "source": [
    "np.random.seed(42)\n",
    "trajx, trajy, trajsum = simulate_sofb(-9e-3, 0.35e-3, 0.0e-3, 0.0, delta=0.01)\n",
    "print(trajx.size)\n",
    "vec0 = calc_init_vals(trajx, trajy)\n",
    "print(vec0)\n",
    "vecs = [vec0, ]\n",
    "for i in range(5):\n",
    "    vec = do_fitting(vecs[-1], trajx, trajy, tol=1e-8)\n",
    "    print(vec)\n",
    "    vecs.append(vec)"
   ]
  },
  {
   "cell_type": "code",
   "execution_count": 132,
   "metadata": {
    "ExecuteTime": {
     "end_time": "2020-04-09T22:21:22.036778Z",
     "start_time": "2020-04-09T22:21:21.972068Z"
    }
   },
   "outputs": [],
   "source": [
    "f  = plt.figure(figsize=(9, 10))\n",
    "gs = mpl_gs.GridSpec(3, 1)\n",
    "gs.update(left=0.12, right=0.98, top=0.97, bottom=0.10, hspace=0.15)\n",
    "ax = plt.subplot(gs[0, 0])\n",
    "ay = plt.subplot(gs[1, 0])\n",
    "asum = plt.subplot(gs[2, 0])\n",
    "\n",
    "ax.plot(bpmpos[:trajx.size], 1e3*trajx, label='Trajectory')\n",
    "ay.plot(bpmpos[:trajy.size], 1e3*trajy)\n",
    "asum.plot(bpmpos[:trajsum.size], trajsum)\n",
    "for i, vec in enumerate(vecs):\n",
    "    trajx_fit, trajy_fit = calc_traj(*vec, size=trajx.size)\n",
    "    ax.plot(bpmpos[:trajx_fit.size], 1e3*trajx_fit, '-o', label='Fit {:d}'.format(i), linewidth=1)\n",
    "    ay.plot(bpmpos[:trajy_fit.size], 1e3*trajy_fit, '-o', linewidth=1)\n",
    "ax.legend()\n",
    "asum.set_xlabel('Position [m]')\n",
    "ax.set_ylabel('X [mm]')\n",
    "ay.set_ylabel('Y [mm]')\n",
    "asum.set_ylabel('Sum [counts]')\n",
    "f.show()"
   ]
  },
  {
   "cell_type": "code",
   "execution_count": 106,
   "metadata": {
    "ExecuteTime": {
     "end_time": "2020-04-09T22:06:48.733466Z",
     "start_time": "2020-04-09T22:06:48.698601Z"
    }
   },
   "outputs": [
    {
     "name": "stderr",
     "output_type": "stream",
     "text": [
      "No handles with labels found to put in legend.\n"
     ]
    }
   ],
   "source": [
    "f  = plt.figure(figsize=(9, 7))\n",
    "gs = mpl_gs.GridSpec(2, 1)\n",
    "gs.update(left=0.12, right=0.98, top=0.97, bottom=0.10, hspace=0.15)\n",
    "ax = plt.subplot(gs[0, 0])\n",
    "ay = plt.subplot(gs[1, 0])\n",
    "\n",
    "x = np.linspace(0, 11.9e-3, 100)\n",
    "y = np.linspace(0, 11.9e-3, 100)*0\n",
    "x_est, y_est = calc_bpm_pos(x, y)\n",
    "ax.plot(x, x_est, '-o')\n",
    "ay.plot(y, y_est, '-o')\n",
    "ax.legend()\n",
    "ay.set_xlabel('Position [m]')\n",
    "ax.set_ylabel('X [mm]')\n",
    "ay.set_ylabel('Y [mm]')\n",
    "f.show()"
   ]
  },
  {
   "cell_type": "code",
   "execution_count": null,
   "metadata": {},
   "outputs": [],
   "source": []
  }
 ],
 "metadata": {
  "celltoolbar": "Initialization Cell",
  "hide_input": false,
  "kernelspec": {
   "display_name": "Python 3",
   "language": "python",
   "name": "python3"
  },
  "language_info": {
   "codemirror_mode": {
    "name": "ipython",
    "version": 3
   },
   "file_extension": ".py",
   "mimetype": "text/x-python",
   "name": "python",
   "nbconvert_exporter": "python",
   "pygments_lexer": "ipython3",
   "version": "3.6.9"
  }
 },
 "nbformat": 4,
 "nbformat_minor": 2
}
