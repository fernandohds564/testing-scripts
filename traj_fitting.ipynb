{
 "cells": [
  {
   "cell_type": "code",
   "execution_count": 3,
   "metadata": {
    "ExecuteTime": {
     "end_time": "2020-04-14T13:32:29.031146Z",
     "start_time": "2020-04-14T13:32:29.028438Z"
    },
    "init_cell": true
   },
   "outputs": [],
   "source": [
    "import os\n",
    "os.environ['SIRIUS_URL_CONSTS'] = 'http://127.0.0.1'"
   ]
  },
  {
   "cell_type": "code",
   "execution_count": 4,
   "metadata": {
    "ExecuteTime": {
     "end_time": "2020-04-14T13:32:29.101878Z",
     "start_time": "2020-04-14T13:32:29.032930Z"
    },
    "init_cell": true
   },
   "outputs": [],
   "source": [
    "%gui qt5\n",
    "%matplotlib qt5\n",
    "\n",
    "from functools import partial as _partial\n",
    "import numpy as np\n",
    "from scipy import optimize\n",
    "\n",
    "import matplotlib.pyplot as plt\n",
    "import matplotlib.gridspec as mpl_gs\n",
    "import matplotlib.cm as cmap\n",
    "from matplotlib import rcParams\n",
    "rcParams.update(\n",
    "    {'font.size': 16,'lines.linewidth': 2, 'axes.grid': True})\n",
    "\n",
    "import pyaccel\n",
    "import mathphys\n",
    "from pymodels import si\n",
    "from apsuite.commissioning_scripts.inj_traj_fitting import FitInjTraj"
   ]
  },
  {
   "cell_type": "code",
   "execution_count": 5,
   "metadata": {
    "ExecuteTime": {
     "end_time": "2020-04-14T13:32:32.386583Z",
     "start_time": "2020-04-14T13:32:30.939480Z"
    }
   },
   "outputs": [],
   "source": [
    "fit_traj = FitInjTraj()"
   ]
  },
  {
   "cell_type": "code",
   "execution_count": 6,
   "metadata": {
    "ExecuteTime": {
     "end_time": "2020-04-14T13:32:34.713196Z",
     "start_time": "2020-04-14T13:32:33.083273Z"
    }
   },
   "outputs": [
    {
     "name": "stdout",
     "output_type": "stream",
     "text": [
      "160\n"
     ]
    }
   ],
   "source": [
    "np.random.seed(42)\n",
    "x0, xl0, y0, yl0, de0 = -8.0e-3, 0.0e-3, 0.0e-3, 0.0, 0.01\n",
    "twi = pyaccel.optics.Twiss(twiss=fit_traj.twiss[0], copy=True)\n",
    "twi.betax = 100\n",
    "trajx, trajy, trajsum = fit_traj.simulate_sofb(x0, xl0, y0, yl0, de0, twi=twi)\n",
    "print(trajx.size)\n",
    "vecs = fit_traj.do_fitting(trajx, trajy, tol=1e-8)"
   ]
  },
  {
   "cell_type": "code",
   "execution_count": 20,
   "metadata": {
    "ExecuteTime": {
     "end_time": "2020-04-13T21:30:39.621826Z",
     "start_time": "2020-04-13T21:30:39.606582Z"
    }
   },
   "outputs": [
    {
     "name": "stdout",
     "output_type": "stream",
     "text": [
      "             x [mm]   xl [mrad]    y [mm]   yl [mrad]    de [%]   \n",
      "Real         -8.00       0.00       0.00       0.00       1.00    \n",
      "Fit          -7.95      -0.01      -0.01       0.00       0.96    \n"
     ]
    }
   ],
   "source": [
    "x, xl, y, yl, de = vecs[-1]\n",
    "tmpl = '{:10s} ' + '{:^10.2f} '*5\n",
    "ttmpl = '{:10s} ' + '{:^10s} '*5\n",
    "print(ttmpl.format('', 'x [mm]', 'xl [mrad]', 'y [mm]', 'yl [mrad]', 'de [%]'))\n",
    "print(tmpl.format('Real', x0*1e3, xl0*1e3, y0*1e3, yl0*1e3, de0*1e2))\n",
    "print(tmpl.format('Fit', x*1e3, xl*1e3, y*1e3, yl*1e3, de*1e2))"
   ]
  },
  {
   "cell_type": "code",
   "execution_count": 21,
   "metadata": {
    "ExecuteTime": {
     "end_time": "2020-04-13T21:30:44.117524Z",
     "start_time": "2020-04-13T21:30:44.055336Z"
    }
   },
   "outputs": [],
   "source": [
    "f  = plt.figure(figsize=(9, 10))\n",
    "gs = mpl_gs.GridSpec(3, 1)\n",
    "gs.update(left=0.12, right=0.98, top=0.97, bottom=0.10, hspace=0.15)\n",
    "ax = plt.subplot(gs[0, 0])\n",
    "ay = plt.subplot(gs[1, 0])\n",
    "asum = plt.subplot(gs[2, 0])\n",
    "\n",
    "trajx_real, trajy_real = fit_traj.calc_traj(x0, xl0, y0, yl0, de0, size=trajx.size)\n",
    "bpmpos = fit_traj.twiss.spos[fit_traj.bpm_idx]\n",
    "\n",
    "ax.plot(bpmpos[:trajx_real.size], 1e3*trajx_real, '-x', label='Real')\n",
    "ay.plot(bpmpos[:trajy_real.size], 1e3*trajy_real, '-x', label='Real')\n",
    "\n",
    "ax.plot(bpmpos[:trajx.size], 1e3*trajx, '-d', label='SOFB')\n",
    "ay.plot(bpmpos[:trajy.size], 1e3*trajy, '-d', label='SOFB')\n",
    "asum.plot(bpmpos[:trajsum.size], trajsum)\n",
    "\n",
    "trajx_fit, trajy_fit = fit_traj.calc_traj(*vecs[-1], size=trajx.size)\n",
    "ax.plot(bpmpos[:trajx_fit.size], 1e3*trajx_fit, '-o', label='Fiting', linewidth=1)\n",
    "ay.plot(bpmpos[:trajy_fit.size], 1e3*trajy_fit, '-o', label='Fiting', linewidth=1)\n",
    "\n",
    "ay.legend()\n",
    "asum.set_xlabel('Position [m]')\n",
    "ax.set_ylabel('X [mm]')\n",
    "ay.set_ylabel('Y [mm]')\n",
    "asum.set_ylabel('Sum [counts]')\n",
    "f.show()"
   ]
  },
  {
   "cell_type": "code",
   "execution_count": null,
   "metadata": {},
   "outputs": [],
   "source": []
  }
 ],
 "metadata": {
  "celltoolbar": "Initialization Cell",
  "hide_input": false,
  "kernelspec": {
   "display_name": "Python 3",
   "language": "python",
   "name": "python3"
  },
  "language_info": {
   "codemirror_mode": {
    "name": "ipython",
    "version": 3
   },
   "file_extension": ".py",
   "mimetype": "text/x-python",
   "name": "python",
   "nbconvert_exporter": "python",
   "pygments_lexer": "ipython3",
   "version": "3.6.9"
  }
 },
 "nbformat": 4,
 "nbformat_minor": 2
}
