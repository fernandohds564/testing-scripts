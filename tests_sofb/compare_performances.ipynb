{
 "cells": [
  {
   "cell_type": "code",
   "execution_count": 17,
   "metadata": {
    "ExecuteTime": {
     "end_time": "2020-06-19T17:13:25.281705Z",
     "start_time": "2020-06-19T17:13:25.274879Z"
    }
   },
   "outputs": [],
   "source": [
    "%gui qt5\n",
    "%matplotlib qt5\n",
    "\n",
    "import os\n",
    "import matplotlib.pyplot as mplt\n",
    "import matplotlib.gridspec as mgs\n",
    "import matplotlib.cm as mcmap\n",
    "from matplotlib import rcParams\n",
    "rcParams.update({'font.size': 16,'lines.linewidth':2, 'axes.grid': True})\n",
    "\n",
    "import numpy as np"
   ]
  },
  {
   "cell_type": "code",
   "execution_count": 30,
   "metadata": {
    "ExecuteTime": {
     "end_time": "2020-06-19T18:26:02.973073Z",
     "start_time": "2020-06-19T18:26:02.941356Z"
    }
   },
   "outputs": [],
   "source": [
    "sp_449 = np.loadtxt('lnls449/send_sp.txt')\n",
    "rb_449 = np.loadtxt('lnls449/check_ready.txt')\n",
    "rf_449 = np.loadtxt('lnls449/check_applied.txt')\n",
    "tt_449 = np.loadtxt('lnls449/total_apply.txt')\n",
    "\n",
    "sp_561 = np.loadtxt('lnls561/send_sp.txt')\n",
    "rb_561 = np.loadtxt('lnls561/check_ready.txt')\n",
    "rf_561 = np.loadtxt('lnls561/check_applied.txt')\n",
    "tt_561 = np.loadtxt('lnls561/total_apply.txt')"
   ]
  },
  {
   "cell_type": "code",
   "execution_count": 36,
   "metadata": {
    "ExecuteTime": {
     "end_time": "2020-06-19T19:00:26.214634Z",
     "start_time": "2020-06-19T19:00:25.846506Z"
    }
   },
   "outputs": [],
   "source": [
    "fig = mplt.figure(figsize=(8, 10))\n",
    "gs = mgs.GridSpec(4, 2)\n",
    "gs.update(\n",
    "    left=0.12, right=0.97, top=0.95, bottom=0.10,\n",
    "    hspace=0.2, wspace=0.25)\n",
    "asp4 = mplt.subplot(gs[0, 0])\n",
    "arb4 = mplt.subplot(gs[1, 0])\n",
    "arf4 = mplt.subplot(gs[2, 0])\n",
    "att4 = mplt.subplot(gs[3, 0])\n",
    "asp5 = mplt.subplot(gs[0, 1], sharex=asp4)\n",
    "arb5 = mplt.subplot(gs[1, 1], sharex=arb4)\n",
    "arf5 = mplt.subplot(gs[2, 1], sharex=arf4)\n",
    "att5 = mplt.subplot(gs[3, 1], sharex=att4)\n",
    "\n",
    "asp4.hist(sp_449, bins=50)\n",
    "arb4.hist(rb_449, bins=50)\n",
    "arf4.hist(rf_449, bins=50)\n",
    "att4.hist(tt_449, bins=50)\n",
    "asp5.hist(sp_561, bins=100)\n",
    "arb5.hist(rb_561, bins=100)\n",
    "arf5.hist(rf_561, bins=100)\n",
    "att5.hist(tt_561, bins=100)\n",
    "\n",
    "def strn_avgstd(axn, data):\n",
    "    avg = data.mean()\n",
    "    std = data.std()\n",
    "    mini = data.min()\n",
    "    maxi = data.max()\n",
    "    stg = f'avg = {avg:.1f}ms\\n'\n",
    "    stg += f'std = {std:.1f}ms\\n'\n",
    "    stg += f'min = {mini:.1f}ms\\n'\n",
    "    stg += f'max = {maxi:.1f}ms'\n",
    "    axn.text(\n",
    "        0.8, 0.8, stg, horizontalalignment='center',\n",
    "        fontsize='xx-small',\n",
    "        verticalalignment='center', transform=axn.transAxes,\n",
    "        bbox=dict(edgecolor='k', facecolor='w', alpha=1.0))\n",
    "\n",
    "strn_avgstd(asp4, sp_449)\n",
    "strn_avgstd(arb4, rb_449)\n",
    "strn_avgstd(arf4, rf_449)\n",
    "strn_avgstd(att4, tt_449)\n",
    "strn_avgstd(asp5, sp_561)\n",
    "strn_avgstd(arb5, rb_561)\n",
    "strn_avgstd(arf5, rf_561)\n",
    "strn_avgstd(att5, tt_561)\n",
    "\n",
    "asp4.set_title('lnls449-linux')\n",
    "asp5.set_title('lnls561-linux')\n",
    "att4.set_xlabel('time [ms]')\n",
    "att5.set_xlabel('time [ms]')\n",
    "asp4.set_ylabel('# send SP')\n",
    "arb4.set_ylabel('# Check RB')\n",
    "arf4.set_ylabel('# Check Ref-Mon')\n",
    "att4.set_ylabel('# Total Apply')\n",
    "    \n",
    "fig.show()"
   ]
  },
  {
   "cell_type": "code",
   "execution_count": 39,
   "metadata": {
    "ExecuteTime": {
     "end_time": "2020-06-19T19:06:18.945468Z",
     "start_time": "2020-06-19T19:06:18.761195Z"
    }
   },
   "outputs": [],
   "source": [
    "fig = mplt.figure(figsize=(8, 10))\n",
    "gs = mgs.GridSpec(4, 2)\n",
    "gs.update(\n",
    "    left=0.12, right=0.97, top=0.95, bottom=0.10,\n",
    "    hspace=0.2, wspace=0.25)\n",
    "asp4 = mplt.subplot(gs[0, 0])\n",
    "arb4 = mplt.subplot(gs[1, 0])\n",
    "arf4 = mplt.subplot(gs[2, 0])\n",
    "att4 = mplt.subplot(gs[3, 0])\n",
    "asp5 = mplt.subplot(gs[0, 1])\n",
    "arb5 = mplt.subplot(gs[1, 1])\n",
    "arf5 = mplt.subplot(gs[2, 1])\n",
    "att5 = mplt.subplot(gs[3, 1])\n",
    "\n",
    "asp4.plot(sp_449)\n",
    "arb4.plot(rb_449)\n",
    "arf4.plot(rf_449)\n",
    "att4.plot(tt_449)\n",
    "asp5.plot(sp_561)\n",
    "arb5.plot(rb_561)\n",
    "arf5.plot(rf_561)\n",
    "att5.plot(tt_561)\n",
    "\n",
    "def strn_avgstd(axn, data):\n",
    "    avg = data.mean()\n",
    "    std = data.std()\n",
    "    mini = data.min()\n",
    "    maxi = data.max()\n",
    "    stg = f'avg = {avg:.1f}ms\\n'\n",
    "    stg += f'std = {std:.1f}ms\\n'\n",
    "    stg += f'min = {mini:.1f}ms\\n'\n",
    "    stg += f'max = {maxi:.1f}ms'\n",
    "    axn.text(\n",
    "        0.8, 0.8, stg, horizontalalignment='center',\n",
    "        fontsize='xx-small',\n",
    "        verticalalignment='center', transform=axn.transAxes,\n",
    "        bbox=dict(edgecolor='k', facecolor='w', alpha=1.0))\n",
    "\n",
    "strn_avgstd(asp4, sp_449)\n",
    "strn_avgstd(arb4, rb_449)\n",
    "strn_avgstd(arf4, rf_449)\n",
    "strn_avgstd(att4, tt_449)\n",
    "strn_avgstd(asp5, sp_561)\n",
    "strn_avgstd(arb5, rb_561)\n",
    "strn_avgstd(arf5, rf_561)\n",
    "strn_avgstd(att5, tt_561)\n",
    "\n",
    "asp4.set_title('lnls449-linux', fontsize='x-small')\n",
    "asp5.set_title('lnls561-linux', fontsize='x-small')\n",
    "att4.set_xlabel('iteration', fontsize='x-small')\n",
    "att5.set_xlabel('iteration', fontsize='x-small')\n",
    "asp4.set_ylabel('SP time [ms]', fontsize='x-small')\n",
    "arb4.set_ylabel('Check RB time[ms]', fontsize='x-small')\n",
    "arf4.set_ylabel('Check Ref-Mon time[ms]', fontsize='x-small')\n",
    "att4.set_ylabel('Total Apply time [ms]', fontsize='x-small')\n",
    "    \n",
    "fig.show()"
   ]
  },
  {
   "cell_type": "code",
   "execution_count": 11,
   "metadata": {
    "ExecuteTime": {
     "end_time": "2020-06-19T17:11:08.500841Z",
     "start_time": "2020-06-19T17:11:08.498356Z"
    }
   },
   "outputs": [
    {
     "data": {
      "text/plain": [
       "157"
      ]
     },
     "execution_count": 11,
     "metadata": {},
     "output_type": "execute_result"
    }
   ],
   "source": [
    "sp_449.size"
   ]
  },
  {
   "cell_type": "code",
   "execution_count": 35,
   "metadata": {
    "ExecuteTime": {
     "end_time": "2020-06-19T18:52:29.970044Z",
     "start_time": "2020-06-19T18:52:29.965006Z"
    }
   },
   "outputs": [
    {
     "data": {
      "text/plain": [
       "0.4555256064690027"
      ]
     },
     "execution_count": 35,
     "metadata": {},
     "output_type": "execute_result"
    }
   ],
   "source": [
    "169/371"
   ]
  },
  {
   "cell_type": "code",
   "execution_count": null,
   "metadata": {},
   "outputs": [],
   "source": []
  }
 ],
 "metadata": {
  "hide_input": false,
  "kernelspec": {
   "display_name": "Python 3.6.9 64-bit",
   "language": "python",
   "name": "python36964bit6d3be77bd7b24c658ffd996aa88e25fd"
  },
  "language_info": {
   "codemirror_mode": {
    "name": "ipython",
    "version": 3
   },
   "file_extension": ".py",
   "mimetype": "text/x-python",
   "name": "python",
   "nbconvert_exporter": "python",
   "pygments_lexer": "ipython3",
   "version": "3.6.9"
  }
 },
 "nbformat": 4,
 "nbformat_minor": 2
}
