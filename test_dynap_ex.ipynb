{
 "cells": [
  {
   "cell_type": "code",
   "execution_count": 5,
   "metadata": {
    "ExecuteTime": {
     "end_time": "2020-05-29T21:42:54.764305Z",
     "start_time": "2020-05-29T21:42:54.700670Z"
    },
    "init_cell": true
   },
   "outputs": [],
   "source": [
    "import os\n",
    "os.environ['SIRIUS_URL_CONSTS'] = 'http://127.0.0.1'"
   ]
  },
  {
   "cell_type": "code",
   "execution_count": 6,
   "metadata": {
    "ExecuteTime": {
     "end_time": "2020-05-29T21:42:54.826618Z",
     "start_time": "2020-05-29T21:42:54.768798Z"
    },
    "init_cell": true
   },
   "outputs": [],
   "source": [
    "%gui qt5\n",
    "%matplotlib qt5\n",
    "\n",
    "from functools import partial as _partial\n",
    "import numpy as np\n",
    "from scipy import optimize\n",
    "\n",
    "import matplotlib.pyplot as plt\n",
    "import matplotlib.gridspec as mpl_gs\n",
    "import matplotlib.cm as cmap\n",
    "import matplotlib.colors as mpl_colors\n",
    "from matplotlib import rcParams\n",
    "rcParams.update(\n",
    "    {'font.size': 16,'lines.linewidth': 2, 'axes.grid': True})\n",
    "\n",
    "import pyaccel\n",
    "import mathphys\n",
    "from pymodels import si\n",
    "from apsuite.dynap import DynapEX\n",
    "from apsuite.optics_analysis import TuneCorr"
   ]
  },
  {
   "cell_type": "code",
   "execution_count": 7,
   "metadata": {
    "ExecuteTime": {
     "end_time": "2020-05-29T21:42:55.148030Z",
     "start_time": "2020-05-29T21:42:54.830928Z"
    },
    "init_cell": true
   },
   "outputs": [],
   "source": [
    "model = si.create_accelerator()\n",
    "model.cavity_on = False\n",
    "model.radiation_on = False\n",
    "dynap = DynapEX(model)"
   ]
  },
  {
   "cell_type": "code",
   "execution_count": 18,
   "metadata": {
    "ExecuteTime": {
     "end_time": "2020-05-26T19:55:14.787048Z",
     "start_time": "2020-05-26T19:55:14.261257Z"
    }
   },
   "outputs": [],
   "source": [
    "tunecorr = TuneCorr(model, 'SI')"
   ]
  },
  {
   "cell_type": "code",
   "execution_count": 19,
   "metadata": {
    "ExecuteTime": {
     "end_time": "2020-05-26T19:55:27.664346Z",
     "start_time": "2020-05-26T19:55:26.837495Z"
    }
   },
   "outputs": [
    {
     "data": {
      "text/plain": [
       "1"
      ]
     },
     "execution_count": 19,
     "metadata": {},
     "output_type": "execute_result"
    }
   ],
   "source": [
    "tunecorr.correct_parameters([49.186188, 14.2300])"
   ]
  },
  {
   "cell_type": "code",
   "execution_count": 20,
   "metadata": {
    "ExecuteTime": {
     "end_time": "2020-05-26T19:55:30.746593Z",
     "start_time": "2020-05-26T19:55:30.667391Z"
    }
   },
   "outputs": [
    {
     "data": {
      "text/plain": [
       "(49.18574477838651, 14.230530180928666)"
      ]
     },
     "execution_count": 20,
     "metadata": {},
     "output_type": "execute_result"
    }
   ],
   "source": [
    "twi, _ = pyaccel.optics.calc_twiss(dynap._acc)\n",
    "twi.mux[-1]/2/np.pi, twi.muy[-1]/2/np.pi"
   ]
  },
  {
   "cell_type": "code",
   "execution_count": 8,
   "metadata": {
    "ExecuteTime": {
     "end_time": "2020-05-29T21:42:55.152118Z",
     "start_time": "2020-05-29T21:42:55.149410Z"
    },
    "init_cell": true
   },
   "outputs": [
    {
     "name": "stdout",
     "output_type": "stream",
     "text": [
      "nrturns      : 512\n",
      "turn_by_turn : True\n",
      "x_nrpts      : 70\n",
      "de_nrpts     : 70\n",
      "x_min [m]    : -0.012\n",
      "x_max [m]    : 0\n",
      "de_min       : -0.05\n",
      "de_max       : 0.05\n",
      "y_offset [m] : 0.0001\n",
      "xl_off [rad] : 1e-05\n",
      "yl_off [rad] : 1e-05\n",
      "intnux       : 49.00 (for graphs)\n",
      "intnuy       : 14.00 (for graphs)\n",
      "\n"
     ]
    }
   ],
   "source": [
    "dynap.params.turn_by_turn = True\n",
    "dynap.params.x_nrpts = 70\n",
    "dynap.params.de_nrpts = 70\n",
    "dynap.params.x_min = -0.012\n",
    "dynap.params.x_max = 0.00\n",
    "dynap.params.de_min = -0.05\n",
    "dynap.params.de_max = 0.05\n",
    "print(dynap)"
   ]
  },
  {
   "cell_type": "code",
   "execution_count": 10,
   "metadata": {
    "ExecuteTime": {
     "end_time": "2020-05-29T18:31:22.525565Z",
     "start_time": "2020-05-29T18:31:14.221059Z"
    }
   },
   "outputs": [],
   "source": [
    "dynap.do_tracking()"
   ]
  },
  {
   "cell_type": "code",
   "execution_count": 11,
   "metadata": {
    "ExecuteTime": {
     "end_time": "2020-05-29T18:31:24.334936Z",
     "start_time": "2020-05-29T18:31:24.308011Z"
    }
   },
   "outputs": [
    {
     "data": {
      "text/plain": [
       "{'x_in': array([[-0.012, -0.012, -0.012, -0.012, -0.012],\n",
       "        [-0.009, -0.009, -0.009, -0.009, -0.009],\n",
       "        [-0.006, -0.006, -0.006, -0.006, -0.006],\n",
       "        [-0.003, -0.003, -0.003, -0.003, -0.003],\n",
       "        [ 0.   ,  0.   ,  0.   ,  0.   ,  0.   ]]),\n",
       " 'de_in': array([[-0.05 , -0.025,  0.   ,  0.025,  0.05 ],\n",
       "        [-0.05 , -0.025,  0.   ,  0.025,  0.05 ],\n",
       "        [-0.05 , -0.025,  0.   ,  0.025,  0.05 ],\n",
       "        [-0.05 , -0.025,  0.   ,  0.025,  0.05 ],\n",
       "        [-0.05 , -0.025,  0.   ,  0.025,  0.05 ]]),\n",
       " 'rout': array([[[-1.20000000e-02,             nan,             nan, ...,\n",
       "                      nan,             nan,             nan],\n",
       "         [-1.20000000e-02,             nan,             nan, ...,\n",
       "                      nan,             nan,             nan],\n",
       "         [-1.20000000e-02, -4.94333012e-03,  5.86632628e-03, ...,\n",
       "                      nan,             nan,             nan],\n",
       "         ...,\n",
       "         [ 0.00000000e+00,  9.73335776e-05,  1.60684461e-04, ...,\n",
       "           6.04254435e-05,  1.41223868e-04,  1.71423347e-04],\n",
       "         [ 0.00000000e+00,  6.86001468e-04,  1.11699897e-03, ...,\n",
       "           1.13210671e-04, -2.30126615e-05, -1.46044406e-04],\n",
       "         [ 0.00000000e+00, -1.41235623e-03,  6.84748030e-04, ...,\n",
       "                      nan,             nan,             nan]],\n",
       " \n",
       "        [[ 1.00000000e-05,             nan,             nan, ...,\n",
       "                      nan,             nan,             nan],\n",
       "         [ 1.00000000e-05,             nan,             nan, ...,\n",
       "                      nan,             nan,             nan],\n",
       "         [ 1.00000000e-05,  6.10181449e-04,  6.59937049e-04, ...,\n",
       "                      nan,             nan,             nan],\n",
       "         ...,\n",
       "         [ 1.00000000e-05,  8.11392944e-06,  3.51686197e-06, ...,\n",
       "           9.30058107e-06,  5.57440531e-06,  3.17103073e-08],\n",
       "         [ 1.00000000e-05,  1.14834045e-05,  2.15444919e-06, ...,\n",
       "          -2.72159525e-05, -2.82315396e-05, -2.35962865e-05],\n",
       "         [ 1.00000000e-05, -2.26185369e-06, -1.69491530e-05, ...,\n",
       "                      nan,             nan,             nan]],\n",
       " \n",
       "        [[ 1.00000000e-04,             nan,             nan, ...,\n",
       "                      nan,             nan,             nan],\n",
       "         [ 1.00000000e-04,             nan,             nan, ...,\n",
       "                      nan,             nan,             nan],\n",
       "         [ 1.00000000e-04, -8.17528904e-05,  8.89517458e-05, ...,\n",
       "                      nan,             nan,             nan],\n",
       "         ...,\n",
       "         [ 1.00000000e-04,  8.60154975e-05,  8.41168974e-08, ...,\n",
       "          -1.05588739e-04, -5.79392066e-05,  3.79341287e-05],\n",
       "         [ 1.00000000e-04,  1.79624248e-05, -9.70038491e-05, ...,\n",
       "           4.09501140e-05, -5.64994712e-05, -1.14567014e-04],\n",
       "         [ 1.00000000e-04, -9.30825464e-05,  9.88832531e-05, ...,\n",
       "                      nan,             nan,             nan]],\n",
       " \n",
       "        [[ 1.00000000e-05,             nan,             nan, ...,\n",
       "                      nan,             nan,             nan],\n",
       "         [ 1.00000000e-05,             nan,             nan, ...,\n",
       "                      nan,             nan,             nan],\n",
       "         [ 1.00000000e-05, -2.67716060e-05,  4.20933102e-05, ...,\n",
       "                      nan,             nan,             nan],\n",
       "         ...,\n",
       "         [ 1.00000000e-05, -1.69107270e-05, -2.96460156e-05, ...,\n",
       "           7.46413212e-07,  2.46367559e-05,  2.76612246e-05],\n",
       "         [ 1.00000000e-05, -3.44211378e-05, -1.83211159e-06, ...,\n",
       "          -2.87421122e-05, -2.59500504e-05, -4.65852885e-06],\n",
       "         [ 1.00000000e-05, -2.96555765e-06, -2.94636575e-07, ...,\n",
       "                      nan,             nan,             nan]],\n",
       " \n",
       "        [[-5.00000000e-02,             nan,             nan, ...,\n",
       "                      nan,             nan,             nan],\n",
       "         [-2.50000000e-02,             nan,             nan, ...,\n",
       "                      nan,             nan,             nan],\n",
       "         [ 0.00000000e+00,  8.11243426e-09, -7.67742841e-07, ...,\n",
       "                      nan,             nan,             nan],\n",
       "         ...,\n",
       "         [ 0.00000000e+00,  7.52291071e-11,  5.41653247e-10, ...,\n",
       "           8.41826889e-07,  8.48333971e-07,  8.54476366e-07],\n",
       "         [ 2.50000000e-02,  2.49976811e-02,  2.49721952e-02, ...,\n",
       "          -1.09040832e-02, -1.15432191e-02, -1.21746366e-02],\n",
       "         [ 5.00000000e-02,  4.99952041e-02,  4.99425404e-02, ...,\n",
       "                      nan,             nan,             nan]],\n",
       " \n",
       "        [[ 0.00000000e+00,             nan,             nan, ...,\n",
       "                      nan,             nan,             nan],\n",
       "         [ 0.00000000e+00,             nan,             nan, ...,\n",
       "                      nan,             nan,             nan],\n",
       "         [ 0.00000000e+00,  1.28914128e-04,  4.21252392e-05, ...,\n",
       "                      nan,             nan,             nan],\n",
       "         ...,\n",
       "         [ 0.00000000e+00, -6.24645827e-08, -9.14004871e-08, ...,\n",
       "          -6.37165458e-07, -6.12109322e-07, -5.53260419e-07],\n",
       "         [ 0.00000000e+00,  2.21267406e-03,  4.42400748e-03, ...,\n",
       "           6.63021892e-02,  6.53529218e-02,  6.43529225e-02],\n",
       "         [ 0.00000000e+00,  4.57199454e-03,  9.14232160e-03, ...,\n",
       "                      nan,             nan,             nan]]]),\n",
       " 'lost_turn': [0,\n",
       "  0,\n",
       "  13,\n",
       "  104,\n",
       "  1,\n",
       "  0,\n",
       "  0,\n",
       "  512,\n",
       "  512,\n",
       "  1,\n",
       "  0,\n",
       "  0,\n",
       "  512,\n",
       "  512,\n",
       "  7,\n",
       "  0,\n",
       "  512,\n",
       "  512,\n",
       "  512,\n",
       "  2,\n",
       "  512,\n",
       "  512,\n",
       "  512,\n",
       "  512,\n",
       "  127],\n",
       " 'lost_element': [580,\n",
       "  5814,\n",
       "  2921,\n",
       "  1139,\n",
       "  1603,\n",
       "  666,\n",
       "  1807,\n",
       "  0,\n",
       "  0,\n",
       "  16,\n",
       "  1707,\n",
       "  1959,\n",
       "  0,\n",
       "  0,\n",
       "  958,\n",
       "  1483,\n",
       "  0,\n",
       "  0,\n",
       "  0,\n",
       "  16,\n",
       "  0,\n",
       "  0,\n",
       "  0,\n",
       "  0,\n",
       "  909],\n",
       " 'lost_plane': ['x',\n",
       "  'x',\n",
       "  'x',\n",
       "  'x',\n",
       "  'x',\n",
       "  'x',\n",
       "  'x',\n",
       "  None,\n",
       "  None,\n",
       "  'x',\n",
       "  'x',\n",
       "  'x',\n",
       "  None,\n",
       "  None,\n",
       "  'x',\n",
       "  'x',\n",
       "  None,\n",
       "  None,\n",
       "  None,\n",
       "  'x',\n",
       "  None,\n",
       "  None,\n",
       "  None,\n",
       "  None,\n",
       "  'x']}"
      ]
     },
     "execution_count": 11,
     "metadata": {},
     "output_type": "execute_result"
    }
   ],
   "source": [
    "dynap.data"
   ]
  },
  {
   "cell_type": "code",
   "execution_count": 12,
   "metadata": {
    "ExecuteTime": {
     "end_time": "2020-05-29T18:31:27.396179Z",
     "start_time": "2020-05-29T18:31:27.386968Z"
    }
   },
   "outputs": [],
   "source": [
    "dynap.process_data()"
   ]
  },
  {
   "cell_type": "code",
   "execution_count": 9,
   "metadata": {
    "ExecuteTime": {
     "end_time": "2020-05-29T21:42:57.396365Z",
     "start_time": "2020-05-29T21:42:56.111025Z"
    }
   },
   "outputs": [],
   "source": [
    "# dynap.save_data('/home/fernando/nominal_ex.pickle')\n",
    "dynap.load_and_apply('/home/fernando/nominal_ex.pickle')\n",
    "dynap.process_data()"
   ]
  },
  {
   "cell_type": "markdown",
   "metadata": {},
   "source": [
    "# Diffusion Plot"
   ]
  },
  {
   "cell_type": "code",
   "execution_count": 10,
   "metadata": {
    "ExecuteTime": {
     "end_time": "2020-05-29T21:42:58.108177Z",
     "start_time": "2020-05-29T21:42:58.104609Z"
    },
    "scrolled": false
   },
   "outputs": [],
   "source": [
    "bounds = [\n",
    "    dynap.params.intnux, dynap.params.intnux + 0.5,\n",
    "    dynap.params.intnuy, dynap.params.intnuy + 0.5]\n",
    "orders = 6\n",
    "symmetry = 1\n",
    "resons = dynap.calc_resonances_for_bounds(bounds, orders=orders, symmetry=symmetry)"
   ]
  },
  {
   "cell_type": "code",
   "execution_count": 11,
   "metadata": {
    "ExecuteTime": {
     "end_time": "2020-05-29T21:42:58.596652Z",
     "start_time": "2020-05-29T21:42:58.574386Z"
    }
   },
   "outputs": [
    {
     "name": "stdout",
     "output_type": "stream",
     "text": [
      " 9: (3, 2, 176)   28\n",
      "15: (4, 2, 225)   31\n",
      "16: (0, 5, 71)   31\n",
      "19: (2, 4, 155)   30\n",
      "38: (0, 4, 57)   32\n",
      "41: (0, 6, 85)   28\n",
      "52: (-4, 1, -182)   25\n",
      "70: (-2, 1, -84)   39\n",
      "\n",
      "(2, 4, 155)\n",
      "(0, 4, 57)\n",
      "(0, 6, 85)\n"
     ]
    }
   ],
   "source": [
    "map2xy = dynap.map_resons2real_plane(resons, maxdist=1e-3, min_diffusion=1e-5)\n",
    "numb = [x.size for x in map2xy]\n",
    "filter_resons = []\n",
    "for i, (res, nu) in enumerate(zip(resons, numb)):\n",
    "    if nu > 20:\n",
    "        print(f'{i:2}: {res}  {nu:3}')\n",
    "        filter_resons.append(res)\n",
    "\n",
    "to_remove = [0, 1, 2, 6, 7]\n",
    "for idx in sorted(to_remove, reverse=True):\n",
    "    del filter_resons[idx]\n",
    "\n",
    "print()\n",
    "for i, reson in enumerate(filter_resons):\n",
    "    print(f'{reson}')"
   ]
  },
  {
   "cell_type": "code",
   "execution_count": 13,
   "metadata": {
    "ExecuteTime": {
     "end_time": "2020-05-29T21:45:20.913203Z",
     "start_time": "2020-05-29T21:45:20.832453Z"
    }
   },
   "outputs": [],
   "source": [
    "f, ax, ay = dynap.make_figure_diffusion(contour=True, resons=filter_resons, maxdist=1e-3, min_diffusion=1e-5)\n",
    "# f, ax, ay = dynap.make_figure_diffusion(contour=True, resons=filter_resons, maxdist=1e-3)\n",
    "f.show()\n",
    "# f = dynap.make_figure_diffusion(contour=False)"
   ]
  },
  {
   "cell_type": "markdown",
   "metadata": {
    "ExecuteTime": {
     "end_time": "2020-05-23T20:39:31.643975Z",
     "start_time": "2020-05-23T20:39:31.642094Z"
    }
   },
   "source": [
    "# X and Y map to tune plot"
   ]
  },
  {
   "cell_type": "code",
   "execution_count": 30,
   "metadata": {
    "ExecuteTime": {
     "end_time": "2020-05-29T19:29:35.951215Z",
     "start_time": "2020-05-29T19:29:35.803353Z"
    }
   },
   "outputs": [],
   "source": [
    "f = dynap.make_figure_map_real2tune_planes(resons)"
   ]
  },
  {
   "cell_type": "code",
   "execution_count": null,
   "metadata": {},
   "outputs": [],
   "source": []
  }
 ],
 "metadata": {
  "celltoolbar": "Initialization Cell",
  "hide_input": false,
  "kernelspec": {
   "display_name": "Python 3",
   "language": "python",
   "name": "python3"
  },
  "language_info": {
   "codemirror_mode": {
    "name": "ipython",
    "version": 3
   },
   "file_extension": ".py",
   "mimetype": "text/x-python",
   "name": "python",
   "nbconvert_exporter": "python",
   "pygments_lexer": "ipython3",
   "version": "3.6.9"
  }
 },
 "nbformat": 4,
 "nbformat_minor": 2
}
