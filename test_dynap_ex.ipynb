{
 "cells": [
  {
   "cell_type": "code",
   "execution_count": 1,
   "metadata": {
    "ExecuteTime": {
     "end_time": "2020-05-29T22:16:45.998079Z",
     "start_time": "2020-05-29T22:16:45.993140Z"
    },
    "init_cell": true
   },
   "outputs": [],
   "source": [
    "import os\n",
    "os.environ['SIRIUS_URL_CONSTS'] = 'http://127.0.0.1'"
   ]
  },
  {
   "cell_type": "code",
   "execution_count": 2,
   "metadata": {
    "ExecuteTime": {
     "end_time": "2020-05-29T22:16:46.508841Z",
     "start_time": "2020-05-29T22:16:46.003998Z"
    },
    "init_cell": true
   },
   "outputs": [],
   "source": [
    "%gui qt5\n",
    "%matplotlib qt5\n",
    "\n",
    "from functools import partial as _partial\n",
    "import numpy as np\n",
    "from scipy import optimize\n",
    "\n",
    "import matplotlib.pyplot as plt\n",
    "import matplotlib.gridspec as mpl_gs\n",
    "import matplotlib.cm as cmap\n",
    "import matplotlib.colors as mpl_colors\n",
    "from matplotlib import rcParams\n",
    "rcParams.update(\n",
    "    {'font.size': 16,'lines.linewidth': 2, 'axes.grid': True})\n",
    "\n",
    "import pyaccel\n",
    "import mathphys\n",
    "from pymodels import si\n",
    "from apsuite.dynap import DynapEX\n",
    "from apsuite.optics_analysis import TuneCorr"
   ]
  },
  {
   "cell_type": "code",
   "execution_count": 3,
   "metadata": {
    "ExecuteTime": {
     "end_time": "2020-05-29T22:16:46.750573Z",
     "start_time": "2020-05-29T22:16:46.509954Z"
    },
    "init_cell": true
   },
   "outputs": [],
   "source": [
    "model = si.create_accelerator()\n",
    "model.cavity_on = False\n",
    "model.radiation_on = False\n",
    "dynap = DynapEX(model)"
   ]
  },
  {
   "cell_type": "code",
   "execution_count": 18,
   "metadata": {
    "ExecuteTime": {
     "end_time": "2020-05-26T19:55:14.787048Z",
     "start_time": "2020-05-26T19:55:14.261257Z"
    }
   },
   "outputs": [],
   "source": [
    "tunecorr = TuneCorr(model, 'SI')"
   ]
  },
  {
   "cell_type": "code",
   "execution_count": 19,
   "metadata": {
    "ExecuteTime": {
     "end_time": "2020-05-26T19:55:27.664346Z",
     "start_time": "2020-05-26T19:55:26.837495Z"
    }
   },
   "outputs": [
    {
     "data": {
      "text/plain": [
       "1"
      ]
     },
     "execution_count": 19,
     "metadata": {},
     "output_type": "execute_result"
    }
   ],
   "source": [
    "tunecorr.correct_parameters([49.186188, 14.2300])"
   ]
  },
  {
   "cell_type": "code",
   "execution_count": 20,
   "metadata": {
    "ExecuteTime": {
     "end_time": "2020-05-26T19:55:30.746593Z",
     "start_time": "2020-05-26T19:55:30.667391Z"
    }
   },
   "outputs": [
    {
     "data": {
      "text/plain": [
       "(49.18574477838651, 14.230530180928666)"
      ]
     },
     "execution_count": 20,
     "metadata": {},
     "output_type": "execute_result"
    }
   ],
   "source": [
    "twi, _ = pyaccel.optics.calc_twiss(dynap._acc)\n",
    "twi.mux[-1]/2/np.pi, twi.muy[-1]/2/np.pi"
   ]
  },
  {
   "cell_type": "code",
   "execution_count": 4,
   "metadata": {
    "ExecuteTime": {
     "end_time": "2020-05-29T22:16:46.754498Z",
     "start_time": "2020-05-29T22:16:46.751699Z"
    },
    "init_cell": true
   },
   "outputs": [
    {
     "name": "stdout",
     "output_type": "stream",
     "text": [
      "nrturns      : 512\n",
      "turn_by_turn : True\n",
      "x_nrpts      : 70\n",
      "de_nrpts     : 70\n",
      "x_min [m]    : -0.012\n",
      "x_max [m]    : 0\n",
      "de_min       : -0.05\n",
      "de_max       : 0.05\n",
      "y_offset [m] : 0.0001\n",
      "xl_off [rad] : 1e-05\n",
      "yl_off [rad] : 1e-05\n",
      "intnux       : 49.00 (for graphs)\n",
      "intnuy       : 14.00 (for graphs)\n",
      "\n"
     ]
    }
   ],
   "source": [
    "dynap.params.turn_by_turn = True\n",
    "dynap.params.x_nrpts = 70\n",
    "dynap.params.de_nrpts = 70\n",
    "dynap.params.x_min = -0.012\n",
    "dynap.params.x_max = 0.00\n",
    "dynap.params.de_min = -0.05\n",
    "dynap.params.de_max = 0.05\n",
    "print(dynap)"
   ]
  },
  {
   "cell_type": "code",
   "execution_count": 10,
   "metadata": {
    "ExecuteTime": {
     "end_time": "2020-05-29T18:31:22.525565Z",
     "start_time": "2020-05-29T18:31:14.221059Z"
    }
   },
   "outputs": [],
   "source": [
    "dynap.do_tracking()"
   ]
  },
  {
   "cell_type": "code",
   "execution_count": 12,
   "metadata": {
    "ExecuteTime": {
     "end_time": "2020-05-29T18:31:27.396179Z",
     "start_time": "2020-05-29T18:31:27.386968Z"
    }
   },
   "outputs": [],
   "source": [
    "dynap.process_data()"
   ]
  },
  {
   "cell_type": "code",
   "execution_count": 9,
   "metadata": {
    "ExecuteTime": {
     "end_time": "2020-05-29T21:42:57.396365Z",
     "start_time": "2020-05-29T21:42:56.111025Z"
    }
   },
   "outputs": [],
   "source": [
    "# dynap.save_data('/home/fernando/nominal_ex.pickle')\n",
    "dynap.load_and_apply('/home/fernando/nominal_ex.pickle')\n",
    "dynap.process_data()"
   ]
  },
  {
   "cell_type": "markdown",
   "metadata": {},
   "source": [
    "# Diffusion Plot"
   ]
  },
  {
   "cell_type": "code",
   "execution_count": 10,
   "metadata": {
    "ExecuteTime": {
     "end_time": "2020-05-29T21:42:58.108177Z",
     "start_time": "2020-05-29T21:42:58.104609Z"
    },
    "scrolled": false
   },
   "outputs": [],
   "source": [
    "bounds = [\n",
    "    dynap.params.intnux, dynap.params.intnux + 0.5,\n",
    "    dynap.params.intnuy, dynap.params.intnuy + 0.5]\n",
    "orders = 6\n",
    "symmetry = 1\n",
    "resons = dynap.calc_resonances_for_bounds(bounds, orders=orders, symmetry=symmetry)"
   ]
  },
  {
   "cell_type": "code",
   "execution_count": 11,
   "metadata": {
    "ExecuteTime": {
     "end_time": "2020-05-29T21:42:58.596652Z",
     "start_time": "2020-05-29T21:42:58.574386Z"
    }
   },
   "outputs": [
    {
     "name": "stdout",
     "output_type": "stream",
     "text": [
      " 9: (3, 2, 176)   28\n",
      "15: (4, 2, 225)   31\n",
      "16: (0, 5, 71)   31\n",
      "19: (2, 4, 155)   30\n",
      "38: (0, 4, 57)   32\n",
      "41: (0, 6, 85)   28\n",
      "52: (-4, 1, -182)   25\n",
      "70: (-2, 1, -84)   39\n",
      "\n",
      "(2, 4, 155)\n",
      "(0, 4, 57)\n",
      "(0, 6, 85)\n"
     ]
    }
   ],
   "source": [
    "map2xy = dynap.map_resons2real_plane(resons, maxdist=1e-3, min_diffusion=1e-5)\n",
    "numb = [x.size for x in map2xy]\n",
    "filter_resons = []\n",
    "for i, (res, nu) in enumerate(zip(resons, numb)):\n",
    "    if nu > 20:\n",
    "        print(f'{i:2}: {res}  {nu:3}')\n",
    "        filter_resons.append(res)\n",
    "\n",
    "to_remove = [0, 1, 2, 6, 7]\n",
    "for idx in sorted(to_remove, reverse=True):\n",
    "    del filter_resons[idx]\n",
    "\n",
    "print()\n",
    "for i, reson in enumerate(filter_resons):\n",
    "    print(f'{reson}')"
   ]
  },
  {
   "cell_type": "code",
   "execution_count": 13,
   "metadata": {
    "ExecuteTime": {
     "end_time": "2020-05-29T21:45:20.913203Z",
     "start_time": "2020-05-29T21:45:20.832453Z"
    }
   },
   "outputs": [],
   "source": [
    "f, ax, ay = dynap.make_figure_diffusion(contour=True, resons=filter_resons, maxdist=1e-3, min_diffusion=1e-5)\n",
    "# f, ax, ay = dynap.make_figure_diffusion(contour=True, resons=filter_resons, maxdist=1e-3)\n",
    "f.show()\n",
    "# f = dynap.make_figure_diffusion(contour=False)"
   ]
  },
  {
   "cell_type": "markdown",
   "metadata": {
    "ExecuteTime": {
     "end_time": "2020-05-23T20:39:31.643975Z",
     "start_time": "2020-05-23T20:39:31.642094Z"
    }
   },
   "source": [
    "# X and Y map to tune plot"
   ]
  },
  {
   "cell_type": "code",
   "execution_count": 30,
   "metadata": {
    "ExecuteTime": {
     "end_time": "2020-05-29T19:29:35.951215Z",
     "start_time": "2020-05-29T19:29:35.803353Z"
    }
   },
   "outputs": [],
   "source": [
    "f = dynap.make_figure_map_real2tune_planes(resons)"
   ]
  },
  {
   "cell_type": "code",
   "execution_count": null,
   "metadata": {},
   "outputs": [],
   "source": []
  }
 ],
 "metadata": {
  "celltoolbar": "Initialization Cell",
  "hide_input": false,
  "kernelspec": {
   "display_name": "Python 3",
   "language": "python",
   "name": "python3"
  },
  "language_info": {
   "codemirror_mode": {
    "name": "ipython",
    "version": 3
   },
   "file_extension": ".py",
   "mimetype": "text/x-python",
   "name": "python",
   "nbconvert_exporter": "python",
   "pygments_lexer": "ipython3",
   "version": "3.6.9"
  }
 },
 "nbformat": 4,
 "nbformat_minor": 2
}
