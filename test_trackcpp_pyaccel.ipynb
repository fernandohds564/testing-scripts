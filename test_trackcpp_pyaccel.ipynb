{
 "cells": [
  {
   "cell_type": "code",
   "execution_count": 1,
   "metadata": {},
   "outputs": [],
   "source": [
    "%gui qt5\n",
    "%matplotlib qt5\n",
    "from functools import partial as _partial\n",
    "import numpy as np\n",
    "from scipy import optimize\n",
    "\n",
    "import matplotlib.pyplot as plt\n",
    "import matplotlib.gridspec as mpl_gs\n",
    "import matplotlib.cm as cmap\n",
    "from matplotlib import rcParams\n",
    "rcParams.update(\n",
    "    {'font.size': 16,'lines.linewidth': 2, 'axes.grid': True})\n",
    "\n",
    "import pyaccel\n",
    "import mathphys\n",
    "from pymodels import si"
   ]
  },
  {
   "cell_type": "markdown",
   "metadata": {},
   "source": [
    "# Results comparison"
   ]
  },
  {
   "cell_type": "code",
   "execution_count": 2,
   "metadata": {},
   "outputs": [],
   "source": [
    "ring = si.create_accelerator()\n",
    "ring.vchamber_on = True\n",
    "famdata = si.get_family_data(ring)\n",
    "bpms = np.array(famdata['BPM']['index']).flatten()"
   ]
  },
  {
   "cell_type": "markdown",
   "metadata": {},
   "source": [
    "## Old"
   ]
  },
  {
   "cell_type": "code",
   "execution_count": 32,
   "metadata": {},
   "outputs": [
    {
     "output_type": "stream",
     "name": "stdout",
     "text": "(2, 6, 3)\n[[ 1.00000000e-02 -2.82195125e-03             nan]\n [ 0.00000000e+00  5.10970738e-03             nan]\n [ 0.00000000e+00  0.00000000e+00             nan]\n [ 0.00000000e+00  0.00000000e+00             nan]\n [ 0.00000000e+00  0.00000000e+00             nan]\n [ 0.00000000e+00 -1.48630443e-05             nan]]\n[[ 2.00000000e-03 -4.49810335e-04  1.67847519e-03]\n [ 0.00000000e+00  8.98782960e-04 -6.78624285e-05]\n [ 0.00000000e+00  0.00000000e+00  0.00000000e+00]\n [ 0.00000000e+00  0.00000000e+00  0.00000000e+00]\n [ 0.00000000e+00  0.00000000e+00  0.00000000e+00]\n [ 0.00000000e+00 -7.32474074e-07  6.71327513e-07]]\n"
    }
   ],
   "source": [
    "par = np.zeros((2,6))\n",
    "par[0,0] = 10e-3\n",
    "par[1,0] = 2e-3\n",
    "out, *args = pyaccel.tracking.line_pass(ring, par, indices=np.array([1, 1000, len(ring)]))\n",
    "print(out.shape)\n",
    "print(out[0, :, :])\n",
    "print(out[1, :, :])"
   ]
  },
  {
   "cell_type": "code",
   "execution_count": 33,
   "metadata": {},
   "outputs": [
    {
     "output_type": "stream",
     "name": "stdout",
     "text": "6489\n(6, 6490)\n[[0.01 0.01 0.01 ...  nan  nan  nan]\n [0.   0.   0.   ...  nan  nan  nan]\n [0.   0.   0.   ...  nan  nan  nan]\n [0.   0.   0.   ...  nan  nan  nan]\n [0.   0.   0.   ...  nan  nan  nan]\n [0.   0.   0.   ...  nan  nan  nan]]\n"
    }
   ],
   "source": [
    "par = np.zeros((2,6))\n",
    "par[0,0] = 10e-3\n",
    "par[1,0] = 2e-3\n",
    "par = [10e-3, 0, 0, 0, 0, 0]\n",
    "out, *args = pyaccel.tracking.line_pass(ring, par, indices='closed')\n",
    "print(len(ring))\n",
    "print(out.shape)\n",
    "print(out)"
   ]
  },
  {
   "cell_type": "code",
   "execution_count": 34,
   "metadata": {},
   "outputs": [
    {
     "output_type": "stream",
     "name": "stdout",
     "text": "(2, 6, 4)\n[[ 9.00000000e-03  6.34370595e-03  7.56808388e-05 -6.21499483e-03]\n [ 0.00000000e+00 -5.42108459e-04 -6.36213720e-04 -4.66923033e-04]\n [ 0.00000000e+00  0.00000000e+00  0.00000000e+00  0.00000000e+00]\n [ 0.00000000e+00  0.00000000e+00  0.00000000e+00  0.00000000e+00]\n [ 0.00000000e+00  0.00000000e+00  0.00000000e+00  0.00000000e+00]\n [ 0.00000000e+00  1.02672969e-04  6.49203783e-05  8.24489134e-06]]\n[[ 2.00000000e-03  1.67847519e-03  8.08924931e-04 -3.44282492e-04]\n [ 0.00000000e+00 -6.78624285e-05 -1.11170954e-04 -1.16369995e-04]\n [ 0.00000000e+00  0.00000000e+00  0.00000000e+00  0.00000000e+00]\n [ 0.00000000e+00  0.00000000e+00  0.00000000e+00  0.00000000e+00]\n [ 0.00000000e+00  0.00000000e+00  0.00000000e+00  0.00000000e+00]\n [ 0.00000000e+00  6.71327513e-07 -1.70815759e-06 -6.49831325e-06]]\n"
    }
   ],
   "source": [
    "par = np.zeros((2,6))\n",
    "par[0,0] = 9e-3\n",
    "par[1,0] = 2e-3\n",
    "out, *args = pyaccel.tracking.ring_pass(ring, par, turn_by_turn=True, nr_turns=3)\n",
    "print(out.shape)\n",
    "print(out[0, :, :])\n",
    "print(out[1, :, :])"
   ]
  },
  {
   "cell_type": "code",
   "execution_count": 35,
   "metadata": {},
   "outputs": [
    {
     "output_type": "stream",
     "name": "stdout",
     "text": "(2, 6)\n[[ 1.95488262e-03 -6.41677104e-04  0.00000000e+00  0.00000000e+00\n   0.00000000e+00  3.01430765e-04]\n [ 1.80821133e-03  5.35545795e-05  0.00000000e+00  0.00000000e+00\n   0.00000000e+00 -2.08040216e-05]]\n"
    }
   ],
   "source": [
    "par = np.zeros((2,6))\n",
    "par[0,0] = 9e-3\n",
    "par[1,0] = 2e-3\n",
    "out, *args = pyaccel.tracking.ring_pass(ring, par, turn_by_turn=False, nr_turns=10)\n",
    "print(out.shape)\n",
    "print(out)"
   ]
  },
  {
   "cell_type": "code",
   "execution_count": 36,
   "metadata": {},
   "outputs": [
    {
     "output_type": "stream",
     "name": "stdout",
     "text": "(2, 6)\n[[9.00053655e-03 6.70688387e-05 0.00000000e+00 0.00000000e+00\n  0.00000000e+00 5.36281721e-06]\n [2.00011635e-03 1.45435441e-05 0.00000000e+00 0.00000000e+00\n  0.00000000e+00 1.19173448e-06]]\n"
    }
   ],
   "source": [
    "par = np.zeros((2,6))\n",
    "par[0,0] = 9e-3\n",
    "par[1,0] = 2e-3\n",
    "out = pyaccel.tracking.element_pass(ring[30], par, energy=3e9, harmonic_number=1, radiation_on=False, cavity_on=False, vchamber_on=False)\n",
    "print(out.shape)\n",
    "print(out)"
   ]
  },
  {
   "cell_type": "markdown",
   "metadata": {},
   "source": [
    "## New"
   ]
  },
  {
   "cell_type": "code",
   "execution_count": 3,
   "metadata": {},
   "outputs": [
    {
     "output_type": "stream",
     "name": "stdout",
     "text": "(6, 2, 3)\n[[ 1.00000000e-02 -2.82195125e-03             nan]\n [ 0.00000000e+00  5.10970738e-03             nan]\n [ 0.00000000e+00  0.00000000e+00             nan]\n [ 0.00000000e+00  0.00000000e+00             nan]\n [ 0.00000000e+00  0.00000000e+00             nan]\n [ 0.00000000e+00 -1.48630443e-05             nan]]\n[[ 2.00000000e-03 -4.49810335e-04  1.67847519e-03]\n [ 0.00000000e+00  8.98782960e-04 -6.78624285e-05]\n [ 0.00000000e+00  0.00000000e+00  0.00000000e+00]\n [ 0.00000000e+00  0.00000000e+00  0.00000000e+00]\n [ 0.00000000e+00  0.00000000e+00  0.00000000e+00]\n [ 0.00000000e+00 -7.32474074e-07  6.71327513e-07]]\n"
    }
   ],
   "source": [
    "par = np.zeros((6,2))\n",
    "par[0,0] = 10e-3\n",
    "par[0,1] = 2e-3\n",
    "out, *args = pyaccel.tracking.line_pass(ring, par, indices=np.array([1, 1000, len(ring)]))\n",
    "print(out.shape)\n",
    "print(out[:, 0, :])\n",
    "print(out[:, 1, :])"
   ]
  },
  {
   "cell_type": "code",
   "execution_count": 4,
   "metadata": {},
   "outputs": [
    {
     "output_type": "stream",
     "name": "stdout",
     "text": "6489\n(6, 6490)\n[[0.01 0.01 0.01 ...  nan  nan  nan]\n [0.   0.   0.   ...  nan  nan  nan]\n [0.   0.   0.   ...  nan  nan  nan]\n [0.   0.   0.   ...  nan  nan  nan]\n [0.   0.   0.   ...  nan  nan  nan]\n [0.   0.   0.   ...  nan  nan  nan]]\n"
    }
   ],
   "source": [
    "par = np.zeros((6,2))\n",
    "par[0,0] = 10e-3\n",
    "par[0,1] = 2e-3\n",
    "par = [10e-3, 0, 0, 0, 0, 0]\n",
    "out, *args = pyaccel.tracking.line_pass(ring, par, indices='closed')\n",
    "print(len(ring))\n",
    "print(out.shape)\n",
    "print(out)"
   ]
  },
  {
   "cell_type": "code",
   "execution_count": 5,
   "metadata": {},
   "outputs": [
    {
     "output_type": "stream",
     "name": "stdout",
     "text": "(6, 2, 4)\n[[ 9.00000000e-03  6.34370595e-03  7.56808388e-05 -6.21499483e-03]\n [ 0.00000000e+00 -5.42108459e-04 -6.36213720e-04 -4.66923033e-04]\n [ 0.00000000e+00  0.00000000e+00  0.00000000e+00  0.00000000e+00]\n [ 0.00000000e+00  0.00000000e+00  0.00000000e+00  0.00000000e+00]\n [ 0.00000000e+00  0.00000000e+00  0.00000000e+00  0.00000000e+00]\n [ 0.00000000e+00  1.02672969e-04  6.49203783e-05  8.24489134e-06]]\n[[ 2.00000000e-03  1.67847519e-03  8.08924931e-04 -3.44282492e-04]\n [ 0.00000000e+00 -6.78624285e-05 -1.11170954e-04 -1.16369995e-04]\n [ 0.00000000e+00  0.00000000e+00  0.00000000e+00  0.00000000e+00]\n [ 0.00000000e+00  0.00000000e+00  0.00000000e+00  0.00000000e+00]\n [ 0.00000000e+00  0.00000000e+00  0.00000000e+00  0.00000000e+00]\n [ 0.00000000e+00  6.71327513e-07 -1.70815759e-06 -6.49831325e-06]]\n"
    }
   ],
   "source": [
    "par = np.zeros((6,2))\n",
    "par[0,0] = 9e-3\n",
    "par[0,1] = 2e-3\n",
    "out, *args = pyaccel.tracking.ring_pass(ring, par, turn_by_turn=True, nr_turns=3)\n",
    "print(out.shape)\n",
    "print(out[:, 0, :])\n",
    "print(out[:, 1, :])"
   ]
  },
  {
   "cell_type": "code",
   "execution_count": 6,
   "metadata": {},
   "outputs": [
    {
     "output_type": "stream",
     "name": "stdout",
     "text": "(6, 2, 11)\n[[[ 1.95488262e-03  1.80821133e-03  0.00000000e+00  0.00000000e+00\n    0.00000000e+00  0.00000000e+00  0.00000000e+00  0.00000000e+00\n    0.00000000e+00  0.00000000e+00  0.00000000e+00]\n  [ 0.00000000e+00  0.00000000e+00  0.00000000e+00  0.00000000e+00\n    0.00000000e+00  0.00000000e+00  0.00000000e+00  0.00000000e+00\n    0.00000000e+00  0.00000000e+00  0.00000000e+00]]\n\n [[-6.41677104e-04  5.35545795e-05  0.00000000e+00  0.00000000e+00\n    0.00000000e+00  0.00000000e+00  0.00000000e+00  0.00000000e+00\n    0.00000000e+00  0.00000000e+00  0.00000000e+00]\n  [ 0.00000000e+00  0.00000000e+00  0.00000000e+00  0.00000000e+00\n    0.00000000e+00  0.00000000e+00  0.00000000e+00  0.00000000e+00\n    0.00000000e+00  0.00000000e+00  0.00000000e+00]]\n\n [[ 0.00000000e+00  0.00000000e+00  0.00000000e+00  0.00000000e+00\n    0.00000000e+00  0.00000000e+00  0.00000000e+00  0.00000000e+00\n    0.00000000e+00  0.00000000e+00  0.00000000e+00]\n  [ 0.00000000e+00  0.00000000e+00  0.00000000e+00  0.00000000e+00\n    0.00000000e+00  0.00000000e+00  0.00000000e+00  0.00000000e+00\n    0.00000000e+00  0.00000000e+00  0.00000000e+00]]\n\n [[ 0.00000000e+00  0.00000000e+00  0.00000000e+00  0.00000000e+00\n    0.00000000e+00  0.00000000e+00  0.00000000e+00  0.00000000e+00\n    0.00000000e+00  0.00000000e+00  0.00000000e+00]\n  [ 0.00000000e+00  0.00000000e+00  0.00000000e+00  0.00000000e+00\n    0.00000000e+00  0.00000000e+00  0.00000000e+00  0.00000000e+00\n    0.00000000e+00  0.00000000e+00  0.00000000e+00]]\n\n [[ 0.00000000e+00  0.00000000e+00  0.00000000e+00  0.00000000e+00\n    0.00000000e+00  0.00000000e+00  0.00000000e+00  0.00000000e+00\n    0.00000000e+00  0.00000000e+00  0.00000000e+00]\n  [ 0.00000000e+00  0.00000000e+00  0.00000000e+00  0.00000000e+00\n    0.00000000e+00  0.00000000e+00  0.00000000e+00  0.00000000e+00\n    0.00000000e+00  0.00000000e+00  0.00000000e+00]]\n\n [[ 3.01430765e-04 -2.08040216e-05  0.00000000e+00  0.00000000e+00\n    0.00000000e+00  0.00000000e+00  0.00000000e+00  0.00000000e+00\n    0.00000000e+00  0.00000000e+00  0.00000000e+00]\n  [ 0.00000000e+00  0.00000000e+00  0.00000000e+00  0.00000000e+00\n    0.00000000e+00  0.00000000e+00  0.00000000e+00  0.00000000e+00\n    0.00000000e+00  0.00000000e+00  0.00000000e+00]]]\n"
    }
   ],
   "source": [
    "par = np.zeros((6,2))\n",
    "par[0,0] = 9e-3\n",
    "par[0,1] = 2e-3\n",
    "out, *args = pyaccel.tracking.ring_pass(ring, par, turn_by_turn=False, nr_turns=10)\n",
    "print(out.shape)\n",
    "print(out)"
   ]
  },
  {
   "cell_type": "code",
   "execution_count": null,
   "metadata": {},
   "outputs": [],
   "source": [
    "par = np.zeros((6,2))\n",
    "par[0,0] = 9e-3\n",
    "par[0,1] = 2e-3\n",
    "out = pyaccel.tracking.element_pass(ring[30], par, energy=3e9)\n",
    "print(out.shape)\n",
    "print(out)"
   ]
  },
  {
   "cell_type": "markdown",
   "metadata": {},
   "source": [
    "# Speed Comparison"
   ]
  },
  {
   "cell_type": "code",
   "execution_count": 2,
   "metadata": {},
   "outputs": [],
   "source": [
    "ring = si.create_accelerator()\n",
    "ring.vchamber_on = True\n",
    "famdata = si.get_family_data(ring)\n",
    "bpms = np.array(famdata['BPM']['index']).flatten()\n",
    "twi, *_ = pyaccel.optics.calc_twiss(ring)"
   ]
  },
  {
   "cell_type": "code",
   "execution_count": 3,
   "metadata": {},
   "outputs": [],
   "source": [
    "bun = pyaccel.tracking.generate_bunch(250e-12, 2.5e-12, 8e-4, 2.5e-3, twi[0], 1000, cutoff=6)"
   ]
  },
  {
   "cell_type": "markdown",
   "metadata": {},
   "source": [
    "## New Code"
   ]
  },
  {
   "cell_type": "code",
   "execution_count": 8,
   "metadata": {},
   "outputs": [
    {
     "output_type": "stream",
     "name": "stdout",
     "text": "CPU times: user 1.88 s, sys: 161 ms, total: 2.04 s\nWall time: 2.03 s\n"
    }
   ],
   "source": [
    "%%time\n",
    "out, *args = pyaccel.tracking.line_pass(ring, bun, indices='closed')"
   ]
  },
  {
   "cell_type": "code",
   "execution_count": 9,
   "metadata": {},
   "outputs": [
    {
     "output_type": "stream",
     "name": "stdout",
     "text": "CPU times: user 1.72 s, sys: 25 ms, total: 1.74 s\nWall time: 1.74 s\n"
    }
   ],
   "source": [
    "%%time\n",
    "out, *args = pyaccel.tracking.line_pass(ring, bun, indices=bpms)"
   ]
  },
  {
   "cell_type": "code",
   "execution_count": 10,
   "metadata": {},
   "outputs": [
    {
     "output_type": "stream",
     "name": "stdout",
     "text": "CPU times: user 1.73 s, sys: 302 µs, total: 1.73 s\nWall time: 1.72 s\n"
    }
   ],
   "source": [
    "%%time\n",
    "out, *args = pyaccel.tracking.line_pass(ring, bun, indices=None)"
   ]
  },
  {
   "cell_type": "markdown",
   "metadata": {},
   "source": [
    "## Old Code"
   ]
  },
  {
   "cell_type": "code",
   "execution_count": 4,
   "metadata": {},
   "outputs": [
    {
     "output_type": "stream",
     "name": "stdout",
     "text": "CPU times: user 27.2 s, sys: 119 ms, total: 27.3 s\nWall time: 27.2 s\n"
    }
   ],
   "source": [
    "%%time\n",
    "out, *args = pyaccel.tracking.line_pass(ring, bun, indices='closed')"
   ]
  },
  {
   "cell_type": "code",
   "execution_count": 5,
   "metadata": {},
   "outputs": [
    {
     "output_type": "stream",
     "name": "stdout",
     "text": "CPU times: user 2.61 s, sys: 48.8 ms, total: 2.65 s\nWall time: 2.59 s\n"
    }
   ],
   "source": [
    "%%time\n",
    "out, *args = pyaccel.tracking.line_pass(ring, bun, indices=bpms)"
   ]
  },
  {
   "cell_type": "code",
   "execution_count": 6,
   "metadata": {},
   "outputs": [
    {
     "output_type": "stream",
     "name": "stdout",
     "text": "CPU times: user 1.83 s, sys: 8.23 ms, total: 1.83 s\nWall time: 1.81 s\n"
    }
   ],
   "source": [
    "%%time\n",
    "out, *args = pyaccel.tracking.line_pass(ring, bun, indices=None)"
   ]
  },
  {
   "cell_type": "code",
   "execution_count": null,
   "metadata": {},
   "outputs": [],
   "source": []
  }
 ],
 "metadata": {
  "hide_input": false,
  "kernelspec": {
   "display_name": "Python 3",
   "language": "python",
   "name": "python3"
  },
  "language_info": {
   "codemirror_mode": {
    "name": "ipython",
    "version": 3
   },
   "file_extension": ".py",
   "mimetype": "text/x-python",
   "name": "python",
   "nbconvert_exporter": "python",
   "pygments_lexer": "ipython3",
   "version": "3.6.9-final"
  }
 },
 "nbformat": 4,
 "nbformat_minor": 2
}