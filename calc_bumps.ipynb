{
 "cells": [
  {
   "cell_type": "code",
   "execution_count": 1,
   "metadata": {
    "ExecuteTime": {
     "end_time": "2020-06-04T19:44:04.748022Z",
     "start_time": "2020-06-04T19:44:04.745899Z"
    },
    "init_cell": true
   },
   "outputs": [],
   "source": [
    "import os\n",
    "os.environ['SIRIUS_URL_CONSTS'] = 'http://127.0.0.1'"
   ]
  },
  {
   "cell_type": "code",
   "execution_count": 2,
   "metadata": {
    "ExecuteTime": {
     "end_time": "2020-06-04T19:44:05.296230Z",
     "start_time": "2020-06-04T19:44:04.749230Z"
    },
    "init_cell": true
   },
   "outputs": [],
   "source": [
    "import math\n",
    "import time\n",
    "\n",
    "import numpy as np\n",
    "\n",
    "import matplotlib.pyplot as _mpyplot\n",
    "import matplotlib.gridspec as _mgridspec\n",
    "import matplotlib.cm as _cm\n",
    "import matplotlib.colors as _mcolors\n",
    "from matplotlib import rcParams\n",
    "rcParams.update(\n",
    "    {'font.size': 16,'lines.linewidth': 2, 'axes.grid': True})\n",
    "\n",
    "from siriuspy.clientconfigdb import ConfigDBClient\n",
    "import pyaccel\n",
    "import mathphys\n",
    "from pymodels import si\n",
    "from siriuspy.devices import PowerSupply"
   ]
  },
  {
   "cell_type": "code",
   "execution_count": 3,
   "metadata": {
    "ExecuteTime": {
     "end_time": "2020-06-04T20:45:34.758775Z",
     "start_time": "2020-06-04T20:45:34.746414Z"
    }
   },
   "outputs": [
    {
     "name": "stdout",
     "output_type": "stream",
     "text": [
      "SI-09SA:PS-CH-1\n",
      "SI-09SA:PS-CV-1\n",
      "SI-09SA:PS-CH-2\n",
      "SI-09SA:PS-CV-2\n",
      "SI-09SA:PS-CH-3\n",
      "SI-09SA:PS-CV-3\n",
      "SI-09SA:PS-CH-4\n",
      "SI-09SA:PS-CV-4\n"
     ]
    }
   ],
   "source": [
    "clt = ConfigDBClient(config_type='si_orbit')\n",
    "\n",
    "correctorsx = []\n",
    "correctorsy = []\n",
    "for idx in range(1, 5):\n",
    "    cname = f'SI-09SA:PS-CH-{idx}'\n",
    "    print(cname)\n",
    "#     correctorsx.append(PowerSupply(cname))\n",
    "    cname = f'SI-09SA:PS-CV-{idx}'\n",
    "    print(cname)\n",
    "#     correctorsy.append(PowerSupply(cname))"
   ]
  },
  {
   "cell_type": "code",
   "execution_count": 4,
   "metadata": {
    "ExecuteTime": {
     "end_time": "2020-06-04T20:48:49.140561Z",
     "start_time": "2020-06-04T20:48:49.130269Z"
    },
    "init_cell": true
   },
   "outputs": [],
   "source": [
    "def calc_corr_strength(ang, pos=0):\n",
    "    \"\"\"Calc bump for straight section 09SA.\n",
    "    Inputs:\n",
    "        ang - bump angle at straight center in [urad].\n",
    "        pos - bum offset at straight center in [um].\n",
    "        \n",
    "    Outputs:\n",
    "        kicks - correctors strength in [urad].\n",
    "    \n",
    "    Geometry:\n",
    "    >----------------> ebeam direction >---------------->\n",
    "      C1|C1      C2|C2                     C3|C3      C4|C4\n",
    "        |---len1---|----len2----|----len2----|---len1---|\n",
    "    \"\"\"\n",
    "    len1 = 0.634\n",
    "    len2 = 2.53525\n",
    "    \n",
    "    #angle bump\n",
    "    theta = math.atan(len2/len1 * math.tan(ang/1e6)) * 1e6 \n",
    "    corrs = [-theta, theta + ang, -theta - ang, theta] \n",
    "     \n",
    "    # offset bump \n",
    "    theta = math.atan(pos/1e6 / len1) * 1e6 \n",
    "    corrs[0] += theta \n",
    "    corrs[1] -= theta \n",
    "    corrs[2] -= theta \n",
    "    corrs[3] += theta \n",
    "    return np.asarray(corrs)\n",
    "\n",
    "\n",
    "def create_and_apply_bump_with_id_corrs(angx, angy=0, posx=0, posy=0):\n",
    "    \"\"\"Calc reference orbit for bumps for SOFB.\n",
    "    Inputs:\n",
    "        angx - Horizontal bump angle at straight center in [urad].\n",
    "        posx - Horizontal bump offset at straight center in [um].\n",
    "        angy - Vertical bump angle at straight center in [urad].\n",
    "        posy - Vertical bump offset at straight center in [um].\n",
    "    \"\"\"\n",
    "    maxkick = 32 * 4.8  # maximum corrector strength\n",
    "    maxdlt = 10  # maximum delta to apply\n",
    "    \n",
    "    kickx0 = np.asarray([c.strength for c in correctorsx])\n",
    "    kicky0 = np.asarray([c.strength for c in correctorsy])\n",
    "    \n",
    "    kickx = calc_corr_strength(angx, posx)\n",
    "    kicky = calc_corr_strength(angy, posy)\n",
    "    if np.any(kickx > maxkick) or np.any(kicky > maxkick):\n",
    "        print('Cannot apply bump. Correctors strength would be exceeded.')\n",
    "    dkickx = kickx - kickx0\n",
    "    dkicky = kicky - kicky0\n",
    "    mcorrx = np.max(np.abs(dkickx))\n",
    "    mcorry = np.max(np.abs(dkicky))\n",
    "    mcorr = max(mcorrx, mcorry)\n",
    "    \n",
    "    nrsteps = int(mcorr//maxdlt) + 2\n",
    "    factors = np.linspace(0, 1, nrsteps)[1:]\n",
    "    for fac in factors:\n",
    "        for corr, k0, dk in zip(correctorsx, kickx0, dkickx):\n",
    "            corr.strength = k0 + fac*dk\n",
    "        for corr, k0, dk in zip(correctorsy, kicky0, dkicky):\n",
    "            corr.strength = k0 + fac*dk\n",
    "        time.sleep(1)\n",
    "\n",
    "        \n",
    "def create_bump_ref_for_sofb(configname, angx, angy=0, posx=0, posy=0):\n",
    "    \"\"\"Calc reference orbit for bumps for SOFB.\n",
    "    Inputs:\n",
    "        configname - name of the configuration to be generated.\n",
    "        angx - Horizontal bump angle at straight center in [urad].\n",
    "        posx - Horizontal bump offset at straight center in [um].\n",
    "        angy - Vertical bump angle at straight center in [urad].\n",
    "        posy - Vertical bump offset at straight center in [um].\n",
    "    \"\"\"\n",
    "    ss_len = 6.1758 / 2  # distance between BPMs.\n",
    "    bpm_m1 = 8*8 - 1  # SI-09M1:DI-BPM\n",
    "    bpm_m2 = 8*8      # SI-09M2:DI-BPM\n",
    "    \n",
    "    orb = clt.get_config_value('bba_orb')\n",
    "    \n",
    "    # angle bump\n",
    "    dx = ss_len * math.tan(angx/1e6) * 1e6\n",
    "    orb['x'][bpm_m1] -= dx\n",
    "    orb['x'][bpm_m2] += dx\n",
    "    dy = ss_len * math.tan(angy/1e6) * 1e6\n",
    "    orb['y'][bpm_m1] -= dy\n",
    "    orb['y'][bpm_m2] += dy\n",
    "    \n",
    "    #pos bump\n",
    "    orb['x'][bpm_m1] += posx\n",
    "    orb['x'][bpm_m2] += posx\n",
    "    orb['y'][bpm_m1] += posy\n",
    "    orb['y'][bpm_m2] += posy\n",
    "    \n",
    "    clt.insert_config(configname, orb)"
   ]
  },
  {
   "cell_type": "code",
   "execution_count": 7,
   "metadata": {
    "ExecuteTime": {
     "end_time": "2020-06-04T21:23:08.853716Z",
     "start_time": "2020-06-04T21:23:08.848643Z"
    }
   },
   "outputs": [
    {
     "data": {
      "text/plain": [
       "array([ -88.41876919,  118.41876919, -181.51025182,  151.51025182])"
      ]
     },
     "execution_count": 7,
     "metadata": {},
     "output_type": "execute_result"
    }
   ],
   "source": [
    "calc_corr_strength(30, )"
   ]
  },
  {
   "cell_type": "code",
   "execution_count": null,
   "metadata": {},
   "outputs": [],
   "source": []
  }
 ],
 "metadata": {
  "celltoolbar": "Initialization Cell",
  "hide_input": false,
  "kernelspec": {
   "display_name": "Python 3.6.9 64-bit",
   "language": "python",
   "name": "python36964bit6d3be77bd7b24c658ffd996aa88e25fd"
  },
  "language_info": {
   "codemirror_mode": {
    "name": "ipython",
    "version": 3
   },
   "file_extension": ".py",
   "mimetype": "text/x-python",
   "name": "python",
   "nbconvert_exporter": "python",
   "pygments_lexer": "ipython3",
   "version": "3.6.9"
  }
 },
 "nbformat": 4,
 "nbformat_minor": 2
}
