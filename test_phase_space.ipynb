{
 "cells": [
  {
   "cell_type": "code",
   "execution_count": 1,
   "metadata": {
    "ExecuteTime": {
     "end_time": "2020-06-04T17:39:40.540738Z",
     "start_time": "2020-06-04T17:39:40.538638Z"
    },
    "init_cell": true
   },
   "outputs": [],
   "source": [
    "import os\n",
    "os.environ['SIRIUS_URL_CONSTS'] = 'http://127.0.0.1'"
   ]
  },
  {
   "cell_type": "code",
   "execution_count": 2,
   "metadata": {
    "ExecuteTime": {
     "end_time": "2020-06-04T17:39:45.907181Z",
     "start_time": "2020-06-04T17:39:40.542323Z"
    },
    "init_cell": true
   },
   "outputs": [],
   "source": [
    "%gui qt5\n",
    "%matplotlib qt5\n",
    "\n",
    "from functools import partial as _partial\n",
    "import numpy as np\n",
    "from scipy import optimize\n",
    "\n",
    "import matplotlib.pyplot as _mpyplot\n",
    "import matplotlib.gridspec as _mgridspec\n",
    "import matplotlib.cm as _cm\n",
    "import matplotlib.colors as _mcolors\n",
    "from matplotlib import rcParams\n",
    "rcParams.update(\n",
    "    {'font.size': 16,'lines.linewidth': 2, 'axes.grid': True})\n",
    "\n",
    "import pyaccel\n",
    "import mathphys\n",
    "from pymodels import si\n",
    "from apsuite.dynap import PhaseSpace\n",
    "from apsuite.optics_analysis import TuneCorr"
   ]
  },
  {
   "cell_type": "code",
   "execution_count": 3,
   "metadata": {
    "ExecuteTime": {
     "end_time": "2020-06-04T17:39:46.149029Z",
     "start_time": "2020-06-04T17:39:45.912768Z"
    },
    "init_cell": true
   },
   "outputs": [],
   "source": [
    "model = si.create_accelerator()\n",
    "model.cavity_on = False\n",
    "model.radiation_on = False\n",
    "phspace = PhaseSpace(model)"
   ]
  },
  {
   "cell_type": "code",
   "execution_count": 18,
   "metadata": {
    "ExecuteTime": {
     "end_time": "2020-05-26T19:55:14.787048Z",
     "start_time": "2020-05-26T19:55:14.261257Z"
    }
   },
   "outputs": [],
   "source": [
    "tunecorr = TuneCorr(model, 'SI')"
   ]
  },
  {
   "cell_type": "code",
   "execution_count": 19,
   "metadata": {
    "ExecuteTime": {
     "end_time": "2020-05-26T19:55:27.664346Z",
     "start_time": "2020-05-26T19:55:26.837495Z"
    }
   },
   "outputs": [
    {
     "data": {
      "text/plain": [
       "1"
      ]
     },
     "execution_count": 19,
     "metadata": {},
     "output_type": "execute_result"
    }
   ],
   "source": [
    "tunecorr.correct_parameters([49.186188, 14.2300])"
   ]
  },
  {
   "cell_type": "code",
   "execution_count": 68,
   "metadata": {
    "ExecuteTime": {
     "end_time": "2020-05-26T22:07:17.310666Z",
     "start_time": "2020-05-26T22:07:17.234922Z"
    }
   },
   "outputs": [
    {
     "data": {
      "text/plain": [
       "(49.09618826277705, 14.151943114434923)"
      ]
     },
     "execution_count": 68,
     "metadata": {},
     "output_type": "execute_result"
    }
   ],
   "source": [
    "twi, _ = pyaccel.optics.calc_twiss(phspace._acc)\n",
    "twi.mux[-1]/2/np.pi, twi.muy[-1]/2/np.pi"
   ]
  },
  {
   "cell_type": "code",
   "execution_count": 4,
   "metadata": {
    "ExecuteTime": {
     "end_time": "2020-06-04T17:39:46.153115Z",
     "start_time": "2020-06-04T17:39:46.150042Z"
    },
    "init_cell": true
   },
   "outputs": [
    {
     "name": "stdout",
     "output_type": "stream",
     "text": [
      "nrturns      : 512\n",
      "x_nrpts      : 25\n",
      "y_nrpts      : 20\n",
      "de_nrpts     : 31\n",
      "x_min [m]    : -0.012\n",
      "x_max [m]    : 0\n",
      "y_min [m]    : 0\n",
      "y_max [m]    : 0.004\n",
      "de_min       : -0.05\n",
      "de_max       : 0.05\n",
      "xl_off [rad] : 1e-05\n",
      "yl_off [rad] : 1e-05\n",
      "mom_compact  : 0.00017\n",
      "intnux       : 49.00 (for graphs)\n",
      "intnuy       : 14.00 (for graphs)\n",
      "\n"
     ]
    }
   ],
   "source": [
    "phspace.params.x_nrpts = 25\n",
    "phspace.params.y_nrpts = 20\n",
    "phspace.params.de_nrpts = 31\n",
    "phspace.params.x_min = -0.012\n",
    "phspace.params.x_max = 0.00\n",
    "phspace.params.y_min = 0\n",
    "phspace.params.y_max = 0.004\n",
    "phspace.params.de_min = -0.05\n",
    "phspace.params.de_max = 0.05\n",
    "print(phspace)"
   ]
  },
  {
   "cell_type": "code",
   "execution_count": 5,
   "metadata": {
    "ExecuteTime": {
     "end_time": "2020-05-26T22:44:07.450310Z",
     "start_time": "2020-05-26T22:43:20.225935Z"
    }
   },
   "outputs": [],
   "source": [
    "phspace.do_tracking()"
   ]
  },
  {
   "cell_type": "code",
   "execution_count": 6,
   "metadata": {
    "ExecuteTime": {
     "end_time": "2020-05-26T22:44:09.854096Z",
     "start_time": "2020-05-26T22:44:09.825835Z"
    }
   },
   "outputs": [],
   "source": [
    "phspace.process_data()"
   ]
  },
  {
   "cell_type": "code",
   "execution_count": 5,
   "metadata": {
    "ExecuteTime": {
     "end_time": "2020-05-26T22:45:09.642176Z",
     "start_time": "2020-05-26T22:45:09.613306Z"
    }
   },
   "outputs": [],
   "source": [
    "# phspace.save_data('/home/fernando/phase_space.pickle')\n",
    "phspace.load_and_apply('/home/fernando/phase_space4D.pickle')\n",
    "# phspace.load_and_apply('/home/fernando/phase_space.pickle')\n",
    "phspace.process_data()"
   ]
  },
  {
   "cell_type": "markdown",
   "metadata": {},
   "source": [
    "# Phase Space Plot"
   ]
  },
  {
   "cell_type": "code",
   "execution_count": 6,
   "metadata": {
    "ExecuteTime": {
     "end_time": "2020-05-26T22:45:10.825762Z",
     "start_time": "2020-05-26T22:45:10.822636Z"
    },
    "scrolled": false
   },
   "outputs": [],
   "source": [
    "bounds = [\n",
    "    phspace.params.intnux, phspace.params.intnux + 0.5,\n",
    "    phspace.params.intnuy, phspace.params.intnuy + 0.5]\n",
    "orders = [6, ]\n",
    "symmetry = 1\n",
    "resons = phspace.calc_resonances_for_bounds(bounds, orders=orders, symmetry=symmetry)"
   ]
  },
  {
   "cell_type": "code",
   "execution_count": 8,
   "metadata": {
    "ExecuteTime": {
     "end_time": "2020-05-26T22:49:24.937310Z",
     "start_time": "2020-05-26T22:49:24.821358Z"
    }
   },
   "outputs": [],
   "source": [
    "# f, *_ = make_figure(phspace, resons=resons)\n",
    "f, *_ = phspace.make_figure(resons=resons)\n",
    "f.show()"
   ]
  },
  {
   "cell_type": "code",
   "execution_count": null,
   "metadata": {},
   "outputs": [],
   "source": []
  }
 ],
 "metadata": {
  "celltoolbar": "Initialization Cell",
  "hide_input": false,
  "kernelspec": {
   "display_name": "Python 3",
   "language": "python",
   "name": "python3"
  },
  "language_info": {
   "codemirror_mode": {
    "name": "ipython",
    "version": 3
   },
   "file_extension": ".py",
   "mimetype": "text/x-python",
   "name": "python",
   "nbconvert_exporter": "python",
   "pygments_lexer": "ipython3",
   "version": "3.6.9"
  }
 },
 "nbformat": 4,
 "nbformat_minor": 2
}
