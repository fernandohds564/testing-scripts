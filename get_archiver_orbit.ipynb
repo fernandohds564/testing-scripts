{
 "cells": [
  {
   "cell_type": "code",
   "execution_count": 1,
   "metadata": {
    "ExecuteTime": {
     "end_time": "2020-10-14T19:44:37.802730Z",
     "start_time": "2020-10-14T19:44:35.916016Z"
    }
   },
   "outputs": [],
   "source": [
    "%matplotlib qt5\n",
    "\n",
    "import datetime\n",
    "\n",
    "import matplotlib.pyplot as mplt\n",
    "import matplotlib.gridspec as mplgs\n",
    "import matplotlib.cm as mcmap\n",
    "\n",
    "from siriuspy.clientarch import OrbitBPM, OrbitSOFB, ClientArchiver\n",
    "import siriuspy.envars as envars\n",
    "import numpy as np"
   ]
  },
  {
   "cell_type": "code",
   "execution_count": 2,
   "metadata": {
    "ExecuteTime": {
     "end_time": "2020-10-14T19:44:37.806529Z",
     "start_time": "2020-10-14T19:44:37.804091Z"
    }
   },
   "outputs": [],
   "source": [
    "clt = ClientArchiver('https://10.0.38.42')"
   ]
  },
  {
   "cell_type": "code",
   "execution_count": 3,
   "metadata": {
    "ExecuteTime": {
     "end_time": "2020-10-14T19:44:38.181122Z",
     "start_time": "2020-10-14T19:44:37.808604Z"
    }
   },
   "outputs": [],
   "source": [
    "# Create PVArch device (SI Vertical Orbit)\n",
    "orbitx = OrbitBPM(OrbitBPM.DEVICES.SI_X, connector=clt)\n",
    "orbity = OrbitBPM(OrbitBPM.DEVICES.SI_Y, connector=clt)"
   ]
  },
  {
   "cell_type": "code",
   "execution_count": 4,
   "metadata": {
    "ExecuteTime": {
     "end_time": "2020-10-14T19:45:21.585802Z",
     "start_time": "2020-10-14T19:44:39.005466Z"
    }
   },
   "outputs": [],
   "source": [
    "# define start, stop timestamps and averagering window for first retrieval\n",
    "orbitx.timestamp_start = orbity.Time(2020, 10, 14, 14, 0, 0)\n",
    "orbitx.timestamp_stop = orbity.Time(2020, 10, 14, 14, 10, 0)\n",
    "orbity.timestamp_start = orbity.Time(2020, 10, 14, 14, 0, 0)\n",
    "orbity.timestamp_stop = orbity.Time(2020, 10, 14, 14, 10, 0)\n",
    "\n",
    "# retrieve first orbit data at 15h\n",
    "orbitx.update(interpolate=False)\n",
    "orbity.update(interpolate=False)"
   ]
  },
  {
   "cell_type": "code",
   "execution_count": 15,
   "metadata": {
    "ExecuteTime": {
     "end_time": "2020-10-14T19:48:09.126185Z",
     "start_time": "2020-10-14T19:48:08.940641Z"
    }
   },
   "outputs": [],
   "source": [
    "orbx, orby = [], []\n",
    "timex, timey = [], []\n",
    "namesx = sorted(orbitx._pvdata)\n",
    "namesy = sorted(orbity._pvdata)\n",
    "\n",
    "for namex, namey in zip(namesx, namesy):\n",
    "    pvdatax = orbitx._pvdata[namex]\n",
    "    pvdatay = orbity._pvdata[namey]\n",
    "    valuex = np.array(pvdatax.value)\n",
    "    valuex -= valuex.mean()\n",
    "    valuey = np.array(pvdatay.value)\n",
    "    valuey -= valuey.mean()\n",
    "    timex.append(pvdatax.timestamp)\n",
    "    timey.append(pvdatay.timestamp)\n",
    "    orbx.append(valuex)\n",
    "    orby.append(valuey)\n",
    "# orbx = np.array(orbx)\n",
    "# orby = np.array(orby)"
   ]
  },
  {
   "cell_type": "code",
   "execution_count": 39,
   "metadata": {
    "ExecuteTime": {
     "end_time": "2020-10-14T19:32:25.367886Z",
     "start_time": "2020-10-14T19:32:25.294712Z"
    }
   },
   "outputs": [],
   "source": [
    "f = mplt.figure(figsize=(9,6))\n",
    "gs = mplgs.GridSpec(2, 1)\n",
    "gs.update(left=0.12, right=0.8, top=0.95, bottom=0.12)\n",
    "\n",
    "ax1 = f.add_subplot(gs[0, 0])\n",
    "ax2 = f.add_subplot(gs[1, 0], sharex=ax1)\n",
    "\n",
    "indcs = np.arange(43, 54)\n",
    "timestamps = orbitx._pvdata['SI-01M2:DI-BPM:PosX-Mon'].timestamp\n",
    "colors = mcmap.jet(np.linspace(0, 1, len(indcs)))\n",
    "\n",
    "# line = ax1.pcolormesh(orbx, cmap='jet', vmin=0, vmax=orbx.max())\n",
    "linex = ax1.plot(orbx[indcs])\n",
    "liney = ax2.plot(orby[indcs])\n",
    "for i, idx in enumerate(indcs):\n",
    "    linex[i].set_label(str(datetime.datetime.fromtimestamp(timestamps[idx]))[10:])\n",
    "    linex[i].set_color(colors[i])\n",
    "    liney[i].set_color(colors[i])\n",
    "# for i, (cor, namex, namey) in enumerate(zip(colors, namesx, namesy)):\n",
    "#     ax2.plot(pvdatay.timestamp, valuey, color=cor)\n",
    "#     if not i % 8:\n",
    "#         line.set_label(namex.device_name)\n",
    "ax1.legend(loc='upper left', bbox_to_anchor=(1, 1))\n",
    "ax2.set_xlabel('BPM Index')\n",
    "ax1.set_ylabel('Horizontal [um]')\n",
    "ax2.set_ylabel('Vertical [um]')\n",
    "ax1.grid()\n",
    "ax2.grid()\n",
    "f.show()"
   ]
  },
  {
   "cell_type": "code",
   "execution_count": 33,
   "metadata": {
    "ExecuteTime": {
     "end_time": "2020-10-14T19:29:20.495967Z",
     "start_time": "2020-10-14T19:29:20.482627Z"
    }
   },
   "outputs": [
    {
     "data": {
      "text/plain": [
       "'2020-10-14 10:59:59.500000'"
      ]
     },
     "execution_count": 33,
     "metadata": {},
     "output_type": "execute_result"
    }
   ],
   "source": [
    "str()"
   ]
  },
  {
   "cell_type": "code",
   "execution_count": null,
   "metadata": {},
   "outputs": [],
   "source": [
    "l.set_label"
   ]
  }
 ],
 "metadata": {
  "hide_input": false,
  "kernelspec": {
   "display_name": "Python 3",
   "language": "python",
   "name": "python3"
  },
  "language_info": {
   "codemirror_mode": {
    "name": "ipython",
    "version": 3
   },
   "file_extension": ".py",
   "mimetype": "text/x-python",
   "name": "python",
   "nbconvert_exporter": "python",
   "pygments_lexer": "ipython3",
   "version": "3.6.9"
  }
 },
 "nbformat": 4,
 "nbformat_minor": 4
}
