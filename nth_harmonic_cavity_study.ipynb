{
 "cells": [
  {
   "cell_type": "code",
   "execution_count": 3,
   "metadata": {
    "ExecuteTime": {
     "end_time": "2022-02-09T20:05:29.999102Z",
     "start_time": "2022-02-09T20:05:29.907754Z"
    },
    "init_cell": true,
    "run_control": {
     "marked": false
    }
   },
   "outputs": [],
   "source": [
    "%gui qt5\n",
    "%matplotlib qt5\n",
    "\n",
    "import imp as reload_tool\n",
    "import re\n",
    "import os\n",
    "import sh\n",
    "from functools import partial\n",
    "import pandas as pd\n",
    "\n",
    "import matplotlib.pyplot   as plt\n",
    "import matplotlib.gridspec as gridspec\n",
    "import matplotlib.cm       as cm\n",
    "import matplotlib          as mpl\n",
    "from matplotlib import rcParams\n",
    "from mpl_toolkits.axes_grid1 import make_axes_locatable\n",
    "from matplotlib.ticker import NullFormatter\n",
    "\n",
    "import numpy as np\n",
    "import pycolleff.impedances as imp\n",
    "import pycolleff.sirius as si\n",
    "import pycolleff.colleff as colleff\n",
    "import pycolleff.process_wakes as ems\n",
    "import cppcolleff as cppcolef\n",
    "import pyaccel\n",
    "import pymodels as sirius\n",
    "\n",
    "from IPython.display import Latex\n",
    "from IPython.display import SVG\n",
    "\n",
    "rcParams.update({\n",
    "    'font.size': 22,'lines.linewidth':2,\n",
    "    'axes.grid': True, 'grid.alpha': 0.5,\n",
    "    'grid.linestyle': '--'})"
   ]
  },
  {
   "cell_type": "markdown",
   "metadata": {},
   "source": [
    "# Study of Collective Effects for Sirius\n",
    "\n",
    "First we load the appropriate model of the ring:"
   ]
  },
  {
   "cell_type": "code",
   "execution_count": 4,
   "metadata": {
    "ExecuteTime": {
     "end_time": "2022-02-09T20:05:30.110599Z",
     "start_time": "2022-02-09T20:05:30.002619Z"
    },
    "init_cell": true
   },
   "outputs": [],
   "source": [
    "#Definition of default colormap function:\n",
    "default_cm = lambda x: cm.brg(np.linspace(0,1,x+1 if isinstance(x,int) else len(x)+1))\n",
    "# default_cm = lambda x: cm.nipy_spectral(np.linspace(0,1,x+1 if isinstance(x,int) else len(x)+1))"
   ]
  },
  {
   "cell_type": "code",
   "execution_count": 23,
   "metadata": {
    "ExecuteTime": {
     "end_time": "2022-02-09T20:11:50.261767Z",
     "start_time": "2022-02-09T20:11:50.258912Z"
    }
   },
   "outputs": [
    {
     "name": "stdout",
     "output_type": "stream",
     "text": [
      "Lattice Version             : SI.v20.01-s05.02.Phase2\n",
      "Circumference [m]           :       518.396       \n",
      "Revolution Period [us]      :        1.729        \n",
      "Revolution Frequency [kHz]  :       578.3078      \n",
      "Energy [GeV]                :         3.0         \n",
      "Momentum Compaction         :       1.70e-04      \n",
      "Harmonic Number             :         864         \n",
      "Current [mA]                :        350.0        \n",
      "Current per Bunch [mA]      :        0.405        \n",
      "Synchrotron Tune            :      4.600e-03      \n",
      "Tunes x/y                   :    49.110/14.170    \n",
      "Damping Times x/y/e [ms]    :   10.6/ 12.5 /6.9   \n",
      "Energy Spread               :       9.43e-04      \n",
      "Bunch Length [mm]           :       2.66e+00      \n",
      "\n"
     ]
    }
   ],
   "source": [
    "ring = si.create_ring(phase=2)\n",
    "ring.nom_cur = 350e-3\n",
    "print(ring)"
   ]
  },
  {
   "cell_type": "markdown",
   "metadata": {
    "ExecuteTime": {
     "end_time": "2021-05-21T19:24:24.847958Z",
     "start_time": "2021-05-21T19:24:24.846030Z"
    }
   },
   "source": [
    "# Longitudinal Plane"
   ]
  },
  {
   "cell_type": "code",
   "execution_count": 24,
   "metadata": {
    "ExecuteTime": {
     "end_time": "2022-02-09T20:11:52.616480Z",
     "start_time": "2022-02-09T20:11:52.555122Z"
    }
   },
   "outputs": [],
   "source": [
    "# Longitudinal modes\n",
    "wr, RovQ, Q = np.array([\n",
    "    [2466, 0.17, 16000], \n",
    "    [2532, 2.60, 1100],  \n",
    "    [2606, 11.0, 240],\n",
    "    [2695, 0.12, 22000],\n",
    "    [2826, 6.57, 380],  \n",
    "    [2979, 8.61, 270], \n",
    "    [3084, 1.93, 1200],\n",
    "    [3180, 0.30, 7500],\n",
    "    [3358, 0.86, 2400],\n",
    "    [3594, 0.43, 4500],\n",
    "    ]).T\n",
    "wr *= 1e6 * 2 * np.pi\n",
    "Rs = RovQ * Q\n",
    "\n",
    "w = np.linspace(490, 30900, 100000) * 1e6*2*np.pi\n",
    "w = np.hstack([-np.flipud(w), w])\n",
    "Zl = imp.longitudinal_resonator(w=w, wr=wr, Rs=Rs, Q=Q)\n",
    "\n",
    "\n",
    "# fig = plt.figure()\n",
    "# plt.plot(w/2/np.pi*1e-9, Zl.real*1e-6)\n",
    "# plt.plot(p/2/np.pi*1e-9, 0*p,'.')\n",
    "# plt.plot(ph/2/np.pi*1e-9, 0*ph,'.')\n",
    "# fig.show()"
   ]
  },
  {
   "cell_type": "code",
   "execution_count": 25,
   "metadata": {
    "ExecuteTime": {
     "end_time": "2022-02-09T20:11:54.882314Z",
     "start_time": "2022-02-09T20:11:54.761356Z"
    }
   },
   "outputs": [],
   "source": [
    "fig, ax1 = plt.subplots(figsize=(11,4))\n",
    "\n",
    "ring = si.create_ring(phase=1)\n",
    "# ring.nus = 2/578\n",
    "curr = np.array([400, 350, 300])\n",
    "colors = default_cm(len(curr))\n",
    "# ax1.semilogy(wr/2/np.pi/1e9, Rs*1e-3, 'ko', label='SLS Rs')\n",
    "Z = []\n",
    "for cu, c in zip(curr, colors):\n",
    "    ring.nom_cur = cu * 1e-3\n",
    "    lab = f'{cu:0.1f} mA'\n",
    "    Z.append(ring.longitudinal_cbi(w=w, Zl=Zl, m=1, inverse=True))\n",
    "    freq = w/2/np.pi/1e9\n",
    "    ax1.plot(freq, Z[-1]*1e-3, color=c, label=lab)\n",
    "\n",
    "ax1.set_title('Min. Shunt Impedance (Rs) for CB Instability')\n",
    "thres = 2*ring.nus() * ring.E/ring.mom_cmpct/ring.dampte/ 1e9\n",
    "ax1.annotate(\n",
    "    r'$I_0 = {0:.0f}\\mathrm{{mA}} \\longrightarrow \\,\\,$'.format(350) +\n",
    "    r'$R_s [\\mathrm{{k}}\\Omega] < \\frac{{{0:.1f}}}{{f[\\mathrm{{GHz}}]}}$'.format(thres/0.35/1e3),\n",
    "    xy=(0.3, 0.5), xycoords='axes fraction')\n",
    "ax1.set_xlim([1, 10])\n",
    "ax1.set_ylim([1, 70])\n",
    "ax1.set_xlabel('Frequency [GHz]')\n",
    "ax1.set_ylabel('Re$Z_L$ [k$\\Omega$]')\n",
    "ax1.legend(loc='upper right', fontsize='x-small')\n",
    "fig.tight_layout()\n",
    "plt.show()\n",
    "\n",
    "# fig.savefig('long_cbi_minimum_impedance.png')"
   ]
  },
  {
   "cell_type": "markdown",
   "metadata": {},
   "source": [
    "## Robinson Instability"
   ]
  },
  {
   "cell_type": "code",
   "execution_count": 28,
   "metadata": {
    "ExecuteTime": {
     "end_time": "2022-02-09T20:14:36.488654Z",
     "start_time": "2022-02-09T20:14:36.472752Z"
    }
   },
   "outputs": [],
   "source": [
    "# Longitudinal modes\n",
    "def get_impedance_robinson(ws, dtune=45.897e3, RovQ=90, Q=4e8):\n",
    "    Rs = RovQ * Q\n",
    "    wr = frf + dtune\n",
    "    wr *= 2*np.pi\n",
    "\n",
    "    Zl = imp.longitudinal_resonator(w=ws, wr=wr, Rs=Rs, Q=Q)\n",
    "    return Zl\n",
    "\n",
    "frf = 3*ring.f0*ring.harm_num\n",
    "w = np.linspace(1400, 1800, 100000)\n",
    "w = np.r_[w, 3000] * 1e6*2*np.pi\n",
    "w = np.r_[-np.flipud(w), w]\n",
    "\n",
    "# fig = plt.figure()\n",
    "# plt.plot(w/2/np.pi*1e-9, Zl.real*1e-6)\n",
    "# plt.plot(p/2/np.pi*1e-9, 0*p,'.')\n",
    "# plt.plot(ph/2/np.pi*1e-9, 0*ph,'.')\n",
    "# fig.show()"
   ]
  },
  {
   "cell_type": "code",
   "execution_count": 36,
   "metadata": {
    "ExecuteTime": {
     "end_time": "2022-02-09T20:19:15.047903Z",
     "start_time": "2022-02-09T20:19:15.018432Z"
    }
   },
   "outputs": [],
   "source": [
    "RovQ = 90\n",
    "dtunes = np.linspace(36, 48, 50) * 1e3\n",
    "\n",
    "# RovQ = 180\n",
    "# dtunes = np.linspace(75, 95, 50) * 1e3\n",
    "\n",
    "grates, tshifts = [], []\n",
    "for dtune in dtunes:\n",
    "    func = partial(get_impedance_robinson, dtune=dtune, RovQ=RovQ)\n",
    "    deltaw, wp, Zl_interp, Zleff = ring.longitudinal_cbi(w=w, Zl=func, m=1, full=True)\n",
    "    deltaw *= ring.f0 * ring.nus() * 2* np.pi\n",
    "    grates.append(deltaw.imag.max())\n",
    "    tshifts.append(deltaw.real.max()/2/np.pi)\n",
    "\n",
    "grates = np.array(grates)\n",
    "tshifts = np.array(tshifts)"
   ]
  },
  {
   "cell_type": "code",
   "execution_count": 16,
   "metadata": {
    "ExecuteTime": {
     "end_time": "2022-02-09T20:06:40.992623Z",
     "start_time": "2022-02-09T20:06:40.906730Z"
    }
   },
   "outputs": [],
   "source": [
    "plt.figure()\n",
    "Zl = func(w)\n",
    "plt.semilogy(w/2/np.pi, Zl.real)\n",
    "plt.semilogy(wp/2/np.pi, Zl_interp.real, 'o')\n",
    "plt.axvline(frf, color='k', ls='--')\n",
    "plt.show()"
   ]
  },
  {
   "cell_type": "code",
   "execution_count": 17,
   "metadata": {
    "ExecuteTime": {
     "end_time": "2022-02-09T20:07:01.504981Z",
     "start_time": "2022-02-09T20:07:01.227780Z"
    }
   },
   "outputs": [],
   "source": [
    "fig, (ax1, ax2) = plt.subplots(2, 1, figsize=(10, 8), sharex=True)\n",
    "ax2.set_xlabel('Coupled Bunch Mode')\n",
    "ax1.set_ylabel('Growth Rate [1/s]')\n",
    "ax2.set_ylabel('Frequency Shift [Hz]')\n",
    "\n",
    "ax1.plot(deltaw.imag, 'o')\n",
    "ax2.plot(deltaw.real/2/np.pi, 'o')\n",
    "fig.tight_layout()\n",
    "plt.show()"
   ]
  },
  {
   "cell_type": "code",
   "execution_count": 37,
   "metadata": {
    "ExecuteTime": {
     "end_time": "2022-02-09T20:19:21.831022Z",
     "start_time": "2022-02-09T20:19:21.459817Z"
    }
   },
   "outputs": [],
   "source": [
    "fig, (ax1, ax2) = plt.subplots(2, 1, figsize=(10, 8), sharex=True)\n",
    "ax2.set_xlabel('Cavity Detune [kHz]')\n",
    "ax1.set_ylabel('Growth Rate [1/s]')\n",
    "ax2.set_ylabel('Frequency Shift [Hz]')\n",
    "\n",
    "ax1.plot(dtunes/1e3, grates)\n",
    "ax2.plot(dtunes/1e3, tshifts)\n",
    "fig.tight_layout()\n",
    "plt.show()"
   ]
  },
  {
   "cell_type": "markdown",
   "metadata": {},
   "source": [
    "# Transverse Plane"
   ]
  },
  {
   "cell_type": "code",
   "execution_count": 26,
   "metadata": {
    "ExecuteTime": {
     "end_time": "2022-02-09T20:12:40.791228Z",
     "start_time": "2022-02-09T20:12:40.729162Z"
    }
   },
   "outputs": [],
   "source": [
    "# Transverse modes\n",
    "wr, RovQ, Q = np.array([\n",
    "    [1721, 20.0 , 6500],\n",
    "    [1723, 21.8 , 600],\n",
    "    [1935, 0.01 , 1.1e7],\n",
    "    [2056, 255  , 510],\n",
    "    [2103, 27.6 , 4710],\n",
    "    [2148, 437  , 300],\n",
    "    [2303, 10.1 , 12900],\n",
    "    [2503, 11.1 , 11700],\n",
    "    [2712, 63.8 , 2040],\n",
    "    [2865, 10.3 , 12600],\n",
    "    ]).T\n",
    "wr *= 1e6 * 2 * np.pi\n",
    "Rs = RovQ * Q\n",
    "\n",
    "p = np.arange(0,900)*ring.w0\n",
    "ph = np.arange(0,2)*ring.w0*ring.nbun\n",
    "w = np.linspace(490, 30900, 100000) * 1e6*2*np.pi\n",
    "w = np.hstack([-np.flipud(w), w])\n",
    "Zt = imp.transverse_resonator(w=w, wr=wr, Rs=Rs, Q=Q)\n",
    "# plt.figure()\n",
    "# plt.plot(w/2/np.pi*1e-9, Zt.real*1e-6)\n",
    "# plt.plot(p/2/np.pi*1e-9, 0*p,'.')\n",
    "# plt.plot(ph/2/np.pi*1e-9, 0*ph,'.')\n",
    "# plt.show()"
   ]
  },
  {
   "cell_type": "code",
   "execution_count": 27,
   "metadata": {
    "ExecuteTime": {
     "end_time": "2022-02-09T20:12:41.511677Z",
     "start_time": "2022-02-09T20:12:41.428132Z"
    }
   },
   "outputs": [],
   "source": [
    "fig, ax1 = plt.subplots(figsize=(9,5))\n",
    "gs = gridspec.GridSpec(1, 1)\n",
    "\n",
    "# ax1.semilogy(wr/2/np.pi/1e9, Rs*1e-6, 'ko', label='SLS Rs')\n",
    "\n",
    "ring = si.create_ring(phase=1)\n",
    "ring.chromx = 0\n",
    "ring.chromy = 0\n",
    "# ring.nus = 2/578\n",
    "curr = np.array([400, 350, 300])\n",
    "\n",
    "colors = default_cm(len(curr))\n",
    "betat = 4.0\n",
    "for cu, c in zip(curr, colors):\n",
    "    ring.nom_cur = cu*1e-3\n",
    "    lab = f'{cu:0.1f} mA'\n",
    "    Z = ring.transverse_cbi(w=w, Zt=Zt, m=0, inverse=True, plane='y')/betat\n",
    "    ax1.plot(w/2/np.pi/1e9, Z*1e-3, color=c, label=lab)\n",
    "    \n",
    "ax1.set_title('Min. Shunt Impedance (Rs) for CB Instability')\n",
    "thres = 2*ring.E/ring.dampty/ ring.f0 / betat\n",
    "ax1.annotate(\n",
    "    r'$I_0 = {0:.0f}\\mathrm{{mA}}, \\beta_y = {1:.1f} \\mathrm{{m}} \\longrightarrow \\,\\,$'.format(350, betat) +\n",
    "    r'$R_y < {0:.1f} \\mathrm{{k}}\\Omega/m$'.format(thres/0.35/1e3),\n",
    "    xy=(0.2, 0.8), xycoords='axes fraction', fontsize='small')\n",
    "\n",
    "ax1.set_xlim([1, 10])\n",
    "ax1.set_ylim([400, 800])\n",
    "ax1.set_xlabel('Frequency [GHz]')\n",
    "ax1.set_ylabel('Re$Z_y$ [k$\\Omega$]')\n",
    "ax1.legend(loc='upper left', fontsize='x-small')\n",
    "fig.tight_layout()\n",
    "plt.show()"
   ]
  },
  {
   "cell_type": "code",
   "execution_count": null,
   "metadata": {},
   "outputs": [],
   "source": []
  }
 ],
 "metadata": {
  "celltoolbar": "Initialization Cell",
  "hide_input": false,
  "kernelspec": {
   "display_name": "Python 3",
   "language": "python",
   "name": "python3"
  },
  "language_info": {
   "codemirror_mode": {
    "name": "ipython",
    "version": 3
   },
   "file_extension": ".py",
   "mimetype": "text/x-python",
   "name": "python",
   "nbconvert_exporter": "python",
   "pygments_lexer": "ipython3",
   "version": "3.6.9"
  }
 },
 "nbformat": 4,
 "nbformat_minor": 1
}
